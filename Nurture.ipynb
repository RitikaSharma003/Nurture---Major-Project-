{
 "cells": [
  {
   "cell_type": "code",
   "execution_count": 15,
   "id": "3731d11a",
   "metadata": {},
   "outputs": [],
   "source": [
    "# for KNN \n",
    "# import pandas as pd\n",
    "# import numpy as np\n",
    "# from sklearn.model_selection import train_test_split\n",
    "# from sklearn.preprocessing import StandardScaler\n",
    "# from sklearn.neighbors import KNeighborsClassifier\n",
    "# from sklearn.metrics import confusion_matrix\n",
    "# from sklearn.metrics import accuracy_score\n",
    "# from sklearn.metrics import f1_score\n",
    "# # for decision tree\n",
    "# import matplotlib.pyplot as mtp  \n",
    "# %matplotlib inline\n",
    "# # for linear regression\n",
    "# from sklearn.linear_model import LinearRegression\n",
    "# import seaborn as sns\n",
    "# # for SVM\n",
    "# from sklearn import svm, datasets\n",
    "# from sklearn.pipeline import make_pipeline\n",
    "# from  sklearn.preprocessing import StandardScaler\n",
    "# # for CNN\n",
    "# # !pip install tensorflow\n",
    "# from keras.datasets import mnist\n",
    "# from keras.models import Sequential\n",
    "# from keras.layers import Dense,Dropout\n",
    "# from keras.utils import np_utils\n",
    "# from keras.utils import plot_model\n",
    "# from sklearn.model_selection import train_test_split\n",
    "# from numpy import loadtxt \n",
    "# # for Scikit learn \n",
    "# from sklearn import kernel_approximation\n",
    "# from sklearn.svm import SVC\n",
    "# # for GBDT\n",
    "# from sklearn.ensemble import GradientBoostingRegressor\n",
    "# from sklearn.model_selection import train_test_split\n",
    "# from sklearn.metrics import mean_squared_error\n",
    "# from sklearn.datasets import load_boston\n",
    "# from sklearn.metrics import mean_absolute_error"
   ]
  },
  {
   "cell_type": "code",
   "execution_count": 16,
   "id": "7519a502",
   "metadata": {},
   "outputs": [],
   "source": [
    "import pandas as pd\n",
    "import matplotlib.pyplot as plt \n",
    "import numpy as np\n",
    "from sklearn.model_selection import train_test_split\n",
    "from sklearn.preprocessing import StandardScaler\n",
    "from sklearn.neighbors import KNeighborsClassifier\n",
    "from sklearn.metrics import confusion_matrix\n",
    "from sklearn.metrics import accuracy_score\n",
    "from sklearn.metrics import f1_score\n",
    "# for decision tree\n",
    "import matplotlib.pyplot as mtp  \n",
    "%matplotlib inline\n",
    "# for linear regression\n",
    "from sklearn.linear_model import LinearRegression\n",
    "import seaborn as sns\n",
    "# for SVM\n",
    "from sklearn import svm, datasets\n",
    "from sklearn.pipeline import make_pipeline\n",
    "from  sklearn.preprocessing import StandardScaler\n",
    "import warnings\n",
    "warnings.filterwarnings('ignore')"
   ]
  },
  {
   "cell_type": "code",
   "execution_count": 17,
   "id": "8e35dac4",
   "metadata": {},
   "outputs": [
    {
     "data": {
      "text/html": [
       "<div>\n",
       "<style scoped>\n",
       "    .dataframe tbody tr th:only-of-type {\n",
       "        vertical-align: middle;\n",
       "    }\n",
       "\n",
       "    .dataframe tbody tr th {\n",
       "        vertical-align: top;\n",
       "    }\n",
       "\n",
       "    .dataframe thead th {\n",
       "        text-align: right;\n",
       "    }\n",
       "</style>\n",
       "<table border=\"1\" class=\"dataframe\">\n",
       "  <thead>\n",
       "    <tr style=\"text-align: right;\">\n",
       "      <th></th>\n",
       "      <th>Heart Rate</th>\n",
       "      <th>Pulse Rate</th>\n",
       "      <th>Temperature</th>\n",
       "      <th>Skin Senstivity</th>\n",
       "      <th>Result</th>\n",
       "    </tr>\n",
       "  </thead>\n",
       "  <tbody>\n",
       "    <tr>\n",
       "      <th>0</th>\n",
       "      <td>70.0</td>\n",
       "      <td>86.0</td>\n",
       "      <td>98.0</td>\n",
       "      <td>3.2</td>\n",
       "      <td>Fear</td>\n",
       "    </tr>\n",
       "    <tr>\n",
       "      <th>1</th>\n",
       "      <td>60.0</td>\n",
       "      <td>85.0</td>\n",
       "      <td>96.9</td>\n",
       "      <td>0.9</td>\n",
       "      <td>Sad</td>\n",
       "    </tr>\n",
       "    <tr>\n",
       "      <th>2</th>\n",
       "      <td>80.0</td>\n",
       "      <td>84.0</td>\n",
       "      <td>98.7</td>\n",
       "      <td>1.8</td>\n",
       "      <td>Shame</td>\n",
       "    </tr>\n",
       "    <tr>\n",
       "      <th>3</th>\n",
       "      <td>67.0</td>\n",
       "      <td>74.0</td>\n",
       "      <td>98.9</td>\n",
       "      <td>3.0</td>\n",
       "      <td>Shame</td>\n",
       "    </tr>\n",
       "    <tr>\n",
       "      <th>4</th>\n",
       "      <td>64.0</td>\n",
       "      <td>79.0</td>\n",
       "      <td>96.8</td>\n",
       "      <td>2.3</td>\n",
       "      <td>Fear</td>\n",
       "    </tr>\n",
       "  </tbody>\n",
       "</table>\n",
       "</div>"
      ],
      "text/plain": [
       "   Heart Rate  Pulse Rate  Temperature  Skin Senstivity Result\n",
       "0        70.0        86.0         98.0              3.2   Fear\n",
       "1        60.0        85.0         96.9              0.9    Sad\n",
       "2        80.0        84.0         98.7              1.8  Shame\n",
       "3        67.0        74.0         98.9              3.0  Shame\n",
       "4        64.0        79.0         96.8              2.3   Fear"
      ]
     },
     "execution_count": 17,
     "metadata": {},
     "output_type": "execute_result"
    }
   ],
   "source": [
    "data=pd.read_csv('mood of child.csv')\n",
    "data.head()"
   ]
  },
  {
   "cell_type": "code",
   "execution_count": 18,
   "id": "f7838b7d",
   "metadata": {},
   "outputs": [
    {
     "data": {
      "text/plain": [
       "Heart Rate         26\n",
       "Pulse Rate         20\n",
       "Temperature        27\n",
       "Skin Senstivity    20\n",
       "Result              0\n",
       "dtype: int64"
      ]
     },
     "execution_count": 18,
     "metadata": {},
     "output_type": "execute_result"
    }
   ],
   "source": [
    "data.isnull().sum()"
   ]
  },
  {
   "cell_type": "code",
   "execution_count": 19,
   "id": "238d5b39",
   "metadata": {},
   "outputs": [
    {
     "data": {
      "text/plain": [
       "Heart Rate         0\n",
       "Pulse Rate         0\n",
       "Temperature        0\n",
       "Skin Senstivity    0\n",
       "Result             0\n",
       "dtype: int64"
      ]
     },
     "execution_count": 19,
     "metadata": {},
     "output_type": "execute_result"
    }
   ],
   "source": [
    "data['Heart Rate'].fillna(data['Heart Rate'].mean(),inplace=True)\n",
    "data['Pulse Rate'].fillna(data['Pulse Rate'].mean(),inplace=True)\n",
    "data['Temperature'].fillna(data['Temperature'].mean(),inplace=True)\n",
    "data['Skin Senstivity'].fillna(data['Skin Senstivity'].mean(),inplace=True)\n",
    "data.isnull().sum()"
   ]
  },
  {
   "cell_type": "code",
   "execution_count": 20,
   "id": "f38c6dab",
   "metadata": {},
   "outputs": [
    {
     "name": "stdout",
     "output_type": "stream",
     "text": [
      "   Heart Rate  Pulse Rate  Temperature  Skin Senstivity\n",
      "0        70.0        86.0         98.0              3.2\n",
      "1        60.0        85.0         96.9              0.9\n",
      "2        80.0        84.0         98.7              1.8\n",
      "3        67.0        74.0         98.9              3.0\n",
      "4        64.0        79.0         96.8              2.3\n",
      "      Heart Rate  Pulse Rate  Temperature  Skin Senstivity\n",
      "0           70.0        86.0         98.0              3.2\n",
      "1           60.0        85.0         96.9              0.9\n",
      "2           80.0        84.0         98.7              1.8\n",
      "3           67.0        74.0         98.9              3.0\n",
      "4           64.0        79.0         96.8              2.3\n",
      "...          ...         ...          ...              ...\n",
      "2994        73.0        87.0         98.6              1.9\n",
      "2995        82.0        70.0         98.2              2.5\n",
      "2996        71.0        71.0         97.5              3.0\n",
      "2997        68.0        71.0         99.3              4.8\n",
      "2998        60.0        86.0         97.9              4.7\n",
      "\n",
      "[2999 rows x 4 columns]\n"
     ]
    }
   ],
   "source": [
    "x=data.iloc[:,0:4]\n",
    "print(x.head())\n",
    "\n",
    "print(x)"
   ]
  },
  {
   "cell_type": "code",
   "execution_count": 21,
   "id": "704d1a02",
   "metadata": {},
   "outputs": [
    {
     "name": "stdout",
     "output_type": "stream",
     "text": [
      "0             Fear\n",
      "1              Sad\n",
      "2            Shame\n",
      "3            Shame\n",
      "4             Fear\n",
      "           ...    \n",
      "2994         Guilt\n",
      "2995       Excited\n",
      "2996          Fear\n",
      "2997    Depression\n",
      "2998    Depression\n",
      "Name: Result, Length: 2999, dtype: object\n",
      "0     Fear\n",
      "1      Sad\n",
      "2    Shame\n",
      "3    Shame\n",
      "4     Fear\n",
      "Name: Result, dtype: object\n",
      "(2999,)\n"
     ]
    }
   ],
   "source": [
    "# train test split \n",
    "y=data.iloc[:,-1]\n",
    "print(y)\n",
    "print(y.head())\n",
    "print(y.shape)"
   ]
  },
  {
   "cell_type": "code",
   "execution_count": 22,
   "id": "90907858",
   "metadata": {},
   "outputs": [],
   "source": [
    "# train test split\n",
    "from sklearn.model_selection import train_test_split\n",
    "x_train,x_test,y_train,y_test=train_test_split(x,y,test_size=0.3,random_state=2)"
   ]
  },
  {
   "cell_type": "code",
   "execution_count": 23,
   "id": "f45565c3",
   "metadata": {},
   "outputs": [
    {
     "name": "stdout",
     "output_type": "stream",
     "text": [
      "      Heart Rate  Pulse Rate  Temperature  Skin Senstivity\n",
      "1139        69.0        99.0         98.5          4.10000\n",
      "606         81.0        86.0         99.3          4.30000\n",
      "2549        61.0        76.0         97.9          0.70000\n",
      "1161        83.0        95.0         99.1          5.00000\n",
      "1003        65.0        67.0         98.3          0.60000\n",
      "...          ...         ...          ...              ...\n",
      "2514        63.0        89.0         98.7          2.26613\n",
      "2347        66.0        84.0         97.7          2.26613\n",
      "1608        86.0        79.0         98.1          3.90000\n",
      "2541        65.0        79.0         97.6          1.90000\n",
      "2575        83.0       106.0         98.7          3.00000\n",
      "\n",
      "[2099 rows x 4 columns]\n",
      "(2099, 4)\n"
     ]
    }
   ],
   "source": [
    "print(x_train)\n",
    "print(x_train.shape)"
   ]
  },
  {
   "cell_type": "code",
   "execution_count": 24,
   "id": "b6ab3baf",
   "metadata": {},
   "outputs": [
    {
     "name": "stdout",
     "output_type": "stream",
     "text": [
      "      Heart Rate  Pulse Rate  Temperature  Skin Senstivity\n",
      "1706        82.0        87.0         98.7              2.3\n",
      "401         75.0        60.0         98.5              0.6\n",
      "1748        72.0        99.0         98.7              3.3\n",
      "1674        76.0        61.0         96.4              1.2\n",
      "914         77.0        74.0         98.3              1.2\n",
      "...          ...         ...          ...              ...\n",
      "1930        84.0        80.0         99.7              3.7\n",
      "1766        86.0        93.0         99.4              3.3\n",
      "547         89.0        76.0         98.8              3.4\n",
      "2365        71.0        61.0         99.4              2.3\n",
      "2112        71.0        73.0         96.8              1.7\n",
      "\n",
      "[900 rows x 4 columns]\n",
      "(900, 4)\n"
     ]
    }
   ],
   "source": [
    "print(x_test)\n",
    "print(x_test.shape)"
   ]
  },
  {
   "cell_type": "code",
   "execution_count": 25,
   "id": "4d01f74c",
   "metadata": {},
   "outputs": [
    {
     "name": "stdout",
     "output_type": "stream",
     "text": [
      "1139    Depression\n",
      "606        Excited\n",
      "2549       Neutral\n",
      "1161         Anger\n",
      "1003         Happy\n",
      "           ...    \n",
      "2514         Happy\n",
      "2347           Sad\n",
      "1608         Anger\n",
      "2541         Guilt\n",
      "2575       Excited\n",
      "Name: Result, Length: 2099, dtype: object\n",
      "(2099,)\n"
     ]
    }
   ],
   "source": [
    "print(y_train)\n",
    "print(y_train.shape)"
   ]
  },
  {
   "cell_type": "code",
   "execution_count": 26,
   "id": "65a23bf6",
   "metadata": {},
   "outputs": [
    {
     "name": "stdout",
     "output_type": "stream",
     "text": [
      "1706    Excited\n",
      "401     Neutral\n",
      "1748      Shame\n",
      "1674        Sad\n",
      "914       Happy\n",
      "         ...   \n",
      "1930      Anger\n",
      "1766    Excited\n",
      "547     Excited\n",
      "2365      Happy\n",
      "2112        Sad\n",
      "Name: Result, Length: 900, dtype: object\n",
      "(900,)\n"
     ]
    }
   ],
   "source": [
    "print(y_test)\n",
    "print(y_test.shape)"
   ]
  },
  {
   "cell_type": "markdown",
   "id": "0449c4c7",
   "metadata": {},
   "source": [
    "# KNN "
   ]
  },
  {
   "cell_type": "code",
   "execution_count": 27,
   "id": "a5c3951e",
   "metadata": {},
   "outputs": [],
   "source": [
    "from sklearn.preprocessing import StandardScaler\n",
    "scaler=StandardScaler()\n"
   ]
  },
  {
   "cell_type": "code",
   "execution_count": 28,
   "id": "f89d3bfd",
   "metadata": {},
   "outputs": [
    {
     "data": {
      "text/plain": [
       "array([[-0.50409158,  1.4693081 ,  0.27249416,  1.56904094],\n",
       "       [ 0.68322028,  0.32842976,  1.39049689,  1.74089191],\n",
       "       [-1.29563281, -0.54916896, -0.56600789, -1.35242539],\n",
       "       ...,\n",
       "       [ 1.17793355, -0.28588935, -0.28650721,  1.39718998],\n",
       "       [-0.89986219, -0.28588935, -0.98525892, -0.32131962],\n",
       "       [ 0.88110558,  2.0836272 ,  0.55199484,  0.62386066]])"
      ]
     },
     "execution_count": 28,
     "metadata": {},
     "output_type": "execute_result"
    }
   ],
   "source": [
    "x_train=scaler.fit_transform(x_train)\n",
    "x_train"
   ]
  },
  {
   "cell_type": "code",
   "execution_count": 29,
   "id": "a11c6557",
   "metadata": {},
   "outputs": [
    {
     "data": {
      "text/plain": [
       "array([[ 0.82526436,  0.47023571,  0.53335496,  0.04621121],\n",
       "       [ 0.12334071, -1.94623333,  0.2590097 , -1.46126696],\n",
       "       [-0.17748371,  1.54422194,  0.53335496,  0.93296308],\n",
       "       ...,\n",
       "       [ 1.52718801, -0.51425168,  0.67052758,  1.02163827],\n",
       "       [-0.27775852, -1.85673447,  1.49356336,  0.04621121],\n",
       "       [-0.27775852, -0.78274824, -2.07292499, -0.48583991]])"
      ]
     },
     "execution_count": 29,
     "metadata": {},
     "output_type": "execute_result"
    }
   ],
   "source": [
    "x_test=scaler.fit_transform(x_test)\n",
    "x_test"
   ]
  },
  {
   "cell_type": "code",
   "execution_count": 30,
   "id": "74f52557",
   "metadata": {},
   "outputs": [
    {
     "data": {
      "text/plain": [
       "45.81484475582123"
      ]
     },
     "execution_count": 30,
     "metadata": {},
     "output_type": "execute_result"
    }
   ],
   "source": [
    "# values of  k \n",
    "# Ist method - sqrt of rows present in x_train \n",
    "np.sqrt(x_train.shape[0])"
   ]
  },
  {
   "cell_type": "code",
   "execution_count": 31,
   "id": "c865a1bd",
   "metadata": {},
   "outputs": [],
   "source": [
    "# k=45\n",
    "k=45\n"
   ]
  },
  {
   "cell_type": "code",
   "execution_count": 32,
   "id": "8077e0ac",
   "metadata": {},
   "outputs": [],
   "source": [
    "from sklearn.neighbors import KNeighborsClassifier\n",
    "from scipy import stats \n",
    "knn=KNeighborsClassifier(n_neighbors=k)"
   ]
  },
  {
   "cell_type": "code",
   "execution_count": 33,
   "id": "09490480",
   "metadata": {},
   "outputs": [
    {
     "data": {
      "text/html": [
       "<style>#sk-container-id-1 {color: black;}#sk-container-id-1 pre{padding: 0;}#sk-container-id-1 div.sk-toggleable {background-color: white;}#sk-container-id-1 label.sk-toggleable__label {cursor: pointer;display: block;width: 100%;margin-bottom: 0;padding: 0.3em;box-sizing: border-box;text-align: center;}#sk-container-id-1 label.sk-toggleable__label-arrow:before {content: \"▸\";float: left;margin-right: 0.25em;color: #696969;}#sk-container-id-1 label.sk-toggleable__label-arrow:hover:before {color: black;}#sk-container-id-1 div.sk-estimator:hover label.sk-toggleable__label-arrow:before {color: black;}#sk-container-id-1 div.sk-toggleable__content {max-height: 0;max-width: 0;overflow: hidden;text-align: left;background-color: #f0f8ff;}#sk-container-id-1 div.sk-toggleable__content pre {margin: 0.2em;color: black;border-radius: 0.25em;background-color: #f0f8ff;}#sk-container-id-1 input.sk-toggleable__control:checked~div.sk-toggleable__content {max-height: 200px;max-width: 100%;overflow: auto;}#sk-container-id-1 input.sk-toggleable__control:checked~label.sk-toggleable__label-arrow:before {content: \"▾\";}#sk-container-id-1 div.sk-estimator input.sk-toggleable__control:checked~label.sk-toggleable__label {background-color: #d4ebff;}#sk-container-id-1 div.sk-label input.sk-toggleable__control:checked~label.sk-toggleable__label {background-color: #d4ebff;}#sk-container-id-1 input.sk-hidden--visually {border: 0;clip: rect(1px 1px 1px 1px);clip: rect(1px, 1px, 1px, 1px);height: 1px;margin: -1px;overflow: hidden;padding: 0;position: absolute;width: 1px;}#sk-container-id-1 div.sk-estimator {font-family: monospace;background-color: #f0f8ff;border: 1px dotted black;border-radius: 0.25em;box-sizing: border-box;margin-bottom: 0.5em;}#sk-container-id-1 div.sk-estimator:hover {background-color: #d4ebff;}#sk-container-id-1 div.sk-parallel-item::after {content: \"\";width: 100%;border-bottom: 1px solid gray;flex-grow: 1;}#sk-container-id-1 div.sk-label:hover label.sk-toggleable__label {background-color: #d4ebff;}#sk-container-id-1 div.sk-serial::before {content: \"\";position: absolute;border-left: 1px solid gray;box-sizing: border-box;top: 0;bottom: 0;left: 50%;z-index: 0;}#sk-container-id-1 div.sk-serial {display: flex;flex-direction: column;align-items: center;background-color: white;padding-right: 0.2em;padding-left: 0.2em;position: relative;}#sk-container-id-1 div.sk-item {position: relative;z-index: 1;}#sk-container-id-1 div.sk-parallel {display: flex;align-items: stretch;justify-content: center;background-color: white;position: relative;}#sk-container-id-1 div.sk-item::before, #sk-container-id-1 div.sk-parallel-item::before {content: \"\";position: absolute;border-left: 1px solid gray;box-sizing: border-box;top: 0;bottom: 0;left: 50%;z-index: -1;}#sk-container-id-1 div.sk-parallel-item {display: flex;flex-direction: column;z-index: 1;position: relative;background-color: white;}#sk-container-id-1 div.sk-parallel-item:first-child::after {align-self: flex-end;width: 50%;}#sk-container-id-1 div.sk-parallel-item:last-child::after {align-self: flex-start;width: 50%;}#sk-container-id-1 div.sk-parallel-item:only-child::after {width: 0;}#sk-container-id-1 div.sk-dashed-wrapped {border: 1px dashed gray;margin: 0 0.4em 0.5em 0.4em;box-sizing: border-box;padding-bottom: 0.4em;background-color: white;}#sk-container-id-1 div.sk-label label {font-family: monospace;font-weight: bold;display: inline-block;line-height: 1.2em;}#sk-container-id-1 div.sk-label-container {text-align: center;}#sk-container-id-1 div.sk-container {/* jupyter's `normalize.less` sets `[hidden] { display: none; }` but bootstrap.min.css set `[hidden] { display: none !important; }` so we also need the `!important` here to be able to override the default hidden behavior on the sphinx rendered scikit-learn.org. See: https://github.com/scikit-learn/scikit-learn/issues/21755 */display: inline-block !important;position: relative;}#sk-container-id-1 div.sk-text-repr-fallback {display: none;}</style><div id=\"sk-container-id-1\" class=\"sk-top-container\"><div class=\"sk-text-repr-fallback\"><pre>KNeighborsClassifier(n_neighbors=45)</pre><b>In a Jupyter environment, please rerun this cell to show the HTML representation or trust the notebook. <br />On GitHub, the HTML representation is unable to render, please try loading this page with nbviewer.org.</b></div><div class=\"sk-container\" hidden><div class=\"sk-item\"><div class=\"sk-estimator sk-toggleable\"><input class=\"sk-toggleable__control sk-hidden--visually\" id=\"sk-estimator-id-1\" type=\"checkbox\" checked><label for=\"sk-estimator-id-1\" class=\"sk-toggleable__label sk-toggleable__label-arrow\">KNeighborsClassifier</label><div class=\"sk-toggleable__content\"><pre>KNeighborsClassifier(n_neighbors=45)</pre></div></div></div></div></div>"
      ],
      "text/plain": [
       "KNeighborsClassifier(n_neighbors=45)"
      ]
     },
     "execution_count": 33,
     "metadata": {},
     "output_type": "execute_result"
    }
   ],
   "source": [
    "# train the model\n",
    "knn.fit(x_train,y_train)\n"
   ]
  },
  {
   "cell_type": "code",
   "execution_count": 34,
   "id": "a0b95940",
   "metadata": {},
   "outputs": [
    {
     "name": "stdout",
     "output_type": "stream",
     "text": [
      "['Anger' 'Neutral' 'Stress' 'Sad' 'Neutral' 'Excited' 'Fear' 'Happy'\n",
      " 'Anger' 'Anger' 'Stress' 'Sad' 'Neutral' 'Anger' 'Happy' 'Neutral'\n",
      " 'Excited' 'Fear' 'Stress' 'Happy' 'Neutral' 'Anger' 'Neutral' 'Stress'\n",
      " 'Depression' 'Shame' 'Depression' 'Excited' 'Excited' 'Neutral' 'Anger'\n",
      " 'Depression' 'Happy' 'Happy' 'Neutral' 'Fear' 'Stress' 'Depression'\n",
      " 'Shame' 'Guilt' 'Stress' 'Happy' 'Fear' 'Sad' 'Happy' 'Stress' 'Stress'\n",
      " 'Guilt' 'Happy' 'Neutral' 'Sad' 'Shame' 'Fear' 'Guilt' 'Fear' 'Sad'\n",
      " 'Shame' 'Stress' 'Fear' 'Fear' 'Fear' 'Anger' 'Guilt' 'Anger' 'Happy'\n",
      " 'Excited' 'Depression' 'Fear' 'Guilt' 'Shame' 'Happy' 'Stress' 'Stress'\n",
      " 'Depression' 'Fear' 'Shame' 'Guilt' 'Excited' 'Happy' 'Stress' 'Guilt'\n",
      " 'Depression' 'Fear' 'Shame' 'Fear' 'Excited' 'Happy' 'Sad' 'Stress'\n",
      " 'Stress' 'Neutral' 'Depression' 'Neutral' 'Happy' 'Guilt' 'Sad' 'Neutral'\n",
      " 'Neutral' 'Neutral' 'Sad' 'Guilt' 'Anger' 'Guilt' 'Depression' 'Sad'\n",
      " 'Anger' 'Happy' 'Neutral' 'Anger' 'Happy' 'Guilt' 'Anger' 'Sad' 'Guilt'\n",
      " 'Fear' 'Happy' 'Fear' 'Fear' 'Happy' 'Excited' 'Neutral' 'Guilt' 'Fear'\n",
      " 'Sad' 'Sad' 'Depression' 'Neutral' 'Stress' 'Depression' 'Happy' 'Stress'\n",
      " 'Shame' 'Guilt' 'Fear' 'Shame' 'Guilt' 'Neutral' 'Anger' 'Happy' 'Fear'\n",
      " 'Fear' 'Guilt' 'Anger' 'Depression' 'Anger' 'Excited' 'Guilt' 'Fear'\n",
      " 'Happy' 'Anger' 'Shame' 'Guilt' 'Anger' 'Guilt' 'Happy' 'Shame' 'Fear'\n",
      " 'Fear' 'Guilt' 'Happy' 'Happy' 'Anger' 'Guilt' 'Fear' 'Sad' 'Anger'\n",
      " 'Anger' 'Sad' 'Happy' 'Shame' 'Sad' 'Happy' 'Shame' 'Excited' 'Fear'\n",
      " 'Excited' 'Sad' 'Stress' 'Anger' 'Sad' 'Stress' 'Anger' 'Anger' 'Neutral'\n",
      " 'Depression' 'Depression' 'Sad' 'Guilt' 'Sad' 'Anger' 'Stress' 'Stress'\n",
      " 'Guilt' 'Neutral' 'Stress' 'Anger' 'Guilt' 'Excited' 'Stress' 'Guilt'\n",
      " 'Fear' 'Fear' 'Anger' 'Shame' 'Sad' 'Neutral' 'Anger' 'Fear' 'Guilt'\n",
      " 'Sad' 'Neutral' 'Stress' 'Anger' 'Stress' 'Shame' 'Sad' 'Depression'\n",
      " 'Shame' 'Guilt' 'Depression' 'Excited' 'Anger' 'Depression' 'Neutral'\n",
      " 'Shame' 'Neutral' 'Anger' 'Fear' 'Depression' 'Anger' 'Sad' 'Happy'\n",
      " 'Anger' 'Neutral' 'Excited' 'Shame' 'Guilt' 'Depression' 'Guilt' 'Stress'\n",
      " 'Happy' 'Fear' 'Guilt' 'Anger' 'Depression' 'Depression' 'Depression'\n",
      " 'Guilt' 'Guilt' 'Anger' 'Stress' 'Guilt' 'Anger' 'Happy' 'Neutral'\n",
      " 'Stress' 'Fear' 'Neutral' 'Neutral' 'Neutral' 'Shame' 'Excited' 'Neutral'\n",
      " 'Excited' 'Happy' 'Neutral' 'Neutral' 'Fear' 'Fear' 'Guilt' 'Happy'\n",
      " 'Fear' 'Fear' 'Sad' 'Neutral' 'Neutral' 'Neutral' 'Neutral' 'Neutral'\n",
      " 'Fear' 'Shame' 'Excited' 'Neutral' 'Happy' 'Anger' 'Fear' 'Neutral'\n",
      " 'Stress' 'Excited' 'Excited' 'Fear' 'Guilt' 'Depression' 'Depression'\n",
      " 'Neutral' 'Happy' 'Sad' 'Depression' 'Guilt' 'Stress' 'Fear' 'Neutral'\n",
      " 'Neutral' 'Shame' 'Shame' 'Guilt' 'Depression' 'Anger' 'Depression'\n",
      " 'Depression' 'Neutral' 'Anger' 'Excited' 'Sad' 'Excited' 'Happy' 'Fear'\n",
      " 'Fear' 'Shame' 'Depression' 'Happy' 'Happy' 'Happy' 'Depression' 'Sad'\n",
      " 'Sad' 'Anger' 'Depression' 'Depression' 'Depression' 'Neutral' 'Shame'\n",
      " 'Neutral' 'Sad' 'Anger' 'Excited' 'Stress' 'Neutral' 'Fear' 'Neutral'\n",
      " 'Happy' 'Fear' 'Anger' 'Neutral' 'Neutral' 'Happy' 'Sad' 'Neutral' 'Fear'\n",
      " 'Fear' 'Excited' 'Guilt' 'Guilt' 'Anger' 'Neutral' 'Neutral' 'Neutral'\n",
      " 'Excited' 'Fear' 'Sad' 'Neutral' 'Anger' 'Shame' 'Fear' 'Happy' 'Neutral'\n",
      " 'Excited' 'Sad' 'Excited' 'Stress' 'Neutral' 'Guilt' 'Shame' 'Shame'\n",
      " 'Fear' 'Anger' 'Guilt' 'Neutral' 'Sad' 'Shame' 'Sad' 'Shame' 'Fear'\n",
      " 'Excited' 'Depression' 'Stress' 'Neutral' 'Fear' 'Fear' 'Sad' 'Neutral'\n",
      " 'Sad' 'Neutral' 'Sad' 'Guilt' 'Shame' 'Neutral' 'Stress' 'Excited' 'Sad'\n",
      " 'Excited' 'Happy' 'Anger' 'Neutral' 'Guilt' 'Anger' 'Anger' 'Anger'\n",
      " 'Happy' 'Neutral' 'Fear' 'Happy' 'Sad' 'Stress' 'Neutral' 'Anger'\n",
      " 'Depression' 'Anger' 'Shame' 'Anger' 'Anger' 'Fear' 'Anger' 'Shame'\n",
      " 'Fear' 'Fear' 'Excited' 'Fear' 'Happy' 'Fear' 'Excited' 'Happy' 'Shame'\n",
      " 'Happy' 'Neutral' 'Fear' 'Excited' 'Guilt' 'Shame' 'Sad' 'Neutral' 'Fear'\n",
      " 'Fear' 'Guilt' 'Neutral' 'Happy' 'Sad' 'Stress' 'Happy' 'Excited'\n",
      " 'Depression' 'Fear' 'Guilt' 'Happy' 'Anger' 'Happy' 'Anger' 'Neutral'\n",
      " 'Sad' 'Stress' 'Stress' 'Fear' 'Happy' 'Depression' 'Stress' 'Fear'\n",
      " 'Neutral' 'Excited' 'Fear' 'Anger' 'Sad' 'Neutral' 'Happy' 'Depression'\n",
      " 'Fear' 'Happy' 'Sad' 'Shame' 'Happy' 'Anger' 'Stress' 'Depression'\n",
      " 'Neutral' 'Anger' 'Fear' 'Happy' 'Guilt' 'Anger' 'Neutral' 'Neutral'\n",
      " 'Neutral' 'Anger' 'Fear' 'Stress' 'Sad' 'Anger' 'Depression' 'Guilt'\n",
      " 'Stress' 'Guilt' 'Shame' 'Depression' 'Neutral' 'Neutral' 'Fear' 'Stress'\n",
      " 'Anger' 'Fear' 'Excited' 'Stress' 'Stress' 'Depression' 'Guilt' 'Shame'\n",
      " 'Neutral' 'Guilt' 'Happy' 'Guilt' 'Happy' 'Stress' 'Happy' 'Stress'\n",
      " 'Shame' 'Sad' 'Anger' 'Stress' 'Happy' 'Depression' 'Neutral' 'Neutral'\n",
      " 'Excited' 'Stress' 'Shame' 'Fear' 'Anger' 'Anger' 'Happy' 'Depression'\n",
      " 'Guilt' 'Anger' 'Neutral' 'Guilt' 'Excited' 'Excited' 'Neutral' 'Sad'\n",
      " 'Happy' 'Fear' 'Neutral' 'Anger' 'Excited' 'Shame' 'Neutral' 'Guilt'\n",
      " 'Fear' 'Anger' 'Neutral' 'Excited' 'Sad' 'Fear' 'Shame' 'Sad'\n",
      " 'Depression' 'Stress' 'Neutral' 'Shame' 'Depression' 'Shame' 'Sad'\n",
      " 'Anger' 'Shame' 'Excited' 'Happy' 'Excited' 'Neutral' 'Neutral' 'Sad'\n",
      " 'Guilt' 'Fear' 'Anger' 'Guilt' 'Fear' 'Fear' 'Neutral' 'Neutral' 'Guilt'\n",
      " 'Shame' 'Sad' 'Anger' 'Guilt' 'Fear' 'Depression' 'Stress' 'Neutral'\n",
      " 'Fear' 'Anger' 'Shame' 'Happy' 'Depression' 'Sad' 'Neutral' 'Neutral'\n",
      " 'Neutral' 'Anger' 'Guilt' 'Depression' 'Guilt' 'Excited' 'Sad' 'Sad'\n",
      " 'Shame' 'Happy' 'Fear' 'Happy' 'Neutral' 'Happy' 'Neutral' 'Guilt' 'Sad'\n",
      " 'Guilt' 'Guilt' 'Neutral' 'Happy' 'Anger' 'Anger' 'Guilt' 'Anger' 'Anger'\n",
      " 'Happy' 'Depression' 'Excited' 'Fear' 'Shame' 'Shame' 'Neutral' 'Happy'\n",
      " 'Anger' 'Fear' 'Neutral' 'Guilt' 'Depression' 'Depression' 'Guilt'\n",
      " 'Neutral' 'Anger' 'Shame' 'Anger' 'Guilt' 'Neutral' 'Sad' 'Happy' 'Fear'\n",
      " 'Fear' 'Guilt' 'Stress' 'Fear' 'Neutral' 'Neutral' 'Anger' 'Happy'\n",
      " 'Depression' 'Guilt' 'Depression' 'Sad' 'Anger' 'Depression' 'Sad'\n",
      " 'Guilt' 'Stress' 'Neutral' 'Anger' 'Anger' 'Depression' 'Depression'\n",
      " 'Fear' 'Happy' 'Anger' 'Happy' 'Neutral' 'Neutral' 'Fear' 'Excited'\n",
      " 'Happy' 'Happy' 'Sad' 'Excited' 'Depression' 'Stress' 'Excited' 'Neutral'\n",
      " 'Fear' 'Neutral' 'Anger' 'Happy' 'Anger' 'Fear' 'Depression' 'Excited'\n",
      " 'Shame' 'Sad' 'Stress' 'Happy' 'Happy' 'Depression' 'Sad' 'Guilt' 'Anger'\n",
      " 'Fear' 'Neutral' 'Depression' 'Neutral' 'Neutral' 'Fear' 'Sad' 'Stress'\n",
      " 'Excited' 'Stress' 'Depression' 'Depression' 'Neutral' 'Anger' 'Happy'\n",
      " 'Happy' 'Anger' 'Anger' 'Neutral' 'Depression' 'Anger' 'Anger' 'Fear'\n",
      " 'Neutral' 'Neutral' 'Depression' 'Anger' 'Fear' 'Neutral' 'Depression'\n",
      " 'Fear' 'Excited' 'Neutral' 'Happy' 'Stress' 'Excited' 'Guilt' 'Happy'\n",
      " 'Happy' 'Anger' 'Stress' 'Happy' 'Happy' 'Happy' 'Guilt' 'Stress'\n",
      " 'Depression' 'Guilt' 'Stress' 'Stress' 'Anger' 'Fear' 'Fear' 'Fear'\n",
      " 'Fear' 'Depression' 'Guilt' 'Fear' 'Shame' 'Depression' 'Guilt' 'Anger'\n",
      " 'Guilt' 'Sad' 'Happy' 'Excited' 'Excited' 'Neutral' 'Sad' 'Fear'\n",
      " 'Depression' 'Excited' 'Fear' 'Depression' 'Sad' 'Neutral' 'Neutral'\n",
      " 'Happy' 'Happy' 'Fear' 'Fear' 'Happy' 'Neutral' 'Happy' 'Sad' 'Anger'\n",
      " 'Fear' 'Neutral' 'Fear' 'Neutral' 'Anger' 'Shame' 'Happy' 'Happy'\n",
      " 'Neutral' 'Excited' 'Depression' 'Anger' 'Guilt' 'Depression' 'Guilt'\n",
      " 'Shame' 'Fear' 'Sad' 'Shame' 'Happy' 'Excited' 'Fear' 'Neutral' 'Excited'\n",
      " 'Neutral' 'Fear' 'Anger' 'Depression' 'Anger' 'Fear' 'Anger' 'Anger'\n",
      " 'Depression' 'Fear' 'Guilt' 'Stress' 'Fear' 'Anger' 'Guilt' 'Neutral'\n",
      " 'Shame' 'Anger' 'Guilt' 'Shame' 'Depression' 'Fear' 'Anger' 'Neutral'\n",
      " 'Neutral' 'Guilt' 'Happy' 'Neutral' 'Shame' 'Fear' 'Depression' 'Happy'\n",
      " 'Shame' 'Guilt' 'Anger' 'Fear' 'Neutral' 'Depression' 'Guilt'\n",
      " 'Depression' 'Fear' 'Fear' 'Happy' 'Shame' 'Fear' 'Fear' 'Excited'\n",
      " 'Neutral' 'Anger' 'Anger' 'Shame' 'Sad' 'Fear' 'Excited' 'Sad'\n",
      " 'Depression' 'Fear' 'Anger' 'Happy' 'Sad' 'Depression' 'Neutral' 'Fear'\n",
      " 'Sad' 'Guilt' 'Excited' 'Sad' 'Anger' 'Fear' 'Shame' 'Stress' 'Fear'\n",
      " 'Fear' 'Depression' 'Shame' 'Fear' 'Sad' 'Anger' 'Anger' 'Anger' 'Anger'\n",
      " 'Happy' 'Sad']\n"
     ]
    }
   ],
   "source": [
    "y_pred=knn.predict(x_test)\n",
    "print(y_pred)\n",
    "\n"
   ]
  },
  {
   "cell_type": "code",
   "execution_count": 35,
   "id": "9e9364d6",
   "metadata": {},
   "outputs": [
    {
     "name": "stdout",
     "output_type": "stream",
     "text": [
      "(900,)\n",
      "(900,)\n"
     ]
    }
   ],
   "source": [
    "print(y_pred.shape)\n",
    "print(y_test.shape)\n",
    "\n"
   ]
  },
  {
   "cell_type": "code",
   "execution_count": 36,
   "id": "c0dd42f0",
   "metadata": {},
   "outputs": [
    {
     "data": {
      "text/plain": [
       "0.4666666666666667"
      ]
     },
     "execution_count": 36,
     "metadata": {},
     "output_type": "execute_result"
    }
   ],
   "source": [
    "\n",
    "\n",
    "# compare y_pred and y_shape to check how accurate algorithm is \n",
    "from sklearn.metrics import accuracy_score\n",
    "accuracy_score(y_test,y_pred)"
   ]
  },
  {
   "cell_type": "code",
   "execution_count": 37,
   "id": "8461a5e0",
   "metadata": {},
   "outputs": [
    {
     "data": {
      "text/plain": [
       "array([[61,  1, 17,  0,  0,  0,  0,  0,  1,  0],\n",
       "       [ 4, 46,  0, 11,  6,  4,  0,  0,  7, 16],\n",
       "       [46,  0, 42,  1,  1,  0,  0,  0,  1,  0],\n",
       "       [ 0,  6,  0, 52,  8,  2,  0, 11,  8,  4],\n",
       "       [ 0,  1,  0,  3, 19, 25, 26, 13, 11,  0],\n",
       "       [ 1,  2,  0,  3, 29, 45, 12,  2,  4,  0],\n",
       "       [ 0,  0,  0,  1,  0,  7, 68,  5,  0,  0],\n",
       "       [ 0,  0,  0, 12,  8,  2, 25, 40,  4,  0],\n",
       "       [ 1,  9,  0, 35, 10,  7,  1,  4, 14, 10],\n",
       "       [ 3, 17,  1,  6,  6,  6,  0,  0, 13, 33]], dtype=int64)"
      ]
     },
     "execution_count": 37,
     "metadata": {},
     "output_type": "execute_result"
    }
   ],
   "source": [
    "from sklearn.metrics import confusion_matrix \n",
    "confusion_matrix(y_test,y_pred)"
   ]
  },
  {
   "cell_type": "code",
   "execution_count": 38,
   "id": "6995d84a",
   "metadata": {},
   "outputs": [
    {
     "name": "stdout",
     "output_type": "stream",
     "text": [
      "Accuarcy:- 0.41555555555555557 at K = 1\n"
     ]
    },
    {
     "data": {
      "image/png": "[encoded data removed]",
      "text/plain": [
       "<Figure size 1000x600 with 1 Axes>"
      ]
     },
     "metadata": {},
     "output_type": "display_data"
    }
   ],
   "source": [
    "# 2nd method\n",
    "accuracy=[]\n",
    "for i in range(1,50):\n",
    "    knn=KNeighborsClassifier(n_neighbors=i)\n",
    "    knn.fit(x_train,y_train)\n",
    "    pred_i = knn.predict(x_test)\n",
    "    accuracy.append(accuracy_score(y_test,knn.predict(x_test)))\n",
    "plt.figure(figsize=(10,6))\n",
    "plt.plot(range(1,50),accuracy,color='blue', linestyle='dashed', \n",
    "         marker='o',markerfacecolor='red', markersize=10)    \n",
    "plt.title('Accuracy vs. K Value')\n",
    "plt.xlabel('K')\n",
    "plt.ylabel('Accuracy')\n",
    "print(\"Accuarcy:-\",min(accuracy),\"at K =\",accuracy.index(min(accuracy)))"
   ]
  },
  {
   "cell_type": "markdown",
   "id": "b40aa05b",
   "metadata": {},
   "source": [
    "# 6 moods KNN"
   ]
  },
  {
   "cell_type": "code",
   "execution_count": 39,
   "id": "d342c6e1",
   "metadata": {},
   "outputs": [
    {
     "data": {
      "text/html": [
       "<div>\n",
       "<style scoped>\n",
       "    .dataframe tbody tr th:only-of-type {\n",
       "        vertical-align: middle;\n",
       "    }\n",
       "\n",
       "    .dataframe tbody tr th {\n",
       "        vertical-align: top;\n",
       "    }\n",
       "\n",
       "    .dataframe thead th {\n",
       "        text-align: right;\n",
       "    }\n",
       "</style>\n",
       "<table border=\"1\" class=\"dataframe\">\n",
       "  <thead>\n",
       "    <tr style=\"text-align: right;\">\n",
       "      <th></th>\n",
       "      <th>Heart Rate</th>\n",
       "      <th>Pulse Rate</th>\n",
       "      <th>Temperature</th>\n",
       "      <th>Skin Senstivity</th>\n",
       "      <th>Result</th>\n",
       "    </tr>\n",
       "  </thead>\n",
       "  <tbody>\n",
       "    <tr>\n",
       "      <th>0</th>\n",
       "      <td>69.0</td>\n",
       "      <td>64.0</td>\n",
       "      <td>96.5</td>\n",
       "      <td>1.0</td>\n",
       "      <td>Sad</td>\n",
       "    </tr>\n",
       "    <tr>\n",
       "      <th>1</th>\n",
       "      <td>77.0</td>\n",
       "      <td>63.0</td>\n",
       "      <td>97.6</td>\n",
       "      <td>1.4</td>\n",
       "      <td>Sad</td>\n",
       "    </tr>\n",
       "    <tr>\n",
       "      <th>2</th>\n",
       "      <td>70.0</td>\n",
       "      <td>83.0</td>\n",
       "      <td>NaN</td>\n",
       "      <td>0.9</td>\n",
       "      <td>Neutral</td>\n",
       "    </tr>\n",
       "    <tr>\n",
       "      <th>3</th>\n",
       "      <td>80.0</td>\n",
       "      <td>78.0</td>\n",
       "      <td>97.7</td>\n",
       "      <td>1.3</td>\n",
       "      <td>Sad</td>\n",
       "    </tr>\n",
       "    <tr>\n",
       "      <th>4</th>\n",
       "      <td>100.0</td>\n",
       "      <td>89.0</td>\n",
       "      <td>98.9</td>\n",
       "      <td>2.5</td>\n",
       "      <td>Anger</td>\n",
       "    </tr>\n",
       "  </tbody>\n",
       "</table>\n",
       "</div>"
      ],
      "text/plain": [
       "   Heart Rate  Pulse Rate  Temperature  Skin Senstivity   Result\n",
       "0        69.0        64.0         96.5              1.0      Sad\n",
       "1        77.0        63.0         97.6              1.4      Sad\n",
       "2        70.0        83.0          NaN              0.9  Neutral\n",
       "3        80.0        78.0         97.7              1.3      Sad\n",
       "4       100.0        89.0         98.9              2.5    Anger"
      ]
     },
     "execution_count": 39,
     "metadata": {},
     "output_type": "execute_result"
    }
   ],
   "source": [
    "data=pd.read_csv('6 moodsKNN.csv')\n",
    "data.head()"
   ]
  },
  {
   "cell_type": "code",
   "execution_count": 40,
   "id": "27b48563",
   "metadata": {},
   "outputs": [
    {
     "data": {
      "text/plain": [
       "Heart Rate         4\n",
       "Pulse Rate         5\n",
       "Temperature        5\n",
       "Skin Senstivity    6\n",
       "Result             0\n",
       "dtype: int64"
      ]
     },
     "execution_count": 40,
     "metadata": {},
     "output_type": "execute_result"
    }
   ],
   "source": [
    "data.isnull().sum()"
   ]
  },
  {
   "cell_type": "code",
   "execution_count": 41,
   "id": "0bce3af8",
   "metadata": {},
   "outputs": [
    {
     "data": {
      "text/plain": [
       "Heart Rate         0\n",
       "Pulse Rate         0\n",
       "Temperature        0\n",
       "Skin Senstivity    0\n",
       "Result             0\n",
       "dtype: int64"
      ]
     },
     "execution_count": 41,
     "metadata": {},
     "output_type": "execute_result"
    }
   ],
   "source": [
    "data['Heart Rate'].fillna(data['Heart Rate'].mean(),inplace=True)\n",
    "data['Pulse Rate'].fillna(data['Pulse Rate'].mean(),inplace=True)\n",
    "data['Temperature'].fillna(data['Temperature'].mean(),inplace=True)\n",
    "data['Skin Senstivity'].fillna(data['Skin Senstivity'].mean(),inplace=True)\n",
    "data.isnull().sum()"
   ]
  },
  {
   "cell_type": "code",
   "execution_count": 42,
   "id": "c126a246",
   "metadata": {},
   "outputs": [
    {
     "name": "stdout",
     "output_type": "stream",
     "text": [
      "   Heart Rate  Pulse Rate  Temperature  Skin Senstivity\n",
      "0        69.0        64.0    96.500000              1.0\n",
      "1        77.0        63.0    97.600000              1.4\n",
      "2        70.0        83.0    98.289145              0.9\n",
      "3        80.0        78.0    97.700000              1.3\n",
      "4       100.0        89.0    98.900000              2.5\n",
      "      Heart Rate  Pulse Rate  Temperature  Skin Senstivity\n",
      "0           69.0        64.0    96.500000              1.0\n",
      "1           77.0        63.0    97.600000              1.4\n",
      "2           70.0        83.0    98.289145              0.9\n",
      "3           80.0        78.0    97.700000              1.3\n",
      "4          100.0        89.0    98.900000              2.5\n",
      "...          ...         ...          ...              ...\n",
      "2994        93.0        85.0    99.400000              1.1\n",
      "2995        99.0        60.0    99.200000              0.9\n",
      "2996        78.0        75.0    98.300000              2.0\n",
      "2997        82.0        85.0    98.800000              0.9\n",
      "2998        88.0        78.0    99.000000              3.5\n",
      "\n",
      "[2999 rows x 4 columns]\n"
     ]
    }
   ],
   "source": [
    "x=data.iloc[:,0:4]\n",
    "print(x.head())\n",
    "\n",
    "print(x)"
   ]
  },
  {
   "cell_type": "code",
   "execution_count": 43,
   "id": "557bddba",
   "metadata": {},
   "outputs": [
    {
     "name": "stdout",
     "output_type": "stream",
     "text": [
      "0           Sad\n",
      "1           Sad\n",
      "2       Neutral\n",
      "3           Sad\n",
      "4         Anger\n",
      "         ...   \n",
      "2994      Happy\n",
      "2995      Happy\n",
      "2996     Stress\n",
      "2997      Happy\n",
      "2998      Anger\n",
      "Name: Result, Length: 2999, dtype: object\n",
      "0        Sad\n",
      "1        Sad\n",
      "2    Neutral\n",
      "3        Sad\n",
      "4      Anger\n",
      "Name: Result, dtype: object\n",
      "(2999,)\n"
     ]
    }
   ],
   "source": [
    "# train test split \n",
    "y=data.iloc[:,-1]\n",
    "print(y)\n",
    "print(y.head())\n",
    "print(y.shape)"
   ]
  },
  {
   "cell_type": "code",
   "execution_count": 44,
   "id": "216e59c6",
   "metadata": {},
   "outputs": [],
   "source": [
    "# train test split\n",
    "from sklearn.model_selection import train_test_split\n",
    "x_train,x_test,y_train,y_test=train_test_split(x,y,test_size=0.3,random_state=2)"
   ]
  },
  {
   "cell_type": "code",
   "execution_count": 45,
   "id": "01aaa117",
   "metadata": {},
   "outputs": [
    {
     "name": "stdout",
     "output_type": "stream",
     "text": [
      "      Heart Rate  Pulse Rate  Temperature  Skin Senstivity\n",
      "1139        83.0        71.0         99.4              0.4\n",
      "606         93.0        96.0         98.0              3.7\n",
      "2549        91.0        76.0         99.1              1.0\n",
      "1161        90.0        95.0         99.1              3.5\n",
      "1003        75.0        98.0         97.3              2.0\n",
      "...          ...         ...          ...              ...\n",
      "2514        94.0        94.0         98.1              4.0\n",
      "2347        61.0        61.0         98.6              0.9\n",
      "1608        98.0        70.0         97.9              0.7\n",
      "2541        77.0        98.0         97.8              2.2\n",
      "2575        70.0        82.0         97.9              1.0\n",
      "\n",
      "[2099 rows x 4 columns]\n",
      "(2099, 4)\n"
     ]
    }
   ],
   "source": [
    "print(x_train)\n",
    "print(x_train.shape)"
   ]
  },
  {
   "cell_type": "code",
   "execution_count": 46,
   "id": "338d1288",
   "metadata": {},
   "outputs": [
    {
     "name": "stdout",
     "output_type": "stream",
     "text": [
      "      Heart Rate  Pulse Rate  Temperature  Skin Senstivity\n",
      "1706        63.0        67.0         97.0              1.8\n",
      "401         75.0        78.0         97.8              0.3\n",
      "1748        91.0        84.0         98.2              0.8\n",
      "1674        86.0        99.0         99.3              3.2\n",
      "914         75.0        89.0         97.5              2.6\n",
      "...          ...         ...          ...              ...\n",
      "1930        63.0        66.0         98.6              0.6\n",
      "1766        92.0        99.0         98.7              3.1\n",
      "547         96.0        97.0         98.0              2.0\n",
      "2365        68.0        70.0         97.0              1.3\n",
      "2112        74.0        85.0         98.3              2.4\n",
      "\n",
      "[900 rows x 4 columns]\n",
      "(900, 4)\n"
     ]
    }
   ],
   "source": [
    "print(x_test)\n",
    "print(x_test.shape)"
   ]
  },
  {
   "cell_type": "code",
   "execution_count": 47,
   "id": "07978942",
   "metadata": {},
   "outputs": [
    {
     "name": "stdout",
     "output_type": "stream",
     "text": [
      "1139      Happy\n",
      "606       Anger\n",
      "2549      Happy\n",
      "1161    Neutral\n",
      "1003       Fear\n",
      "         ...   \n",
      "2514      Anger\n",
      "2347    Neutral\n",
      "1608      Happy\n",
      "2541     Stress\n",
      "2575    Neutral\n",
      "Name: Result, Length: 2099, dtype: object\n",
      "(2099,)\n"
     ]
    }
   ],
   "source": [
    "print(y_train)\n",
    "print(y_train.shape)"
   ]
  },
  {
   "cell_type": "code",
   "execution_count": 48,
   "id": "cd9198c3",
   "metadata": {},
   "outputs": [
    {
     "name": "stdout",
     "output_type": "stream",
     "text": [
      "1706        Sad\n",
      "401     Neutral\n",
      "1748      Happy\n",
      "1674      Anger\n",
      "914        Fear\n",
      "         ...   \n",
      "1930    Neutral\n",
      "1766      Anger\n",
      "547        Fear\n",
      "2365        Sad\n",
      "2112        Sad\n",
      "Name: Result, Length: 900, dtype: object\n",
      "(900,)\n"
     ]
    }
   ],
   "source": [
    "print(y_test)\n",
    "print(y_test.shape)"
   ]
  },
  {
   "cell_type": "markdown",
   "id": "87599a35",
   "metadata": {},
   "source": [
    "# KNN"
   ]
  },
  {
   "cell_type": "code",
   "execution_count": 49,
   "id": "1d180033",
   "metadata": {},
   "outputs": [],
   "source": [
    "from sklearn.preprocessing import StandardScaler\n",
    "# from sklearn.preprocessing import StandardScaler imports the StandardScaler class from scikit-learn's preprocessing module. The StandardScaler is a popular method for standardizing features by removing the mean and scaling to unit variance.\n",
    "scaler=StandardScaler()\n"
   ]
  },
  {
   "cell_type": "code",
   "execution_count": 50,
   "id": "bacba2e3",
   "metadata": {},
   "outputs": [
    {
     "data": {
      "text/plain": [
       "array([[ 0.28418834, -0.90717525,  1.54315764, -1.26075028],\n",
       "       [ 1.17312567,  1.24490878, -0.42193988,  1.36600895],\n",
       "       [ 0.9953382 , -0.47675844,  1.12206531, -0.78315769],\n",
       "       ...,\n",
       "       [ 1.61759433, -0.99325861, -0.56230399, -1.02195398],\n",
       "       [-0.24917406,  1.41707551, -0.7026681 ,  0.17202748],\n",
       "       [-0.87143019,  0.03974173, -0.56230399, -0.78315769]])"
      ]
     },
     "execution_count": 50,
     "metadata": {},
     "output_type": "execute_result"
    }
   ],
   "source": [
    "x_train=scaler.fit_transform(x_train)\n",
    "x_train"
   ]
  },
  {
   "cell_type": "code",
   "execution_count": 51,
   "id": "f6a63ae6",
   "metadata": {},
   "outputs": [
    {
     "data": {
      "text/plain": [
       "array([[-1.42458854, -1.24878942, -1.7339782 , -0.1742422 ],\n",
       "       [-0.367441  , -0.29356254, -0.63515039, -1.36405993],\n",
       "       [ 1.04208905,  0.2274703 , -0.08573648, -0.96745402],\n",
       "       ...,\n",
       "       [ 1.4825672 ,  1.3563748 , -0.36044344, -0.01559983],\n",
       "       [-0.9841104 , -0.988273  , -1.7339782 , -0.57084811],\n",
       "       [-0.45553663,  0.31430911,  0.05161699,  0.3016849 ]])"
      ]
     },
     "execution_count": 51,
     "metadata": {},
     "output_type": "execute_result"
    }
   ],
   "source": [
    "x_test=scaler.fit_transform(x_test)\n",
    "x_test"
   ]
  },
  {
   "cell_type": "code",
   "execution_count": 52,
   "id": "37f7a874",
   "metadata": {},
   "outputs": [
    {
     "data": {
      "text/plain": [
       "45.81484475582123"
      ]
     },
     "execution_count": 52,
     "metadata": {},
     "output_type": "execute_result"
    }
   ],
   "source": [
    "# values of  k \n",
    "# Ist method - sqrt of rows present in x_train \n",
    "np.sqrt(x_train.shape[0])\n",
    "# The value of k determines how many neighboring data points are considered when classifying a new data point in k-nearest neighbors algorithm."
   ]
  },
  {
   "cell_type": "code",
   "execution_count": 53,
   "id": "0bd4af9b",
   "metadata": {},
   "outputs": [],
   "source": [
    "k=46"
   ]
  },
  {
   "cell_type": "code",
   "execution_count": 54,
   "id": "c89566ea",
   "metadata": {},
   "outputs": [],
   "source": [
    "from sklearn.neighbors import KNeighborsClassifier\n",
    "from scipy import stats \n",
    "knn=KNeighborsClassifier(n_neighbors=k)"
   ]
  },
  {
   "cell_type": "code",
   "execution_count": 55,
   "id": "7da65402",
   "metadata": {},
   "outputs": [
    {
     "data": {
      "text/html": [
       "<style>#sk-container-id-2 {color: black;}#sk-container-id-2 pre{padding: 0;}#sk-container-id-2 div.sk-toggleable {background-color: white;}#sk-container-id-2 label.sk-toggleable__label {cursor: pointer;display: block;width: 100%;margin-bottom: 0;padding: 0.3em;box-sizing: border-box;text-align: center;}#sk-container-id-2 label.sk-toggleable__label-arrow:before {content: \"▸\";float: left;margin-right: 0.25em;color: #696969;}#sk-container-id-2 label.sk-toggleable__label-arrow:hover:before {color: black;}#sk-container-id-2 div.sk-estimator:hover label.sk-toggleable__label-arrow:before {color: black;}#sk-container-id-2 div.sk-toggleable__content {max-height: 0;max-width: 0;overflow: hidden;text-align: left;background-color: #f0f8ff;}#sk-container-id-2 div.sk-toggleable__content pre {margin: 0.2em;color: black;border-radius: 0.25em;background-color: #f0f8ff;}#sk-container-id-2 input.sk-toggleable__control:checked~div.sk-toggleable__content {max-height: 200px;max-width: 100%;overflow: auto;}#sk-container-id-2 input.sk-toggleable__control:checked~label.sk-toggleable__label-arrow:before {content: \"▾\";}#sk-container-id-2 div.sk-estimator input.sk-toggleable__control:checked~label.sk-toggleable__label {background-color: #d4ebff;}#sk-container-id-2 div.sk-label input.sk-toggleable__control:checked~label.sk-toggleable__label {background-color: #d4ebff;}#sk-container-id-2 input.sk-hidden--visually {border: 0;clip: rect(1px 1px 1px 1px);clip: rect(1px, 1px, 1px, 1px);height: 1px;margin: -1px;overflow: hidden;padding: 0;position: absolute;width: 1px;}#sk-container-id-2 div.sk-estimator {font-family: monospace;background-color: #f0f8ff;border: 1px dotted black;border-radius: 0.25em;box-sizing: border-box;margin-bottom: 0.5em;}#sk-container-id-2 div.sk-estimator:hover {background-color: #d4ebff;}#sk-container-id-2 div.sk-parallel-item::after {content: \"\";width: 100%;border-bottom: 1px solid gray;flex-grow: 1;}#sk-container-id-2 div.sk-label:hover label.sk-toggleable__label {background-color: #d4ebff;}#sk-container-id-2 div.sk-serial::before {content: \"\";position: absolute;border-left: 1px solid gray;box-sizing: border-box;top: 0;bottom: 0;left: 50%;z-index: 0;}#sk-container-id-2 div.sk-serial {display: flex;flex-direction: column;align-items: center;background-color: white;padding-right: 0.2em;padding-left: 0.2em;position: relative;}#sk-container-id-2 div.sk-item {position: relative;z-index: 1;}#sk-container-id-2 div.sk-parallel {display: flex;align-items: stretch;justify-content: center;background-color: white;position: relative;}#sk-container-id-2 div.sk-item::before, #sk-container-id-2 div.sk-parallel-item::before {content: \"\";position: absolute;border-left: 1px solid gray;box-sizing: border-box;top: 0;bottom: 0;left: 50%;z-index: -1;}#sk-container-id-2 div.sk-parallel-item {display: flex;flex-direction: column;z-index: 1;position: relative;background-color: white;}#sk-container-id-2 div.sk-parallel-item:first-child::after {align-self: flex-end;width: 50%;}#sk-container-id-2 div.sk-parallel-item:last-child::after {align-self: flex-start;width: 50%;}#sk-container-id-2 div.sk-parallel-item:only-child::after {width: 0;}#sk-container-id-2 div.sk-dashed-wrapped {border: 1px dashed gray;margin: 0 0.4em 0.5em 0.4em;box-sizing: border-box;padding-bottom: 0.4em;background-color: white;}#sk-container-id-2 div.sk-label label {font-family: monospace;font-weight: bold;display: inline-block;line-height: 1.2em;}#sk-container-id-2 div.sk-label-container {text-align: center;}#sk-container-id-2 div.sk-container {/* jupyter's `normalize.less` sets `[hidden] { display: none; }` but bootstrap.min.css set `[hidden] { display: none !important; }` so we also need the `!important` here to be able to override the default hidden behavior on the sphinx rendered scikit-learn.org. See: https://github.com/scikit-learn/scikit-learn/issues/21755 */display: inline-block !important;position: relative;}#sk-container-id-2 div.sk-text-repr-fallback {display: none;}</style><div id=\"sk-container-id-2\" class=\"sk-top-container\"><div class=\"sk-text-repr-fallback\"><pre>KNeighborsClassifier(n_neighbors=46)</pre><b>In a Jupyter environment, please rerun this cell to show the HTML representation or trust the notebook. <br />On GitHub, the HTML representation is unable to render, please try loading this page with nbviewer.org.</b></div><div class=\"sk-container\" hidden><div class=\"sk-item\"><div class=\"sk-estimator sk-toggleable\"><input class=\"sk-toggleable__control sk-hidden--visually\" id=\"sk-estimator-id-2\" type=\"checkbox\" checked><label for=\"sk-estimator-id-2\" class=\"sk-toggleable__label sk-toggleable__label-arrow\">KNeighborsClassifier</label><div class=\"sk-toggleable__content\"><pre>KNeighborsClassifier(n_neighbors=46)</pre></div></div></div></div></div>"
      ],
      "text/plain": [
       "KNeighborsClassifier(n_neighbors=46)"
      ]
     },
     "execution_count": 55,
     "metadata": {},
     "output_type": "execute_result"
    }
   ],
   "source": [
    "# train the model\n",
    "knn.fit(x_train,y_train)\n"
   ]
  },
  {
   "cell_type": "code",
   "execution_count": 56,
   "id": "bcf20cdc",
   "metadata": {},
   "outputs": [
    {
     "name": "stdout",
     "output_type": "stream",
     "text": [
      "['Sad' 'Neutral' 'Happy' 'Anger' 'Fear' 'Stress' 'Anger' 'Anger' 'Neutral'\n",
      " 'Fear' 'Fear' 'Neutral' 'Anger' 'Stress' 'Sad' 'Stress' 'Stress' 'Anger'\n",
      " 'Sad' 'Neutral' 'Sad' 'Happy' 'Neutral' 'Anger' 'Anger' 'Fear' 'Happy'\n",
      " 'Anger' 'Stress' 'Anger' 'Neutral' 'Fear' 'Happy' 'Anger' 'Stress'\n",
      " 'Stress' 'Happy' 'Neutral' 'Sad' 'Fear' 'Neutral' 'Fear' 'Fear' 'Anger'\n",
      " 'Neutral' 'Anger' 'Happy' 'Fear' 'Fear' 'Sad' 'Neutral' 'Sad' 'Stress'\n",
      " 'Neutral' 'Sad' 'Sad' 'Anger' 'Stress' 'Fear' 'Sad' 'Stress' 'Stress'\n",
      " 'Happy' 'Sad' 'Anger' 'Anger' 'Neutral' 'Neutral' 'Fear' 'Neutral'\n",
      " 'Neutral' 'Sad' 'Sad' 'Anger' 'Sad' 'Anger' 'Anger' 'Fear' 'Happy'\n",
      " 'Stress' 'Neutral' 'Neutral' 'Anger' 'Stress' 'Neutral' 'Happy' 'Neutral'\n",
      " 'Fear' 'Anger' 'Neutral' 'Anger' 'Fear' 'Stress' 'Sad' 'Stress' 'Fear'\n",
      " 'Happy' 'Fear' 'Stress' 'Sad' 'Fear' 'Anger' 'Neutral' 'Stress' 'Sad'\n",
      " 'Anger' 'Neutral' 'Happy' 'Sad' 'Anger' 'Stress' 'Stress' 'Fear'\n",
      " 'Neutral' 'Neutral' 'Fear' 'Neutral' 'Anger' 'Neutral' 'Sad' 'Stress'\n",
      " 'Happy' 'Sad' 'Anger' 'Fear' 'Anger' 'Anger' 'Fear' 'Happy' 'Fear'\n",
      " 'Neutral' 'Fear' 'Neutral' 'Neutral' 'Neutral' 'Neutral' 'Sad' 'Fear'\n",
      " 'Neutral' 'Anger' 'Neutral' 'Happy' 'Fear' 'Sad' 'Anger' 'Happy'\n",
      " 'Neutral' 'Stress' 'Neutral' 'Stress' 'Neutral' 'Stress' 'Fear' 'Fear'\n",
      " 'Happy' 'Neutral' 'Sad' 'Sad' 'Neutral' 'Anger' 'Neutral' 'Happy' 'Happy'\n",
      " 'Happy' 'Anger' 'Neutral' 'Happy' 'Anger' 'Happy' 'Stress' 'Anger'\n",
      " 'Anger' 'Anger' 'Neutral' 'Anger' 'Sad' 'Happy' 'Sad' 'Stress' 'Happy'\n",
      " 'Sad' 'Anger' 'Neutral' 'Fear' 'Neutral' 'Sad' 'Anger' 'Neutral'\n",
      " 'Neutral' 'Fear' 'Neutral' 'Stress' 'Happy' 'Happy' 'Anger' 'Happy'\n",
      " 'Anger' 'Neutral' 'Sad' 'Stress' 'Neutral' 'Stress' 'Happy' 'Sad'\n",
      " 'Neutral' 'Sad' 'Neutral' 'Neutral' 'Anger' 'Neutral' 'Neutral' 'Happy'\n",
      " 'Stress' 'Sad' 'Anger' 'Neutral' 'Sad' 'Anger' 'Sad' 'Happy' 'Neutral'\n",
      " 'Neutral' 'Happy' 'Sad' 'Anger' 'Stress' 'Neutral' 'Sad' 'Anger' 'Sad'\n",
      " 'Anger' 'Sad' 'Sad' 'Sad' 'Neutral' 'Sad' 'Neutral' 'Neutral' 'Sad'\n",
      " 'Anger' 'Neutral' 'Neutral' 'Anger' 'Sad' 'Anger' 'Happy' 'Fear' 'Sad'\n",
      " 'Neutral' 'Neutral' 'Anger' 'Neutral' 'Neutral' 'Neutral' 'Neutral' 'Sad'\n",
      " 'Neutral' 'Sad' 'Stress' 'Sad' 'Stress' 'Sad' 'Anger' 'Fear' 'Neutral'\n",
      " 'Neutral' 'Sad' 'Fear' 'Fear' 'Neutral' 'Anger' 'Happy' 'Neutral'\n",
      " 'Stress' 'Stress' 'Happy' 'Neutral' 'Stress' 'Neutral' 'Anger' 'Sad'\n",
      " 'Neutral' 'Stress' 'Happy' 'Fear' 'Stress' 'Anger' 'Anger' 'Anger'\n",
      " 'Happy' 'Neutral' 'Happy' 'Neutral' 'Happy' 'Anger' 'Anger' 'Fear'\n",
      " 'Neutral' 'Neutral' 'Anger' 'Anger' 'Neutral' 'Fear' 'Neutral' 'Sad'\n",
      " 'Fear' 'Neutral' 'Happy' 'Anger' 'Happy' 'Neutral' 'Stress' 'Happy'\n",
      " 'Anger' 'Sad' 'Fear' 'Stress' 'Happy' 'Stress' 'Happy' 'Neutral' 'Fear'\n",
      " 'Happy' 'Anger' 'Happy' 'Neutral' 'Anger' 'Fear' 'Anger' 'Fear' 'Anger'\n",
      " 'Happy' 'Happy' 'Anger' 'Anger' 'Happy' 'Sad' 'Sad' 'Happy' 'Anger'\n",
      " 'Anger' 'Anger' 'Neutral' 'Anger' 'Neutral' 'Happy' 'Anger' 'Sad'\n",
      " 'Neutral' 'Neutral' 'Anger' 'Neutral' 'Fear' 'Neutral' 'Neutral' 'Happy'\n",
      " 'Happy' 'Anger' 'Stress' 'Anger' 'Sad' 'Anger' 'Neutral' 'Happy'\n",
      " 'Neutral' 'Stress' 'Anger' 'Stress' 'Happy' 'Happy' 'Neutral' 'Anger'\n",
      " 'Neutral' 'Sad' 'Neutral' 'Fear' 'Stress' 'Stress' 'Neutral' 'Neutral'\n",
      " 'Fear' 'Anger' 'Stress' 'Fear' 'Anger' 'Happy' 'Fear' 'Fear' 'Anger'\n",
      " 'Sad' 'Neutral' 'Neutral' 'Neutral' 'Stress' 'Neutral' 'Fear' 'Anger'\n",
      " 'Neutral' 'Happy' 'Happy' 'Neutral' 'Anger' 'Anger' 'Anger' 'Anger'\n",
      " 'Stress' 'Anger' 'Fear' 'Neutral' 'Stress' 'Neutral' 'Anger' 'Stress'\n",
      " 'Sad' 'Neutral' 'Happy' 'Neutral' 'Neutral' 'Happy' 'Happy' 'Sad' 'Fear'\n",
      " 'Stress' 'Happy' 'Neutral' 'Happy' 'Stress' 'Neutral' 'Sad' 'Stress'\n",
      " 'Neutral' 'Fear' 'Stress' 'Neutral' 'Sad' 'Stress' 'Stress' 'Happy'\n",
      " 'Neutral' 'Fear' 'Neutral' 'Stress' 'Fear' 'Fear' 'Anger' 'Anger' 'Fear'\n",
      " 'Stress' 'Sad' 'Anger' 'Happy' 'Anger' 'Fear' 'Stress' 'Anger' 'Neutral'\n",
      " 'Neutral' 'Anger' 'Happy' 'Neutral' 'Neutral' 'Stress' 'Neutral' 'Sad'\n",
      " 'Anger' 'Anger' 'Stress' 'Anger' 'Sad' 'Neutral' 'Fear' 'Sad' 'Stress'\n",
      " 'Anger' 'Anger' 'Fear' 'Anger' 'Neutral' 'Anger' 'Neutral' 'Fear' 'Anger'\n",
      " 'Stress' 'Neutral' 'Neutral' 'Neutral' 'Neutral' 'Neutral' 'Sad' 'Stress'\n",
      " 'Fear' 'Anger' 'Anger' 'Stress' 'Anger' 'Neutral' 'Neutral' 'Happy'\n",
      " 'Neutral' 'Stress' 'Stress' 'Neutral' 'Stress' 'Happy' 'Anger' 'Fear'\n",
      " 'Fear' 'Neutral' 'Neutral' 'Happy' 'Happy' 'Neutral' 'Anger' 'Anger'\n",
      " 'Stress' 'Anger' 'Anger' 'Fear' 'Neutral' 'Anger' 'Neutral' 'Stress'\n",
      " 'Stress' 'Anger' 'Anger' 'Anger' 'Stress' 'Neutral' 'Fear' 'Happy'\n",
      " 'Neutral' 'Stress' 'Fear' 'Anger' 'Stress' 'Sad' 'Neutral' 'Fear' 'Anger'\n",
      " 'Fear' 'Neutral' 'Neutral' 'Fear' 'Neutral' 'Anger' 'Neutral' 'Neutral'\n",
      " 'Fear' 'Fear' 'Neutral' 'Neutral' 'Happy' 'Anger' 'Sad' 'Anger' 'Happy'\n",
      " 'Neutral' 'Fear' 'Anger' 'Fear' 'Anger' 'Neutral' 'Neutral' 'Stress'\n",
      " 'Sad' 'Anger' 'Neutral' 'Stress' 'Anger' 'Sad' 'Stress' 'Stress'\n",
      " 'Neutral' 'Neutral' 'Anger' 'Neutral' 'Stress' 'Neutral' 'Anger'\n",
      " 'Neutral' 'Anger' 'Happy' 'Sad' 'Stress' 'Sad' 'Sad' 'Fear' 'Anger'\n",
      " 'Happy' 'Neutral' 'Fear' 'Neutral' 'Anger' 'Neutral' 'Neutral' 'Neutral'\n",
      " 'Neutral' 'Anger' 'Sad' 'Anger' 'Fear' 'Fear' 'Happy' 'Fear' 'Anger'\n",
      " 'Sad' 'Fear' 'Anger' 'Neutral' 'Anger' 'Happy' 'Stress' 'Anger' 'Sad'\n",
      " 'Anger' 'Happy' 'Sad' 'Anger' 'Neutral' 'Fear' 'Anger' 'Stress' 'Happy'\n",
      " 'Anger' 'Anger' 'Neutral' 'Happy' 'Stress' 'Stress' 'Sad' 'Stress'\n",
      " 'Neutral' 'Anger' 'Neutral' 'Stress' 'Anger' 'Stress' 'Happy' 'Neutral'\n",
      " 'Happy' 'Happy' 'Stress' 'Fear' 'Stress' 'Fear' 'Neutral' 'Anger' 'Sad'\n",
      " 'Fear' 'Fear' 'Stress' 'Anger' 'Neutral' 'Sad' 'Fear' 'Neutral' 'Fear'\n",
      " 'Neutral' 'Neutral' 'Fear' 'Sad' 'Happy' 'Stress' 'Stress' 'Happy'\n",
      " 'Happy' 'Sad' 'Fear' 'Fear' 'Stress' 'Neutral' 'Anger' 'Stress' 'Stress'\n",
      " 'Neutral' 'Stress' 'Sad' 'Happy' 'Anger' 'Anger' 'Sad' 'Neutral' 'Anger'\n",
      " 'Happy' 'Stress' 'Neutral' 'Sad' 'Sad' 'Neutral' 'Fear' 'Neutral' 'Happy'\n",
      " 'Stress' 'Stress' 'Happy' 'Sad' 'Sad' 'Sad' 'Anger' 'Fear' 'Neutral'\n",
      " 'Anger' 'Stress' 'Fear' 'Fear' 'Sad' 'Stress' 'Fear' 'Stress' 'Anger'\n",
      " 'Sad' 'Neutral' 'Anger' 'Anger' 'Sad' 'Anger' 'Happy' 'Neutral' 'Happy'\n",
      " 'Neutral' 'Anger' 'Anger' 'Stress' 'Sad' 'Happy' 'Stress' 'Anger'\n",
      " 'Stress' 'Sad' 'Happy' 'Happy' 'Sad' 'Stress' 'Neutral' 'Neutral'\n",
      " 'Neutral' 'Sad' 'Happy' 'Neutral' 'Neutral' 'Anger' 'Stress' 'Anger'\n",
      " 'Fear' 'Stress' 'Fear' 'Stress' 'Anger' 'Neutral' 'Neutral' 'Fear'\n",
      " 'Neutral' 'Stress' 'Fear' 'Stress' 'Sad' 'Anger' 'Stress' 'Anger' 'Happy'\n",
      " 'Anger' 'Fear' 'Anger' 'Sad' 'Anger' 'Neutral' 'Happy' 'Neutral' 'Fear'\n",
      " 'Happy' 'Sad' 'Neutral' 'Fear' 'Anger' 'Fear' 'Sad' 'Neutral' 'Fear'\n",
      " 'Neutral' 'Happy' 'Happy' 'Neutral' 'Fear' 'Fear' 'Anger' 'Sad' 'Sad'\n",
      " 'Anger' 'Anger' 'Neutral' 'Sad' 'Stress' 'Anger' 'Sad' 'Sad' 'Sad'\n",
      " 'Anger' 'Stress' 'Happy' 'Happy' 'Neutral' 'Sad' 'Happy' 'Sad' 'Stress'\n",
      " 'Happy' 'Fear' 'Happy' 'Sad' 'Anger' 'Sad' 'Sad' 'Anger' 'Happy'\n",
      " 'Neutral' 'Neutral' 'Fear' 'Sad' 'Neutral' 'Sad' 'Anger' 'Happy' 'Fear'\n",
      " 'Neutral' 'Sad' 'Anger' 'Sad' 'Happy' 'Happy' 'Sad' 'Neutral' 'Sad'\n",
      " 'Neutral' 'Anger' 'Happy' 'Neutral' 'Happy' 'Sad' 'Neutral' 'Happy' 'Sad'\n",
      " 'Stress' 'Neutral' 'Anger' 'Neutral' 'Happy' 'Happy' 'Neutral' 'Sad'\n",
      " 'Neutral' 'Anger' 'Fear' 'Fear' 'Stress' 'Anger' 'Anger' 'Fear' 'Fear'\n",
      " 'Sad' 'Fear' 'Sad' 'Stress' 'Neutral' 'Neutral' 'Neutral' 'Anger' 'Sad'\n",
      " 'Anger' 'Neutral' 'Fear' 'Fear' 'Stress' 'Anger' 'Sad' 'Fear' 'Stress'\n",
      " 'Anger' 'Neutral' 'Neutral' 'Sad' 'Sad' 'Neutral' 'Neutral' 'Fear'\n",
      " 'Anger' 'Neutral' 'Stress' 'Neutral' 'Stress' 'Anger' 'Happy' 'Sad'\n",
      " 'Neutral' 'Anger' 'Fear' 'Neutral' 'Anger' 'Fear' 'Sad' 'Fear']\n"
     ]
    }
   ],
   "source": [
    "y_pred=knn.predict(x_test)\n",
    "print(y_pred)\n",
    "\n"
   ]
  },
  {
   "cell_type": "code",
   "execution_count": 57,
   "id": "905b0322",
   "metadata": {},
   "outputs": [
    {
     "name": "stdout",
     "output_type": "stream",
     "text": [
      "(900,)\n",
      "(900,)\n"
     ]
    }
   ],
   "source": [
    "print(y_pred.shape)\n",
    "print(y_test.shape)\n"
   ]
  },
  {
   "cell_type": "code",
   "execution_count": 58,
   "id": "5c66c58b",
   "metadata": {},
   "outputs": [
    {
     "data": {
      "text/plain": [
       "0.7966666666666666"
      ]
     },
     "execution_count": 58,
     "metadata": {},
     "output_type": "execute_result"
    }
   ],
   "source": [
    "# compare y_pred and y_shape to check how accurate algorithm is \n",
    "from sklearn.metrics import accuracy_score\n",
    "accuracy_score(y_test,y_pred)"
   ]
  },
  {
   "cell_type": "code",
   "execution_count": 59,
   "id": "d2735d63",
   "metadata": {},
   "outputs": [
    {
     "data": {
      "text/plain": [
       "array([[111,  13,   1,   4,   0,   3],\n",
       "       [ 23,  90,   3,   0,  14,   8],\n",
       "       [  0,   0, 106,   8,   0,   0],\n",
       "       [ 46,   4,   5, 191,   0,   3],\n",
       "       [  0,   6,   0,  20, 112,   1],\n",
       "       [  9,   7,   0,   2,   3, 107]], dtype=int64)"
      ]
     },
     "execution_count": 59,
     "metadata": {},
     "output_type": "execute_result"
    }
   ],
   "source": [
    "from sklearn.metrics import confusion_matrix \n",
    "confusion_matrix(y_test,y_pred)"
   ]
  },
  {
   "cell_type": "code",
   "execution_count": 60,
   "id": "2f77849d",
   "metadata": {},
   "outputs": [
    {
     "name": "stdout",
     "output_type": "stream",
     "text": [
      "Accuarcy:- 0.7544444444444445 at K = 0\n"
     ]
    },
    {
     "data": {
      "image/png": "[encoded data removed]",
      "text/plain": [
       "<Figure size 1000x600 with 1 Axes>"
      ]
     },
     "metadata": {},
     "output_type": "display_data"
    }
   ],
   "source": [
    "# 2nd method\n",
    "accuracy=[]\n",
    "for i in range(1,50):\n",
    "    knn=KNeighborsClassifier(n_neighbors=i)\n",
    "    knn.fit(x_train,y_train)\n",
    "    pred_i = knn.predict(x_test)\n",
    "    accuracy.append(accuracy_score(y_test,knn.predict(x_test)))\n",
    "plt.figure(figsize=(10,6))\n",
    "plt.plot(range(1,50),accuracy,color='blue', linestyle='dashed', \n",
    "         marker='o',markerfacecolor='red', markersize=10)    \n",
    "plt.title('Accuracy vs. K Value')\n",
    "plt.xlabel('K')\n",
    "plt.ylabel('Accuracy')\n",
    "print(\"Accuarcy:-\",min(accuracy),\"at K =\",accuracy.index(min(accuracy)))"
   ]
  },
  {
   "cell_type": "markdown",
   "id": "a2f41eec",
   "metadata": {},
   "source": [
    "# 6 Moods LSTM\n",
    "\n"
   ]
  },
  {
   "cell_type": "code",
   "execution_count": 61,
   "id": "fde4b238",
   "metadata": {},
   "outputs": [
    {
     "name": "stdout",
     "output_type": "stream",
     "text": [
      "Requirement already satisfied: tensorflow in c:\\users\\hp\\anaconda3\\lib\\site-packages (2.15.0)\n",
      "Requirement already satisfied: tensorflow-intel==2.15.0 in c:\\users\\hp\\anaconda3\\lib\\site-packages (from tensorflow) (2.15.0)\n",
      "Requirement already satisfied: absl-py>=1.0.0 in c:\\users\\hp\\anaconda3\\lib\\site-packages (from tensorflow-intel==2.15.0->tensorflow) (2.1.0)\n",
      "Requirement already satisfied: astunparse>=1.6.0 in c:\\users\\hp\\anaconda3\\lib\\site-packages (from tensorflow-intel==2.15.0->tensorflow) (1.6.3)\n",
      "Requirement already satisfied: flatbuffers>=23.5.26 in c:\\users\\hp\\anaconda3\\lib\\site-packages (from tensorflow-intel==2.15.0->tensorflow) (23.5.26)\n",
      "Requirement already satisfied: gast!=0.5.0,!=0.5.1,!=0.5.2,>=0.2.1 in c:\\users\\hp\\anaconda3\\lib\\site-packages (from tensorflow-intel==2.15.0->tensorflow) (0.5.4)\n",
      "Requirement already satisfied: google-pasta>=0.1.1 in c:\\users\\hp\\anaconda3\\lib\\site-packages (from tensorflow-intel==2.15.0->tensorflow) (0.2.0)\n",
      "Requirement already satisfied: h5py>=2.9.0 in c:\\users\\hp\\anaconda3\\lib\\site-packages (from tensorflow-intel==2.15.0->tensorflow) (3.9.0)\n",
      "Requirement already satisfied: libclang>=13.0.0 in c:\\users\\hp\\anaconda3\\lib\\site-packages (from tensorflow-intel==2.15.0->tensorflow) (16.0.6)\n",
      "Requirement already satisfied: ml-dtypes~=0.2.0 in c:\\users\\hp\\anaconda3\\lib\\site-packages (from tensorflow-intel==2.15.0->tensorflow) (0.2.0)\n",
      "Requirement already satisfied: numpy<2.0.0,>=1.23.5 in c:\\users\\hp\\anaconda3\\lib\\site-packages (from tensorflow-intel==2.15.0->tensorflow) (1.24.3)\n",
      "Requirement already satisfied: opt-einsum>=2.3.2 in c:\\users\\hp\\anaconda3\\lib\\site-packages (from tensorflow-intel==2.15.0->tensorflow) (3.3.0)\n",
      "Requirement already satisfied: packaging in c:\\users\\hp\\anaconda3\\lib\\site-packages (from tensorflow-intel==2.15.0->tensorflow) (23.1)\n",
      "Requirement already satisfied: protobuf!=4.21.0,!=4.21.1,!=4.21.2,!=4.21.3,!=4.21.4,!=4.21.5,<5.0.0dev,>=3.20.3 in c:\\users\\hp\\anaconda3\\lib\\site-packages (from tensorflow-intel==2.15.0->tensorflow) (4.25.3)\n",
      "Requirement already satisfied: setuptools in c:\\users\\hp\\anaconda3\\lib\\site-packages (from tensorflow-intel==2.15.0->tensorflow) (69.5.1)\n",
      "Requirement already satisfied: six>=1.12.0 in c:\\users\\hp\\anaconda3\\lib\\site-packages (from tensorflow-intel==2.15.0->tensorflow) (1.16.0)\n",
      "Requirement already satisfied: termcolor>=1.1.0 in c:\\users\\hp\\anaconda3\\lib\\site-packages (from tensorflow-intel==2.15.0->tensorflow) (2.4.0)\n",
      "Requirement already satisfied: typing-extensions>=3.6.6 in c:\\users\\hp\\anaconda3\\lib\\site-packages (from tensorflow-intel==2.15.0->tensorflow) (4.7.1)\n",
      "Requirement already satisfied: wrapt<1.15,>=1.11.0 in c:\\users\\hp\\anaconda3\\lib\\site-packages (from tensorflow-intel==2.15.0->tensorflow) (1.14.1)\n",
      "Requirement already satisfied: tensorflow-io-gcs-filesystem>=0.23.1 in c:\\users\\hp\\anaconda3\\lib\\site-packages (from tensorflow-intel==2.15.0->tensorflow) (0.31.0)\n",
      "Requirement already satisfied: grpcio<2.0,>=1.24.3 in c:\\users\\hp\\anaconda3\\lib\\site-packages (from tensorflow-intel==2.15.0->tensorflow) (1.62.0)\n",
      "Requirement already satisfied: tensorboard<2.16,>=2.15 in c:\\users\\hp\\anaconda3\\lib\\site-packages (from tensorflow-intel==2.15.0->tensorflow) (2.15.2)\n",
      "Requirement already satisfied: tensorflow-estimator<2.16,>=2.15.0 in c:\\users\\hp\\anaconda3\\lib\\site-packages (from tensorflow-intel==2.15.0->tensorflow) (2.15.0)\n",
      "Requirement already satisfied: keras<2.16,>=2.15.0 in c:\\users\\hp\\anaconda3\\lib\\site-packages (from tensorflow-intel==2.15.0->tensorflow) (2.15.0)\n",
      "Requirement already satisfied: wheel<1.0,>=0.23.0 in c:\\users\\hp\\anaconda3\\lib\\site-packages (from astunparse>=1.6.0->tensorflow-intel==2.15.0->tensorflow) (0.43.0)\n",
      "Requirement already satisfied: google-auth<3,>=1.6.3 in c:\\users\\hp\\anaconda3\\lib\\site-packages (from tensorboard<2.16,>=2.15->tensorflow-intel==2.15.0->tensorflow) (2.28.1)\n",
      "Requirement already satisfied: google-auth-oauthlib<2,>=0.5 in c:\\users\\hp\\anaconda3\\lib\\site-packages (from tensorboard<2.16,>=2.15->tensorflow-intel==2.15.0->tensorflow) (1.2.0)\n",
      "Requirement already satisfied: markdown>=2.6.8 in c:\\users\\hp\\anaconda3\\lib\\site-packages (from tensorboard<2.16,>=2.15->tensorflow-intel==2.15.0->tensorflow) (3.4.1)\n",
      "Requirement already satisfied: requests<3,>=2.21.0 in c:\\users\\hp\\anaconda3\\lib\\site-packages (from tensorboard<2.16,>=2.15->tensorflow-intel==2.15.0->tensorflow) (2.31.0)\n",
      "Requirement already satisfied: tensorboard-data-server<0.8.0,>=0.7.0 in c:\\users\\hp\\anaconda3\\lib\\site-packages (from tensorboard<2.16,>=2.15->tensorflow-intel==2.15.0->tensorflow) (0.7.2)\n",
      "Requirement already satisfied: werkzeug>=1.0.1 in c:\\users\\hp\\anaconda3\\lib\\site-packages (from tensorboard<2.16,>=2.15->tensorflow-intel==2.15.0->tensorflow) (2.2.3)\n",
      "Requirement already satisfied: cachetools<6.0,>=2.0.0 in c:\\users\\hp\\anaconda3\\lib\\site-packages (from google-auth<3,>=1.6.3->tensorboard<2.16,>=2.15->tensorflow-intel==2.15.0->tensorflow) (5.3.2)\n",
      "Requirement already satisfied: pyasn1-modules>=0.2.1 in c:\\users\\hp\\anaconda3\\lib\\site-packages (from google-auth<3,>=1.6.3->tensorboard<2.16,>=2.15->tensorflow-intel==2.15.0->tensorflow) (0.2.8)\n",
      "Requirement already satisfied: rsa<5,>=3.1.4 in c:\\users\\hp\\anaconda3\\lib\\site-packages (from google-auth<3,>=1.6.3->tensorboard<2.16,>=2.15->tensorflow-intel==2.15.0->tensorflow) (4.9)\n",
      "Requirement already satisfied: requests-oauthlib>=0.7.0 in c:\\users\\hp\\anaconda3\\lib\\site-packages (from google-auth-oauthlib<2,>=0.5->tensorboard<2.16,>=2.15->tensorflow-intel==2.15.0->tensorflow) (1.3.1)\n",
      "Requirement already satisfied: charset-normalizer<4,>=2 in c:\\users\\hp\\anaconda3\\lib\\site-packages (from requests<3,>=2.21.0->tensorboard<2.16,>=2.15->tensorflow-intel==2.15.0->tensorflow) (2.0.4)\n",
      "Requirement already satisfied: idna<4,>=2.5 in c:\\users\\hp\\anaconda3\\lib\\site-packages (from requests<3,>=2.21.0->tensorboard<2.16,>=2.15->tensorflow-intel==2.15.0->tensorflow) (3.4)\n",
      "Requirement already satisfied: urllib3<3,>=1.21.1 in c:\\users\\hp\\anaconda3\\lib\\site-packages (from requests<3,>=2.21.0->tensorboard<2.16,>=2.15->tensorflow-intel==2.15.0->tensorflow) (1.26.16)\n",
      "Requirement already satisfied: certifi>=2017.4.17 in c:\\users\\hp\\anaconda3\\lib\\site-packages (from requests<3,>=2.21.0->tensorboard<2.16,>=2.15->tensorflow-intel==2.15.0->tensorflow) (2023.7.22)\n",
      "Requirement already satisfied: MarkupSafe>=2.1.1 in c:\\users\\hp\\anaconda3\\lib\\site-packages (from werkzeug>=1.0.1->tensorboard<2.16,>=2.15->tensorflow-intel==2.15.0->tensorflow) (2.1.1)\n",
      "Requirement already satisfied: pyasn1<0.5.0,>=0.4.6 in c:\\users\\hp\\anaconda3\\lib\\site-packages (from pyasn1-modules>=0.2.1->google-auth<3,>=1.6.3->tensorboard<2.16,>=2.15->tensorflow-intel==2.15.0->tensorflow) (0.4.8)\n",
      "Requirement already satisfied: oauthlib>=3.0.0 in c:\\users\\hp\\anaconda3\\lib\\site-packages (from requests-oauthlib>=0.7.0->google-auth-oauthlib<2,>=0.5->tensorboard<2.16,>=2.15->tensorflow-intel==2.15.0->tensorflow) (3.2.2)\n",
      "Note: you may need to restart the kernel to use updated packages.\n"
     ]
    }
   ],
   "source": [
    "pip install tensorflow"
   ]
  },
  {
   "cell_type": "code",
   "execution_count": 62,
   "id": "d6be783a",
   "metadata": {},
   "outputs": [
    {
     "name": "stdout",
     "output_type": "stream",
     "text": [
      "WARNING:tensorflow:From C:\\Users\\HP\\anaconda3\\Lib\\site-packages\\keras\\src\\losses.py:2976: The name tf.losses.sparse_softmax_cross_entropy is deprecated. Please use tf.compat.v1.losses.sparse_softmax_cross_entropy instead.\n",
      "\n"
     ]
    }
   ],
   "source": [
    "from sklearn.model_selection import train_test_split\n",
    "from sklearn.preprocessing import StandardScaler, LabelEncoder\n",
    "from keras.models import Sequential\n",
    "from keras.layers import LSTM, Dense"
   ]
  },
  {
   "cell_type": "code",
   "execution_count": 63,
   "id": "230ed4c6",
   "metadata": {},
   "outputs": [
    {
     "name": "stdout",
     "output_type": "stream",
     "text": [
      "   Heart Rate  Pulse Rate  Temperature  Skin Senstivity\n",
      "0        69.0        64.0    96.500000              1.0\n",
      "1        77.0        63.0    97.600000              1.4\n",
      "2        70.0        83.0    98.289145              0.9\n",
      "3        80.0        78.0    97.700000              1.3\n",
      "4       100.0        89.0    98.900000              2.5\n",
      "      Heart Rate  Pulse Rate  Temperature  Skin Senstivity\n",
      "0           69.0        64.0    96.500000              1.0\n",
      "1           77.0        63.0    97.600000              1.4\n",
      "2           70.0        83.0    98.289145              0.9\n",
      "3           80.0        78.0    97.700000              1.3\n",
      "4          100.0        89.0    98.900000              2.5\n",
      "...          ...         ...          ...              ...\n",
      "2994        93.0        85.0    99.400000              1.1\n",
      "2995        99.0        60.0    99.200000              0.9\n",
      "2996        78.0        75.0    98.300000              2.0\n",
      "2997        82.0        85.0    98.800000              0.9\n",
      "2998        88.0        78.0    99.000000              3.5\n",
      "\n",
      "[2999 rows x 4 columns]\n"
     ]
    }
   ],
   "source": [
    "data=pd.read_csv('6 moodsKNN.csv')\n",
    "data.head()\n",
    "data.isnull().sum()\n",
    "data['Heart Rate'].fillna(data['Heart Rate'].mean(),inplace=True)\n",
    "data['Pulse Rate'].fillna(data['Pulse Rate'].mean(),inplace=True)\n",
    "data['Temperature'].fillna(data['Temperature'].mean(),inplace=True)\n",
    "data['Skin Senstivity'].fillna(data['Skin Senstivity'].mean(),inplace=True)\n",
    "data.isnull().sum()\n",
    "x=data.iloc[:,0:4]\n",
    "print(x.head())\n",
    "\n",
    "\n",
    "\n",
    "\n",
    "print(x)\n"
   ]
  },
  {
   "cell_type": "code",
   "execution_count": 64,
   "id": "526f12db",
   "metadata": {},
   "outputs": [
    {
     "name": "stdout",
     "output_type": "stream",
     "text": [
      "0           Sad\n",
      "1           Sad\n",
      "2       Neutral\n",
      "3           Sad\n",
      "4         Anger\n",
      "         ...   \n",
      "2994      Happy\n",
      "2995      Happy\n",
      "2996     Stress\n",
      "2997      Happy\n",
      "2998      Anger\n",
      "Name: Result, Length: 2999, dtype: object\n",
      "0        Sad\n",
      "1        Sad\n",
      "2    Neutral\n",
      "3        Sad\n",
      "4      Anger\n",
      "Name: Result, dtype: object\n",
      "(2999,)\n"
     ]
    }
   ],
   "source": [
    "\n",
    "# train test split \n",
    "y=data.iloc[:,-1]\n",
    "print(y)\n",
    "print(y.head())\n",
    "print(y.shape)\n",
    "\n"
   ]
  },
  {
   "cell_type": "code",
   "execution_count": 65,
   "id": "e9f357f3",
   "metadata": {},
   "outputs": [],
   "source": [
    "\n",
    "# train test split\n",
    "from sklearn.model_selection import train_test_split\n",
    "x_train,x_test,y_train,y_test=train_test_split(x,y,test_size=0.3,random_state=2)"
   ]
  },
  {
   "cell_type": "code",
   "execution_count": 66,
   "id": "4619d529",
   "metadata": {},
   "outputs": [
    {
     "name": "stdout",
     "output_type": "stream",
     "text": [
      "      Heart Rate  Pulse Rate  Temperature  Skin Senstivity\n",
      "1139        83.0        71.0         99.4              0.4\n",
      "606         93.0        96.0         98.0              3.7\n",
      "2549        91.0        76.0         99.1              1.0\n",
      "1161        90.0        95.0         99.1              3.5\n",
      "1003        75.0        98.0         97.3              2.0\n",
      "...          ...         ...          ...              ...\n",
      "2514        94.0        94.0         98.1              4.0\n",
      "2347        61.0        61.0         98.6              0.9\n",
      "1608        98.0        70.0         97.9              0.7\n",
      "2541        77.0        98.0         97.8              2.2\n",
      "2575        70.0        82.0         97.9              1.0\n",
      "\n",
      "[2099 rows x 4 columns]\n",
      "(2099, 4)\n"
     ]
    }
   ],
   "source": [
    "print(x_train)\n",
    "print(x_train.shape)"
   ]
  },
  {
   "cell_type": "code",
   "execution_count": 67,
   "id": "396d0514",
   "metadata": {},
   "outputs": [
    {
     "name": "stdout",
     "output_type": "stream",
     "text": [
      "      Heart Rate  Pulse Rate  Temperature  Skin Senstivity\n",
      "1706        63.0        67.0         97.0              1.8\n",
      "401         75.0        78.0         97.8              0.3\n",
      "1748        91.0        84.0         98.2              0.8\n",
      "1674        86.0        99.0         99.3              3.2\n",
      "914         75.0        89.0         97.5              2.6\n",
      "...          ...         ...          ...              ...\n",
      "1930        63.0        66.0         98.6              0.6\n",
      "1766        92.0        99.0         98.7              3.1\n",
      "547         96.0        97.0         98.0              2.0\n",
      "2365        68.0        70.0         97.0              1.3\n",
      "2112        74.0        85.0         98.3              2.4\n",
      "\n",
      "[900 rows x 4 columns]\n",
      "(900, 4)\n"
     ]
    }
   ],
   "source": [
    "print(x_test)\n",
    "print(x_test.shape)"
   ]
  },
  {
   "cell_type": "code",
   "execution_count": 68,
   "id": "01e907fc",
   "metadata": {},
   "outputs": [
    {
     "name": "stdout",
     "output_type": "stream",
     "text": [
      "1139      Happy\n",
      "606       Anger\n",
      "2549      Happy\n",
      "1161    Neutral\n",
      "1003       Fear\n",
      "         ...   \n",
      "2514      Anger\n",
      "2347    Neutral\n",
      "1608      Happy\n",
      "2541     Stress\n",
      "2575    Neutral\n",
      "Name: Result, Length: 2099, dtype: object\n",
      "(2099,)\n"
     ]
    }
   ],
   "source": [
    "print(y_train)\n",
    "print(y_train.shape)"
   ]
  },
  {
   "cell_type": "code",
   "execution_count": 69,
   "id": "df6ed41a",
   "metadata": {},
   "outputs": [
    {
     "name": "stdout",
     "output_type": "stream",
     "text": [
      "1706        Sad\n",
      "401     Neutral\n",
      "1748      Happy\n",
      "1674      Anger\n",
      "914        Fear\n",
      "         ...   \n",
      "1930    Neutral\n",
      "1766      Anger\n",
      "547        Fear\n",
      "2365        Sad\n",
      "2112        Sad\n",
      "Name: Result, Length: 900, dtype: object\n",
      "(900,)\n"
     ]
    }
   ],
   "source": [
    "print(y_test)\n",
    "print(y_test.shape)\n"
   ]
  },
  {
   "cell_type": "code",
   "execution_count": 70,
   "id": "137aad71",
   "metadata": {},
   "outputs": [
    {
     "name": "stdout",
     "output_type": "stream",
     "text": [
      "Requirement already satisfied: MedPy in c:\\users\\hp\\anaconda3\\lib\\site-packages (0.4.0)\n",
      "Requirement already satisfied: scipy>=1.1.0 in c:\\users\\hp\\anaconda3\\lib\\site-packages (from MedPy) (1.11.1)\n",
      "Requirement already satisfied: numpy>=1.11.0 in c:\\users\\hp\\anaconda3\\lib\\site-packages (from MedPy) (1.24.3)\n",
      "Requirement already satisfied: SimpleITK>=1.1.0 in c:\\users\\hp\\anaconda3\\lib\\site-packages (from MedPy) (2.3.1)\n",
      "Note: you may need to restart the kernel to use updated packages.\n"
     ]
    }
   ],
   "source": [
    "pip install MedPy\n"
   ]
  },
  {
   "cell_type": "code",
   "execution_count": 71,
   "id": "55223c2d",
   "metadata": {},
   "outputs": [],
   "source": [
    "# Normalize numerical features\n",
    "scaler = StandardScaler()\n",
    "numerical_cols = ['Heart Rate','Pulse Rate','Temperature', 'Skin Senstivity']\n",
    "data[numerical_cols] = scaler.fit_transform(data[numerical_cols])"
   ]
  },
  {
   "cell_type": "code",
   "execution_count": 72,
   "id": "d31933b8",
   "metadata": {},
   "outputs": [],
   "source": [
    "# Encode categorical variable 'Result'\n",
    "label_encoder = LabelEncoder()\n",
    "data['Result'] = label_encoder.fit_transform(data['Result'])\n"
   ]
  },
  {
   "cell_type": "code",
   "execution_count": 73,
   "id": "9bdefb6c",
   "metadata": {},
   "outputs": [],
   "source": [
    "# Split the data into features and target variable\n",
    "x = data[numerical_cols].values\n",
    "y = data['Result'].values"
   ]
  },
  {
   "cell_type": "code",
   "execution_count": 74,
   "id": "a5bebeda",
   "metadata": {},
   "outputs": [],
   "source": [
    "#rics=['accuracy'])"
   ]
  },
  {
   "cell_type": "code",
   "execution_count": 75,
   "id": "c59f9eff",
   "metadata": {},
   "outputs": [],
   "source": [
    "time_steps = 1\n",
    "x_reshaped = x.reshape((x.shape[0], time_steps, x.shape[1]))\n",
    "x_train, x_test, y_train, y_test = train_test_split(x_reshaped, y, test_size=0.3, random_state=2)\n"
   ]
  },
  {
   "cell_type": "code",
   "execution_count": 76,
   "id": "fa138265",
   "metadata": {},
   "outputs": [
    {
     "name": "stdout",
     "output_type": "stream",
     "text": [
      "WARNING:tensorflow:From C:\\Users\\HP\\anaconda3\\Lib\\site-packages\\keras\\src\\backend.py:873: The name tf.get_default_graph is deprecated. Please use tf.compat.v1.get_default_graph instead.\n",
      "\n"
     ]
    }
   ],
   "source": [
    "#  Define the LSTM model\n",
    "model = Sequential()\n",
    "model.add(LSTM(units=50, input_shape=(x_train.shape[1], x_train.shape[2])))\n",
    "model.add(Dense(1, activation='sigmoid'))\n"
   ]
  },
  {
   "cell_type": "code",
   "execution_count": 77,
   "id": "006338cd",
   "metadata": {},
   "outputs": [
    {
     "name": "stdout",
     "output_type": "stream",
     "text": [
      "WARNING:tensorflow:From C:\\Users\\HP\\anaconda3\\Lib\\site-packages\\keras\\src\\optimizers\\__init__.py:309: The name tf.train.Optimizer is deprecated. Please use tf.compat.v1.train.Optimizer instead.\n",
      "\n"
     ]
    }
   ],
   "source": [
    "#  Compile the model\n",
    "model.compile(optimizer='adam', loss='binary_crossentropy', metrics=['accuracy'])\n"
   ]
  },
  {
   "cell_type": "code",
   "execution_count": 78,
   "id": "7ef6e55e",
   "metadata": {},
   "outputs": [
    {
     "name": "stdout",
     "output_type": "stream",
     "text": [
      "Epoch 1/50\n",
      "WARNING:tensorflow:From C:\\Users\\HP\\anaconda3\\Lib\\site-packages\\keras\\src\\utils\\tf_utils.py:492: The name tf.ragged.RaggedTensorValue is deprecated. Please use tf.compat.v1.ragged.RaggedTensorValue instead.\n",
      "\n",
      "WARNING:tensorflow:From C:\\Users\\HP\\anaconda3\\Lib\\site-packages\\keras\\src\\engine\\base_layer_utils.py:384: The name tf.executing_eagerly_outside_functions is deprecated. Please use tf.compat.v1.executing_eagerly_outside_functions instead.\n",
      "\n",
      "33/33 [==============================] - 3s 23ms/step - loss: 0.4792 - accuracy: 0.1753 - val_loss: 0.2270 - val_accuracy: 0.1967\n",
      "Epoch 2/50\n",
      "33/33 [==============================] - 0s 6ms/step - loss: -0.0084 - accuracy: 0.2001 - val_loss: -0.3753 - val_accuracy: 0.2156\n",
      "Epoch 3/50\n",
      "33/33 [==============================] - 0s 5ms/step - loss: -0.7040 - accuracy: 0.2039 - val_loss: -1.2630 - val_accuracy: 0.2167\n",
      "Epoch 4/50\n",
      "33/33 [==============================] - 0s 7ms/step - loss: -1.6992 - accuracy: 0.2063 - val_loss: -2.4942 - val_accuracy: 0.2178\n",
      "Epoch 5/50\n",
      "33/33 [==============================] - 0s 5ms/step - loss: -3.0351 - accuracy: 0.1991 - val_loss: -4.0746 - val_accuracy: 0.2111\n",
      "Epoch 6/50\n",
      "33/33 [==============================] - 0s 5ms/step - loss: -4.7220 - accuracy: 0.1963 - val_loss: -5.9816 - val_accuracy: 0.2067\n",
      "Epoch 7/50\n",
      "33/33 [==============================] - 0s 6ms/step - loss: -6.6665 - accuracy: 0.1915 - val_loss: -8.2321 - val_accuracy: 0.2011\n",
      "Epoch 8/50\n",
      "33/33 [==============================] - 0s 6ms/step - loss: -8.8907 - accuracy: 0.1829 - val_loss: -10.6306 - val_accuracy: 0.1911\n",
      "Epoch 9/50\n",
      "33/33 [==============================] - 0s 6ms/step - loss: -11.2721 - accuracy: 0.1763 - val_loss: -13.1860 - val_accuracy: 0.1889\n",
      "Epoch 10/50\n",
      "33/33 [==============================] - 0s 5ms/step - loss: -13.7905 - accuracy: 0.1729 - val_loss: -15.8680 - val_accuracy: 0.1844\n",
      "Epoch 11/50\n",
      "33/33 [==============================] - 0s 6ms/step - loss: -16.3936 - accuracy: 0.1696 - val_loss: -18.6553 - val_accuracy: 0.1833\n",
      "Epoch 12/50\n",
      "33/33 [==============================] - 0s 6ms/step - loss: -19.0654 - accuracy: 0.1696 - val_loss: -21.4965 - val_accuracy: 0.1844\n",
      "Epoch 13/50\n",
      "33/33 [==============================] - 0s 6ms/step - loss: -21.8025 - accuracy: 0.1667 - val_loss: -24.3749 - val_accuracy: 0.1856\n",
      "Epoch 14/50\n",
      "33/33 [==============================] - 0s 6ms/step - loss: -24.5883 - accuracy: 0.1672 - val_loss: -27.2874 - val_accuracy: 0.1856\n",
      "Epoch 15/50\n",
      "33/33 [==============================] - 0s 5ms/step - loss: -27.3974 - accuracy: 0.1658 - val_loss: -30.2756 - val_accuracy: 0.1833\n",
      "Epoch 16/50\n",
      "33/33 [==============================] - 0s 6ms/step - loss: -30.2549 - accuracy: 0.1658 - val_loss: -33.2973 - val_accuracy: 0.1856\n",
      "Epoch 17/50\n",
      "33/33 [==============================] - 0s 6ms/step - loss: -33.1549 - accuracy: 0.1667 - val_loss: -36.3230 - val_accuracy: 0.1856\n",
      "Epoch 18/50\n",
      "33/33 [==============================] - 0s 6ms/step - loss: -36.0748 - accuracy: 0.1677 - val_loss: -39.4164 - val_accuracy: 0.1856\n",
      "Epoch 19/50\n",
      "33/33 [==============================] - 0s 6ms/step - loss: -39.0418 - accuracy: 0.1701 - val_loss: -42.5147 - val_accuracy: 0.1878\n",
      "Epoch 20/50\n",
      "33/33 [==============================] - 0s 6ms/step - loss: -42.0494 - accuracy: 0.1672 - val_loss: -45.6204 - val_accuracy: 0.1811\n",
      "Epoch 21/50\n",
      "33/33 [==============================] - 0s 6ms/step - loss: -45.0906 - accuracy: 0.1672 - val_loss: -48.8169 - val_accuracy: 0.1811\n",
      "Epoch 22/50\n",
      "33/33 [==============================] - 0s 5ms/step - loss: -48.1784 - accuracy: 0.1606 - val_loss: -52.0083 - val_accuracy: 0.1767\n",
      "Epoch 23/50\n",
      "33/33 [==============================] - 0s 6ms/step - loss: -51.2805 - accuracy: 0.1577 - val_loss: -55.2791 - val_accuracy: 0.1711\n",
      "Epoch 24/50\n",
      "33/33 [==============================] - 0s 6ms/step - loss: -54.4635 - accuracy: 0.1558 - val_loss: -58.4921 - val_accuracy: 0.1667\n",
      "Epoch 25/50\n",
      "33/33 [==============================] - 0s 6ms/step - loss: -57.6329 - accuracy: 0.1539 - val_loss: -61.7360 - val_accuracy: 0.1611\n",
      "Epoch 26/50\n",
      "33/33 [==============================] - 0s 6ms/step - loss: -60.8201 - accuracy: 0.1544 - val_loss: -65.0134 - val_accuracy: 0.1567\n",
      "Epoch 27/50\n",
      "33/33 [==============================] - 0s 6ms/step - loss: -64.0263 - accuracy: 0.1510 - val_loss: -68.2303 - val_accuracy: 0.1533\n",
      "Epoch 28/50\n",
      "33/33 [==============================] - 0s 6ms/step - loss: -67.1966 - accuracy: 0.1501 - val_loss: -71.4881 - val_accuracy: 0.1522\n",
      "Epoch 29/50\n",
      "33/33 [==============================] - 0s 6ms/step - loss: -70.3785 - accuracy: 0.1453 - val_loss: -74.6738 - val_accuracy: 0.1511\n",
      "Epoch 30/50\n",
      "33/33 [==============================] - 0s 5ms/step - loss: -73.5233 - accuracy: 0.1424 - val_loss: -77.8256 - val_accuracy: 0.1489\n",
      "Epoch 31/50\n",
      "33/33 [==============================] - 0s 7ms/step - loss: -76.6174 - accuracy: 0.1377 - val_loss: -80.9747 - val_accuracy: 0.1478\n",
      "Epoch 32/50\n",
      "33/33 [==============================] - 0s 5ms/step - loss: -79.7026 - accuracy: 0.1382 - val_loss: -84.0495 - val_accuracy: 0.1422\n",
      "Epoch 33/50\n",
      "33/33 [==============================] - 0s 5ms/step - loss: -82.7276 - accuracy: 0.1367 - val_loss: -87.1127 - val_accuracy: 0.1433\n",
      "Epoch 34/50\n",
      "33/33 [==============================] - 0s 6ms/step - loss: -85.7310 - accuracy: 0.1358 - val_loss: -90.1218 - val_accuracy: 0.1433\n",
      "Epoch 35/50\n",
      "33/33 [==============================] - 0s 6ms/step - loss: -88.6939 - accuracy: 0.1348 - val_loss: -93.1000 - val_accuracy: 0.1433\n",
      "Epoch 36/50\n",
      "33/33 [==============================] - 0s 5ms/step - loss: -91.6157 - accuracy: 0.1358 - val_loss: -96.0720 - val_accuracy: 0.1433\n",
      "Epoch 37/50\n",
      "33/33 [==============================] - 0s 5ms/step - loss: -94.5153 - accuracy: 0.1372 - val_loss: -98.9892 - val_accuracy: 0.1456\n",
      "Epoch 38/50\n",
      "33/33 [==============================] - 0s 5ms/step - loss: -97.3698 - accuracy: 0.1386 - val_loss: -101.9200 - val_accuracy: 0.1511\n",
      "Epoch 39/50\n",
      "33/33 [==============================] - 0s 5ms/step - loss: -100.2137 - accuracy: 0.1391 - val_loss: -104.7977 - val_accuracy: 0.1522\n",
      "Epoch 40/50\n",
      "33/33 [==============================] - 0s 5ms/step - loss: -103.0282 - accuracy: 0.1391 - val_loss: -107.6444 - val_accuracy: 0.1533\n",
      "Epoch 41/50\n",
      "33/33 [==============================] - 0s 6ms/step - loss: -105.8089 - accuracy: 0.1391 - val_loss: -110.4805 - val_accuracy: 0.1533\n",
      "Epoch 42/50\n",
      "33/33 [==============================] - 0s 5ms/step - loss: -108.5927 - accuracy: 0.1391 - val_loss: -113.2511 - val_accuracy: 0.1533\n",
      "Epoch 43/50\n",
      "33/33 [==============================] - 0s 5ms/step - loss: -111.3204 - accuracy: 0.1391 - val_loss: -116.0693 - val_accuracy: 0.1533\n",
      "Epoch 44/50\n",
      "33/33 [==============================] - 0s 5ms/step - loss: -114.0580 - accuracy: 0.1391 - val_loss: -118.8381 - val_accuracy: 0.1533\n",
      "Epoch 45/50\n",
      "33/33 [==============================] - 0s 6ms/step - loss: -116.7746 - accuracy: 0.1391 - val_loss: -121.5782 - val_accuracy: 0.1533\n",
      "Epoch 46/50\n",
      "33/33 [==============================] - 0s 6ms/step - loss: -119.4654 - accuracy: 0.1391 - val_loss: -124.3222 - val_accuracy: 0.1533\n",
      "Epoch 47/50\n",
      "33/33 [==============================] - 0s 6ms/step - loss: -122.1558 - accuracy: 0.1391 - val_loss: -127.0296 - val_accuracy: 0.1533\n",
      "Epoch 48/50\n",
      "33/33 [==============================] - 0s 5ms/step - loss: -124.8198 - accuracy: 0.1391 - val_loss: -129.7354 - val_accuracy: 0.1533\n",
      "Epoch 49/50\n",
      "33/33 [==============================] - 0s 6ms/step - loss: -127.4809 - accuracy: 0.1391 - val_loss: -132.4249 - val_accuracy: 0.1533\n",
      "Epoch 50/50\n",
      "33/33 [==============================] - 0s 6ms/step - loss: -130.1213 - accuracy: 0.1391 - val_loss: -135.1010 - val_accuracy: 0.1533\n"
     ]
    },
    {
     "data": {
      "text/plain": [
       "<keras.src.callbacks.History at 0x1d772bc0090>"
      ]
     },
     "execution_count": 78,
     "metadata": {},
     "output_type": "execute_result"
    }
   ],
   "source": [
    "# Train the model\n",
    "model.fit(x_train, y_train, epochs=50, batch_size=64, validation_data=(x_test, y_test))\n"
   ]
  },
  {
   "cell_type": "code",
   "execution_count": 79,
   "id": "1f78ed5a",
   "metadata": {},
   "outputs": [
    {
     "name": "stdout",
     "output_type": "stream",
     "text": [
      "29/29 [==============================] - 0s 2ms/step - loss: -135.1010 - accuracy: 0.1533\n",
      "Test Accuracy: 15.33%\n"
     ]
    }
   ],
   "source": [
    "# Evaluate the model\n",
    "loss, accuracy = model.evaluate(x_test, y_test)\n",
    "print(f'Test Accuracy: {accuracy*100:.2f}%')"
   ]
  },
  {
   "cell_type": "markdown",
   "id": "e659556c",
   "metadata": {},
   "source": [
    "# 6 moods Decision Tree\n",
    "\n"
   ]
  },
  {
   "cell_type": "code",
   "execution_count": 80,
   "id": "06b637d1",
   "metadata": {},
   "outputs": [
    {
     "name": "stdout",
     "output_type": "stream",
     "text": [
      "   Heart Rate  Pulse Rate  Temperature  Skin Senstivity\n",
      "0        69.0        64.0    96.500000              1.0\n",
      "1        77.0        63.0    97.600000              1.4\n",
      "2        70.0        83.0    98.289145              0.9\n",
      "3        80.0        78.0    97.700000              1.3\n",
      "4       100.0        89.0    98.900000              2.5\n",
      "      Heart Rate  Pulse Rate  Temperature  Skin Senstivity\n",
      "0           69.0        64.0    96.500000              1.0\n",
      "1           77.0        63.0    97.600000              1.4\n",
      "2           70.0        83.0    98.289145              0.9\n",
      "3           80.0        78.0    97.700000              1.3\n",
      "4          100.0        89.0    98.900000              2.5\n",
      "...          ...         ...          ...              ...\n",
      "2994        93.0        85.0    99.400000              1.1\n",
      "2995        99.0        60.0    99.200000              0.9\n",
      "2996        78.0        75.0    98.300000              2.0\n",
      "2997        82.0        85.0    98.800000              0.9\n",
      "2998        88.0        78.0    99.000000              3.5\n",
      "\n",
      "[2999 rows x 4 columns]\n"
     ]
    }
   ],
   "source": [
    "data=pd.read_csv('6 moodsKNN.csv')\n",
    "data.head()\n",
    "data.isnull().sum()\n",
    "data['Heart Rate'].fillna(data['Heart Rate'].mean(),inplace=True)\n",
    "data['Pulse Rate'].fillna(data['Pulse Rate'].mean(),inplace=True)\n",
    "data['Temperature'].fillna(data['Temperature'].mean(),inplace=True)\n",
    "data['Skin Senstivity'].fillna(data['Skin Senstivity'].mean(),inplace=True)\n",
    "data.isnull().sum()\n",
    "x=data.iloc[:,0:4]\n",
    "print(x.head())\n",
    "\n",
    "\n",
    "\n",
    "\n",
    "print(x)"
   ]
  },
  {
   "cell_type": "code",
   "execution_count": 81,
   "id": "73954d7d",
   "metadata": {},
   "outputs": [
    {
     "name": "stdout",
     "output_type": "stream",
     "text": [
      "[[[ 0.30013365 -0.90543801  1.54851426 -1.2678574 ]]\n",
      "\n",
      " [[ 1.1863609   1.2522199  -0.40306347  1.35591966]]\n",
      "\n",
      " [[ 1.00911545 -0.47390643  1.13031904 -0.79080703]]\n",
      "\n",
      " ...\n",
      "\n",
      " [[ 1.62947452 -0.99174432 -0.54246188 -1.02933222]]\n",
      "\n",
      " [[-0.23160269  1.42483253 -0.68186029  0.16329372]]\n",
      "\n",
      " [[-0.85196176  0.04393147 -0.54246188 -0.79080703]]]\n",
      "(2099, 1, 4)\n",
      "0           Sad\n",
      "1           Sad\n",
      "2       Neutral\n",
      "3           Sad\n",
      "4         Anger\n",
      "         ...   \n",
      "2994      Happy\n",
      "2995      Happy\n",
      "2996     Stress\n",
      "2997      Happy\n",
      "2998      Anger\n",
      "Name: Result, Length: 2999, dtype: object\n",
      "0        Sad\n",
      "1        Sad\n",
      "2    Neutral\n",
      "3        Sad\n",
      "4      Anger\n",
      "Name: Result, dtype: object\n",
      "(2999,)\n"
     ]
    }
   ],
   "source": [
    "print(x_train)\n",
    "print(x_train.shape)\n",
    "\n",
    "# train test split \n",
    "y=data.iloc[:,-1]\n",
    "print(y)\n",
    "print(y.head())\n",
    "print(y.shape)\n",
    "\n"
   ]
  },
  {
   "cell_type": "code",
   "execution_count": 82,
   "id": "728f4a7d",
   "metadata": {},
   "outputs": [],
   "source": [
    "\n",
    "# train test split\n",
    "from sklearn.model_selection import train_test_split\n",
    "x_train,x_test,y_train,y_test=train_test_split(x,y,test_size=0.3,random_state=2)"
   ]
  },
  {
   "cell_type": "code",
   "execution_count": 83,
   "id": "3d64fe80",
   "metadata": {},
   "outputs": [
    {
     "name": "stdout",
     "output_type": "stream",
     "text": [
      "      Heart Rate  Pulse Rate  Temperature  Skin Senstivity\n",
      "1706        63.0        67.0         97.0              1.8\n",
      "401         75.0        78.0         97.8              0.3\n",
      "1748        91.0        84.0         98.2              0.8\n",
      "1674        86.0        99.0         99.3              3.2\n",
      "914         75.0        89.0         97.5              2.6\n",
      "...          ...         ...          ...              ...\n",
      "1930        63.0        66.0         98.6              0.6\n",
      "1766        92.0        99.0         98.7              3.1\n",
      "547         96.0        97.0         98.0              2.0\n",
      "2365        68.0        70.0         97.0              1.3\n",
      "2112        74.0        85.0         98.3              2.4\n",
      "\n",
      "[900 rows x 4 columns]\n",
      "(900, 4)\n"
     ]
    }
   ],
   "source": [
    "print(x_test)\n",
    "print(x_test.shape)"
   ]
  },
  {
   "cell_type": "code",
   "execution_count": 84,
   "id": "7819b405",
   "metadata": {},
   "outputs": [
    {
     "name": "stdout",
     "output_type": "stream",
     "text": [
      "      Heart Rate  Pulse Rate  Temperature  Skin Senstivity\n",
      "1139        83.0        71.0         99.4              0.4\n",
      "606         93.0        96.0         98.0              3.7\n",
      "2549        91.0        76.0         99.1              1.0\n",
      "1161        90.0        95.0         99.1              3.5\n",
      "1003        75.0        98.0         97.3              2.0\n",
      "...          ...         ...          ...              ...\n",
      "2514        94.0        94.0         98.1              4.0\n",
      "2347        61.0        61.0         98.6              0.9\n",
      "1608        98.0        70.0         97.9              0.7\n",
      "2541        77.0        98.0         97.8              2.2\n",
      "2575        70.0        82.0         97.9              1.0\n",
      "\n",
      "[2099 rows x 4 columns]\n",
      "(2099, 4)\n"
     ]
    }
   ],
   "source": [
    "print(x_train)\n",
    "print(x_train.shape)"
   ]
  },
  {
   "cell_type": "code",
   "execution_count": 85,
   "id": "c1a30741",
   "metadata": {},
   "outputs": [
    {
     "name": "stdout",
     "output_type": "stream",
     "text": [
      "1706        Sad\n",
      "401     Neutral\n",
      "1748      Happy\n",
      "1674      Anger\n",
      "914        Fear\n",
      "         ...   \n",
      "1930    Neutral\n",
      "1766      Anger\n",
      "547        Fear\n",
      "2365        Sad\n",
      "2112        Sad\n",
      "Name: Result, Length: 900, dtype: object\n",
      "(900,)\n"
     ]
    }
   ],
   "source": [
    "print(y_test)\n",
    "print(y_test.shape)"
   ]
  },
  {
   "cell_type": "code",
   "execution_count": 86,
   "id": "9738a1c0",
   "metadata": {},
   "outputs": [
    {
     "name": "stdout",
     "output_type": "stream",
     "text": [
      "1139      Happy\n",
      "606       Anger\n",
      "2549      Happy\n",
      "1161    Neutral\n",
      "1003       Fear\n",
      "         ...   \n",
      "2514      Anger\n",
      "2347    Neutral\n",
      "1608      Happy\n",
      "2541     Stress\n",
      "2575    Neutral\n",
      "Name: Result, Length: 2099, dtype: object\n",
      "(2099,)\n"
     ]
    }
   ],
   "source": [
    "print(y_train)\n",
    "print(y_train.shape)"
   ]
  },
  {
   "cell_type": "code",
   "execution_count": 87,
   "id": "656cf691",
   "metadata": {},
   "outputs": [],
   "source": [
    "from sklearn.model_selection import train_test_split\n",
    "from sklearn.tree import DecisionTreeClassifier\n",
    "from sklearn.metrics import accuracy_score\n",
    "\n"
   ]
  },
  {
   "cell_type": "code",
   "execution_count": 88,
   "id": "25ca5267",
   "metadata": {},
   "outputs": [
    {
     "name": "stdout",
     "output_type": "stream",
     "text": [
      "Accuracy: 0.8011111111111111\n"
     ]
    }
   ],
   "source": [
    "\n",
    "clf = DecisionTreeClassifier()\n",
    "\n",
    "# Train the classifier\n",
    "clf.fit(x_train, y_train)\n",
    "\n",
    "# Predict the labels for test set\n",
    "y_pred = clf.predict(x_test)\n",
    "\n",
    "# Calculate accuracy\n",
    "accuracy = accuracy_score(y_test, y_pred)\n",
    "print(\"Accuracy:\", accuracy)"
   ]
  },
  {
   "cell_type": "code",
   "execution_count": 89,
   "id": "d3d7b2ad",
   "metadata": {},
   "outputs": [],
   "source": [
    "\n",
    "# Importing necessary libraries\n",
    "from sklearn.datasets import load_iris\n",
    "from sklearn.ensemble import GradientBoostingClassifier\n",
    "from sklearn.model_selection import train_test_split\n",
    "from sklearn.metrics import accuracy_score\n"
   ]
  },
  {
   "cell_type": "code",
   "execution_count": 90,
   "id": "0e62460c",
   "metadata": {},
   "outputs": [
    {
     "name": "stdout",
     "output_type": "stream",
     "text": [
      "   Heart Rate  Pulse Rate  Temperature  Skin Senstivity\n",
      "0        69.0        64.0    96.500000              1.0\n",
      "1        77.0        63.0    97.600000              1.4\n",
      "2        70.0        83.0    98.289145              0.9\n",
      "3        80.0        78.0    97.700000              1.3\n",
      "4       100.0        89.0    98.900000              2.5\n",
      "      Heart Rate  Pulse Rate  Temperature  Skin Senstivity\n",
      "0           69.0        64.0    96.500000              1.0\n",
      "1           77.0        63.0    97.600000              1.4\n",
      "2           70.0        83.0    98.289145              0.9\n",
      "3           80.0        78.0    97.700000              1.3\n",
      "4          100.0        89.0    98.900000              2.5\n",
      "...          ...         ...          ...              ...\n",
      "2994        93.0        85.0    99.400000              1.1\n",
      "2995        99.0        60.0    99.200000              0.9\n",
      "2996        78.0        75.0    98.300000              2.0\n",
      "2997        82.0        85.0    98.800000              0.9\n",
      "2998        88.0        78.0    99.000000              3.5\n",
      "\n",
      "[2999 rows x 4 columns]\n"
     ]
    }
   ],
   "source": [
    "data=pd.read_csv('6 moodsKNN.csv')\n",
    "data.head()\n",
    "data.isnull().sum()\n",
    "data['Heart Rate'].fillna(data['Heart Rate'].mean(),inplace=True)\n",
    "data['Pulse Rate'].fillna(data['Pulse Rate'].mean(),inplace=True)\n",
    "data['Temperature'].fillna(data['Temperature'].mean(),inplace=True)\n",
    "data['Skin Senstivity'].fillna(data['Skin Senstivity'].mean(),inplace=True)\n",
    "data.isnull().sum()\n",
    "x=data.iloc[:,0:4]\n",
    "print(x.head())\n",
    "\n",
    "print(x)"
   ]
  },
  {
   "cell_type": "code",
   "execution_count": 91,
   "id": "f31c5fb0",
   "metadata": {},
   "outputs": [
    {
     "name": "stdout",
     "output_type": "stream",
     "text": [
      "      Heart Rate  Pulse Rate  Temperature  Skin Senstivity\n",
      "1139        83.0        71.0         99.4              0.4\n",
      "606         93.0        96.0         98.0              3.7\n",
      "2549        91.0        76.0         99.1              1.0\n",
      "1161        90.0        95.0         99.1              3.5\n",
      "1003        75.0        98.0         97.3              2.0\n",
      "...          ...         ...          ...              ...\n",
      "2514        94.0        94.0         98.1              4.0\n",
      "2347        61.0        61.0         98.6              0.9\n",
      "1608        98.0        70.0         97.9              0.7\n",
      "2541        77.0        98.0         97.8              2.2\n",
      "2575        70.0        82.0         97.9              1.0\n",
      "\n",
      "[2099 rows x 4 columns]\n",
      "(2099, 4)\n",
      "0           Sad\n",
      "1           Sad\n",
      "2       Neutral\n",
      "3           Sad\n",
      "4         Anger\n",
      "         ...   \n",
      "2994      Happy\n",
      "2995      Happy\n",
      "2996     Stress\n",
      "2997      Happy\n",
      "2998      Anger\n",
      "Name: Result, Length: 2999, dtype: object\n",
      "0        Sad\n",
      "1        Sad\n",
      "2    Neutral\n",
      "3        Sad\n",
      "4      Anger\n",
      "Name: Result, dtype: object\n",
      "(2999,)\n"
     ]
    }
   ],
   "source": [
    "print(x_train)\n",
    "print(x_train.shape)\n",
    "\n",
    "# train test split \n",
    "y=data.iloc[:,-1]\n",
    "print(y)\n",
    "print(y.head())\n",
    "print(y.shape)\n"
   ]
  },
  {
   "cell_type": "code",
   "execution_count": 92,
   "id": "f82de9af",
   "metadata": {},
   "outputs": [],
   "source": [
    "\n",
    "# train test split\n",
    "from sklearn.model_selection import train_test_split\n",
    "x_train,x_test,y_train,y_test=train_test_split(x,y,test_size=0.3,random_state=2)"
   ]
  },
  {
   "cell_type": "code",
   "execution_count": 93,
   "id": "1beabdeb",
   "metadata": {},
   "outputs": [
    {
     "name": "stdout",
     "output_type": "stream",
     "text": [
      "      Heart Rate  Pulse Rate  Temperature  Skin Senstivity\n",
      "1706        63.0        67.0         97.0              1.8\n",
      "401         75.0        78.0         97.8              0.3\n",
      "1748        91.0        84.0         98.2              0.8\n",
      "1674        86.0        99.0         99.3              3.2\n",
      "914         75.0        89.0         97.5              2.6\n",
      "...          ...         ...          ...              ...\n",
      "1930        63.0        66.0         98.6              0.6\n",
      "1766        92.0        99.0         98.7              3.1\n",
      "547         96.0        97.0         98.0              2.0\n",
      "2365        68.0        70.0         97.0              1.3\n",
      "2112        74.0        85.0         98.3              2.4\n",
      "\n",
      "[900 rows x 4 columns]\n",
      "(900, 4)\n"
     ]
    }
   ],
   "source": [
    "print(x_test)\n",
    "print(x_test.shape)"
   ]
  },
  {
   "cell_type": "code",
   "execution_count": 94,
   "id": "2eb7003b",
   "metadata": {},
   "outputs": [
    {
     "name": "stdout",
     "output_type": "stream",
     "text": [
      "      Heart Rate  Pulse Rate  Temperature  Skin Senstivity\n",
      "1139        83.0        71.0         99.4              0.4\n",
      "606         93.0        96.0         98.0              3.7\n",
      "2549        91.0        76.0         99.1              1.0\n",
      "1161        90.0        95.0         99.1              3.5\n",
      "1003        75.0        98.0         97.3              2.0\n",
      "...          ...         ...          ...              ...\n",
      "2514        94.0        94.0         98.1              4.0\n",
      "2347        61.0        61.0         98.6              0.9\n",
      "1608        98.0        70.0         97.9              0.7\n",
      "2541        77.0        98.0         97.8              2.2\n",
      "2575        70.0        82.0         97.9              1.0\n",
      "\n",
      "[2099 rows x 4 columns]\n",
      "(2099, 4)\n"
     ]
    }
   ],
   "source": [
    "print(x_train)\n",
    "print(x_train.shape)"
   ]
  },
  {
   "cell_type": "code",
   "execution_count": 95,
   "id": "ea1b71ae",
   "metadata": {},
   "outputs": [
    {
     "name": "stdout",
     "output_type": "stream",
     "text": [
      "1139      Happy\n",
      "606       Anger\n",
      "2549      Happy\n",
      "1161    Neutral\n",
      "1003       Fear\n",
      "         ...   \n",
      "2514      Anger\n",
      "2347    Neutral\n",
      "1608      Happy\n",
      "2541     Stress\n",
      "2575    Neutral\n",
      "Name: Result, Length: 2099, dtype: object\n",
      "(2099,)\n"
     ]
    }
   ],
   "source": [
    "print(y_train)\n",
    "print(y_train.shape)"
   ]
  },
  {
   "cell_type": "code",
   "execution_count": 96,
   "id": "729abef6",
   "metadata": {},
   "outputs": [
    {
     "name": "stdout",
     "output_type": "stream",
     "text": [
      "1706        Sad\n",
      "401     Neutral\n",
      "1748      Happy\n",
      "1674      Anger\n",
      "914        Fear\n",
      "         ...   \n",
      "1930    Neutral\n",
      "1766      Anger\n",
      "547        Fear\n",
      "2365        Sad\n",
      "2112        Sad\n",
      "Name: Result, Length: 900, dtype: object\n",
      "(900,)\n"
     ]
    }
   ],
   "source": [
    "print(y_test)\n",
    "print(y_test.shape)"
   ]
  },
  {
   "cell_type": "code",
   "execution_count": 97,
   "id": "88c0ffb4",
   "metadata": {},
   "outputs": [
    {
     "name": "stdout",
     "output_type": "stream",
     "text": [
      "Accuracy: 0.8333333333333334\n"
     ]
    }
   ],
   "source": [
    "\n",
    "# Initialize Gradient Boosting Classifier\n",
    "gbdt = GradientBoostingClassifier(n_estimators=100, learning_rate=0.1, max_depth=3, random_state=42)\n",
    "\n",
    "# Train the model\n",
    "gbdt.fit(x_train, y_train)\n",
    "\n",
    "# Make predictions\n",
    "y_pred = gbdt.predict(x_test)\n",
    "\n",
    "# Calculate accuracy\n",
    "accuracy = accuracy_score(y_test, y_pred)\n",
    "print(\"Accuracy:\", accuracy)"
   ]
  },
  {
   "cell_type": "markdown",
   "id": "76e01538",
   "metadata": {},
   "source": [
    "# 6 Moods of CNN"
   ]
  },
  {
   "cell_type": "code",
   "execution_count": 98,
   "id": "1d127ea8",
   "metadata": {},
   "outputs": [
    {
     "name": "stdout",
     "output_type": "stream",
     "text": [
      "   Heart Rate  Pulse Rate  Temperature  Skin Senstivity\n",
      "0        69.0        64.0    96.500000              1.0\n",
      "1        77.0        63.0    97.600000              1.4\n",
      "2        70.0        83.0    98.289145              0.9\n",
      "3        80.0        78.0    97.700000              1.3\n",
      "4       100.0        89.0    98.900000              2.5\n",
      "      Heart Rate  Pulse Rate  Temperature  Skin Senstivity\n",
      "0           69.0        64.0    96.500000              1.0\n",
      "1           77.0        63.0    97.600000              1.4\n",
      "2           70.0        83.0    98.289145              0.9\n",
      "3           80.0        78.0    97.700000              1.3\n",
      "4          100.0        89.0    98.900000              2.5\n",
      "...          ...         ...          ...              ...\n",
      "2994        93.0        85.0    99.400000              1.1\n",
      "2995        99.0        60.0    99.200000              0.9\n",
      "2996        78.0        75.0    98.300000              2.0\n",
      "2997        82.0        85.0    98.800000              0.9\n",
      "2998        88.0        78.0    99.000000              3.5\n",
      "\n",
      "[2999 rows x 4 columns]\n"
     ]
    }
   ],
   "source": [
    "data=pd.read_csv('6 moodsKNN.csv')\n",
    "data.head()\n",
    "data.isnull().sum()\n",
    "data['Heart Rate'].fillna(data['Heart Rate'].mean(),inplace=True)\n",
    "data['Pulse Rate'].fillna(data['Pulse Rate'].mean(),inplace=True)\n",
    "data['Temperature'].fillna(data['Temperature'].mean(),inplace=True)\n",
    "data['Skin Senstivity'].fillna(data['Skin Senstivity'].mean(),inplace=True)\n",
    "data.isnull().sum()\n",
    "x=data.iloc[:,0:4]\n",
    "print(x.head())\n",
    "\n",
    "\n",
    "\n",
    "\n",
    "print(x)"
   ]
  },
  {
   "cell_type": "code",
   "execution_count": 99,
   "id": "324ca5d0",
   "metadata": {},
   "outputs": [
    {
     "name": "stdout",
     "output_type": "stream",
     "text": [
      "      Heart Rate  Pulse Rate  Temperature  Skin Senstivity\n",
      "1139        83.0        71.0         99.4              0.4\n",
      "606         93.0        96.0         98.0              3.7\n",
      "2549        91.0        76.0         99.1              1.0\n",
      "1161        90.0        95.0         99.1              3.5\n",
      "1003        75.0        98.0         97.3              2.0\n",
      "...          ...         ...          ...              ...\n",
      "2514        94.0        94.0         98.1              4.0\n",
      "2347        61.0        61.0         98.6              0.9\n",
      "1608        98.0        70.0         97.9              0.7\n",
      "2541        77.0        98.0         97.8              2.2\n",
      "2575        70.0        82.0         97.9              1.0\n",
      "\n",
      "[2099 rows x 4 columns]\n",
      "(2099, 4)\n",
      "0           Sad\n",
      "1           Sad\n",
      "2       Neutral\n",
      "3           Sad\n",
      "4         Anger\n",
      "         ...   \n",
      "2994      Happy\n",
      "2995      Happy\n",
      "2996     Stress\n",
      "2997      Happy\n",
      "2998      Anger\n",
      "Name: Result, Length: 2999, dtype: object\n",
      "0        Sad\n",
      "1        Sad\n",
      "2    Neutral\n",
      "3        Sad\n",
      "4      Anger\n",
      "Name: Result, dtype: object\n",
      "(2999,)\n"
     ]
    }
   ],
   "source": [
    "print(x_train)\n",
    "print(x_train.shape)\n",
    "\n",
    "# train test split \n",
    "y=data.iloc[:,-1]\n",
    "print(y)\n",
    "print(y.head())\n",
    "print(y.shape)\n",
    "\n"
   ]
  },
  {
   "cell_type": "code",
   "execution_count": 100,
   "id": "ae3d494a",
   "metadata": {},
   "outputs": [],
   "source": [
    "# train test split\n",
    "from sklearn.model_selection import train_test_split\n",
    "x_train,x_test,y_train,y_test=train_test_split(x,y,test_size=0.3,random_state=2)"
   ]
  },
  {
   "cell_type": "code",
   "execution_count": 101,
   "id": "5e2c0712",
   "metadata": {},
   "outputs": [
    {
     "name": "stdout",
     "output_type": "stream",
     "text": [
      "      Heart Rate  Pulse Rate  Temperature  Skin Senstivity\n",
      "1706        63.0        67.0         97.0              1.8\n",
      "401         75.0        78.0         97.8              0.3\n",
      "1748        91.0        84.0         98.2              0.8\n",
      "1674        86.0        99.0         99.3              3.2\n",
      "914         75.0        89.0         97.5              2.6\n",
      "...          ...         ...          ...              ...\n",
      "1930        63.0        66.0         98.6              0.6\n",
      "1766        92.0        99.0         98.7              3.1\n",
      "547         96.0        97.0         98.0              2.0\n",
      "2365        68.0        70.0         97.0              1.3\n",
      "2112        74.0        85.0         98.3              2.4\n",
      "\n",
      "[900 rows x 4 columns]\n",
      "(900, 4)\n"
     ]
    }
   ],
   "source": [
    "print(x_test)\n",
    "print(x_test.shape)"
   ]
  },
  {
   "cell_type": "code",
   "execution_count": 102,
   "id": "a6eaea12",
   "metadata": {},
   "outputs": [
    {
     "name": "stdout",
     "output_type": "stream",
     "text": [
      "      Heart Rate  Pulse Rate  Temperature  Skin Senstivity\n",
      "1139        83.0        71.0         99.4              0.4\n",
      "606         93.0        96.0         98.0              3.7\n",
      "2549        91.0        76.0         99.1              1.0\n",
      "1161        90.0        95.0         99.1              3.5\n",
      "1003        75.0        98.0         97.3              2.0\n",
      "...          ...         ...          ...              ...\n",
      "2514        94.0        94.0         98.1              4.0\n",
      "2347        61.0        61.0         98.6              0.9\n",
      "1608        98.0        70.0         97.9              0.7\n",
      "2541        77.0        98.0         97.8              2.2\n",
      "2575        70.0        82.0         97.9              1.0\n",
      "\n",
      "[2099 rows x 4 columns]\n",
      "(2099, 4)\n"
     ]
    }
   ],
   "source": [
    "print(x_train)\n",
    "print(x_train.shape)"
   ]
  },
  {
   "cell_type": "code",
   "execution_count": 103,
   "id": "add92e02",
   "metadata": {},
   "outputs": [
    {
     "name": "stdout",
     "output_type": "stream",
     "text": [
      "1139      Happy\n",
      "606       Anger\n",
      "2549      Happy\n",
      "1161    Neutral\n",
      "1003       Fear\n",
      "         ...   \n",
      "2514      Anger\n",
      "2347    Neutral\n",
      "1608      Happy\n",
      "2541     Stress\n",
      "2575    Neutral\n",
      "Name: Result, Length: 2099, dtype: object\n",
      "(2099,)\n"
     ]
    }
   ],
   "source": [
    "print(y_train)\n",
    "print(y_train.shape)"
   ]
  },
  {
   "cell_type": "code",
   "execution_count": 104,
   "id": "043b3511",
   "metadata": {},
   "outputs": [
    {
     "name": "stdout",
     "output_type": "stream",
     "text": [
      "1706        Sad\n",
      "401     Neutral\n",
      "1748      Happy\n",
      "1674      Anger\n",
      "914        Fear\n",
      "         ...   \n",
      "1930    Neutral\n",
      "1766      Anger\n",
      "547        Fear\n",
      "2365        Sad\n",
      "2112        Sad\n",
      "Name: Result, Length: 900, dtype: object\n",
      "(900,)\n"
     ]
    }
   ],
   "source": [
    "print(y_test)\n",
    "print(y_test.shape)"
   ]
  },
  {
   "cell_type": "code",
   "execution_count": 105,
   "id": "6dd91f11",
   "metadata": {},
   "outputs": [],
   "source": [
    "from keras.layers import Dense, Conv2D, MaxPooling2D, Flatten, Dropout\n",
    "from keras.utils import to_categorical \n",
    "\n",
    "\n",
    "# Reshape data for CNN\n",
    "x_train = np.array(x_train).reshape(-1, 1, 4, 1)\n",
    "x_test = np.array(x_test).reshape(-1, 1, 4, 1)\n",
    "\n"
   ]
  },
  {
   "cell_type": "code",
   "execution_count": 106,
   "id": "d848ac59",
   "metadata": {},
   "outputs": [],
   "source": [
    "from sklearn.preprocessing import LabelEncoder\n",
    "from tensorflow.keras.preprocessing.text import Tokenizer\n",
    "from tensorflow.keras.preprocessing.sequence import pad_sequences\n",
    "from tensorflow.keras.models import Sequential\n",
    "from tensorflow.keras.layers import Embedding, Conv1D, GlobalMaxPooling1D, Dense, Dropout\n"
   ]
  },
  {
   "cell_type": "code",
   "execution_count": 107,
   "id": "5576fc4f",
   "metadata": {},
   "outputs": [],
   "source": [
    "data['Result'] = data['Result'].astype(str)\n",
    "tokenizer = Tokenizer()\n",
    "tokenizer.fit_on_texts(data['Result'])\n",
    "X = tokenizer.texts_to_sequences(data['Result'])\n",
    "maxlen = 100  # Example maximum sequence length\n",
    "X = pad_sequences(X, maxlen=maxlen)"
   ]
  },
  {
   "cell_type": "code",
   "execution_count": 108,
   "id": "68b3cfe2",
   "metadata": {},
   "outputs": [],
   "source": [
    "\n",
    "\n",
    "# Define the CNN model\n",
    "model = Sequential()\n",
    "model.add(Embedding(input_dim=len(tokenizer.word_index) + 1, output_dim=100, input_length=X.shape[1]))\n",
    "model.add(Conv1D(128, 5, activation='relu'))\n",
    "model.add(GlobalMaxPooling1D())\n",
    "model.add(Dense(64, activation='relu'))\n",
    "model.add(Dropout(0.5))\n",
    "model.add(Dense(1, activation='sigmoid'))"
   ]
  },
  {
   "cell_type": "code",
   "execution_count": 109,
   "id": "d901083f",
   "metadata": {},
   "outputs": [],
   "source": [
    "\n",
    "# Compile the model\n",
    "model.compile(loss='binary_crossentropy', optimizer='adam', metrics=['accuracy'])\n"
   ]
  },
  {
   "cell_type": "code",
   "execution_count": 110,
   "id": "f665caed",
   "metadata": {},
   "outputs": [
    {
     "name": "stdout",
     "output_type": "stream",
     "text": [
      "Epoch 1/10\n"
     ]
    },
    {
     "ename": "ValueError",
     "evalue": "in user code:\n\n    File \"C:\\Users\\HP\\anaconda3\\Lib\\site-packages\\keras\\src\\engine\\training.py\", line 1401, in train_function  *\n        return step_function(self, iterator)\n    File \"C:\\Users\\HP\\anaconda3\\Lib\\site-packages\\keras\\src\\engine\\training.py\", line 1384, in step_function  **\n        outputs = model.distribute_strategy.run(run_step, args=(data,))\n    File \"C:\\Users\\HP\\anaconda3\\Lib\\site-packages\\keras\\src\\engine\\training.py\", line 1373, in run_step  **\n        outputs = model.train_step(data)\n    File \"C:\\Users\\HP\\anaconda3\\Lib\\site-packages\\keras\\src\\engine\\training.py\", line 1150, in train_step\n        y_pred = self(x, training=True)\n    File \"C:\\Users\\HP\\anaconda3\\Lib\\site-packages\\keras\\src\\utils\\traceback_utils.py\", line 70, in error_handler\n        raise e.with_traceback(filtered_tb) from None\n    File \"C:\\Users\\HP\\anaconda3\\Lib\\site-packages\\keras\\src\\engine\\input_spec.py\", line 298, in assert_input_compatibility\n        raise ValueError(\n\n    ValueError: Input 0 of layer \"sequential_1\" is incompatible with the layer: expected shape=(None, 100), found shape=(None, 1, 4, 1)\n",
     "output_type": "error",
     "traceback": [
      "\u001b[1;31m---------------------------------------------------------------------------\u001b[0m",
      "\u001b[1;31mValueError\u001b[0m                                Traceback (most recent call last)",
      "Cell \u001b[1;32mIn[110], line 2\u001b[0m\n\u001b[0;32m      1\u001b[0m \u001b[38;5;66;03m# Train the model\u001b[39;00m\n\u001b[1;32m----> 2\u001b[0m model\u001b[38;5;241m.\u001b[39mfit(x_train, y_train, epochs\u001b[38;5;241m=\u001b[39m\u001b[38;5;241m10\u001b[39m, batch_size\u001b[38;5;241m=\u001b[39m\u001b[38;5;241m32\u001b[39m, validation_data\u001b[38;5;241m=\u001b[39m(x_test, y_test))\n",
      "File \u001b[1;32m~\\anaconda3\\Lib\\site-packages\\keras\\src\\utils\\traceback_utils.py:70\u001b[0m, in \u001b[0;36mfilter_traceback.<locals>.error_handler\u001b[1;34m(*args, **kwargs)\u001b[0m\n\u001b[0;32m     67\u001b[0m     filtered_tb \u001b[38;5;241m=\u001b[39m _process_traceback_frames(e\u001b[38;5;241m.\u001b[39m__traceback__)\n\u001b[0;32m     68\u001b[0m     \u001b[38;5;66;03m# To get the full stack trace, call:\u001b[39;00m\n\u001b[0;32m     69\u001b[0m     \u001b[38;5;66;03m# `tf.debugging.disable_traceback_filtering()`\u001b[39;00m\n\u001b[1;32m---> 70\u001b[0m     \u001b[38;5;28;01mraise\u001b[39;00m e\u001b[38;5;241m.\u001b[39mwith_traceback(filtered_tb) \u001b[38;5;28;01mfrom\u001b[39;00m \u001b[38;5;28;01mNone\u001b[39;00m\n\u001b[0;32m     71\u001b[0m \u001b[38;5;28;01mfinally\u001b[39;00m:\n\u001b[0;32m     72\u001b[0m     \u001b[38;5;28;01mdel\u001b[39;00m filtered_tb\n",
      "File \u001b[1;32m~\\AppData\\Local\\Temp\\__autograph_generated_file_d2u3wfr.py:15\u001b[0m, in \u001b[0;36mouter_factory.<locals>.inner_factory.<locals>.tf__train_function\u001b[1;34m(iterator)\u001b[0m\n\u001b[0;32m     13\u001b[0m \u001b[38;5;28;01mtry\u001b[39;00m:\n\u001b[0;32m     14\u001b[0m     do_return \u001b[38;5;241m=\u001b[39m \u001b[38;5;28;01mTrue\u001b[39;00m\n\u001b[1;32m---> 15\u001b[0m     retval_ \u001b[38;5;241m=\u001b[39m ag__\u001b[38;5;241m.\u001b[39mconverted_call(ag__\u001b[38;5;241m.\u001b[39mld(step_function), (ag__\u001b[38;5;241m.\u001b[39mld(\u001b[38;5;28mself\u001b[39m), ag__\u001b[38;5;241m.\u001b[39mld(iterator)), \u001b[38;5;28;01mNone\u001b[39;00m, fscope)\n\u001b[0;32m     16\u001b[0m \u001b[38;5;28;01mexcept\u001b[39;00m:\n\u001b[0;32m     17\u001b[0m     do_return \u001b[38;5;241m=\u001b[39m \u001b[38;5;28;01mFalse\u001b[39;00m\n",
      "\u001b[1;31mValueError\u001b[0m: in user code:\n\n    File \"C:\\Users\\HP\\anaconda3\\Lib\\site-packages\\keras\\src\\engine\\training.py\", line 1401, in train_function  *\n        return step_function(self, iterator)\n    File \"C:\\Users\\HP\\anaconda3\\Lib\\site-packages\\keras\\src\\engine\\training.py\", line 1384, in step_function  **\n        outputs = model.distribute_strategy.run(run_step, args=(data,))\n    File \"C:\\Users\\HP\\anaconda3\\Lib\\site-packages\\keras\\src\\engine\\training.py\", line 1373, in run_step  **\n        outputs = model.train_step(data)\n    File \"C:\\Users\\HP\\anaconda3\\Lib\\site-packages\\keras\\src\\engine\\training.py\", line 1150, in train_step\n        y_pred = self(x, training=True)\n    File \"C:\\Users\\HP\\anaconda3\\Lib\\site-packages\\keras\\src\\utils\\traceback_utils.py\", line 70, in error_handler\n        raise e.with_traceback(filtered_tb) from None\n    File \"C:\\Users\\HP\\anaconda3\\Lib\\site-packages\\keras\\src\\engine\\input_spec.py\", line 298, in assert_input_compatibility\n        raise ValueError(\n\n    ValueError: Input 0 of layer \"sequential_1\" is incompatible with the layer: expected shape=(None, 100), found shape=(None, 1, 4, 1)\n"
     ]
    }
   ],
   "source": [
    "# Train the model\n",
    "model.fit(x_train, y_train, epochs=10, batch_size=32, validation_data=(x_test, y_test))\n"
   ]
  },
  {
   "cell_type": "markdown",
   "id": "a0ac31e4",
   "metadata": {},
   "source": [
    "# 6 moods of Scikit learn \n"
   ]
  },
  {
   "cell_type": "code",
   "execution_count": null,
   "id": "4f1a6389",
   "metadata": {},
   "outputs": [],
   "source": [
    "from keras.models import Sequential\n",
    "from keras.layers import Conv1D, MaxPooling1D, Flatten, Dense, Dropout\n",
    "from keras.utils import to_categorical"
   ]
  },
  {
   "cell_type": "code",
   "execution_count": null,
   "id": "7391b103",
   "metadata": {},
   "outputs": [],
   "source": [
    "data=pd.read_csv('6 moodsKNN.csv')\n",
    "data.head()\n",
    "data.isnull().sum()\n",
    "data['Heart Rate'].fillna(data['Heart Rate'].mean(),inplace=True)\n",
    "data['Pulse Rate'].fillna(data['Pulse Rate'].mean(),inplace=True)\n",
    "data['Temperature'].fillna(data['Temperature'].mean(),inplace=True)\n",
    "data['Skin Senstivity'].fillna(data['Skin Senstivity'].mean(),inplace=True)\n",
    "data.isnull().sum()\n",
    "x=data.iloc[:,0:4]\n",
    "print(x.head())\n"
   ]
  },
  {
   "cell_type": "code",
   "execution_count": null,
   "id": "b5ab7445",
   "metadata": {},
   "outputs": [],
   "source": [
    "\n",
    "# train test split \n",
    "y=data.iloc[:,-1]\n",
    "print(y)\n",
    "print(y.head())\n",
    "print(y.shape)\n"
   ]
  },
  {
   "cell_type": "code",
   "execution_count": null,
   "id": "036ef389",
   "metadata": {},
   "outputs": [],
   "source": [
    "\n",
    "# train test split\n",
    "from sklearn.model_selection import train_test_split\n",
    "x_train,x_test,y_train,y_test=train_test_split(x,y,test_size=0.3,random_state=2)"
   ]
  },
  {
   "cell_type": "code",
   "execution_count": null,
   "id": "448a250a",
   "metadata": {},
   "outputs": [],
   "source": [
    "print(x_test)\n",
    "print(x_test.shape)"
   ]
  },
  {
   "cell_type": "code",
   "execution_count": null,
   "id": "bbbb7705",
   "metadata": {},
   "outputs": [],
   "source": [
    "print(x_train)\n",
    "print(x_train.shape)"
   ]
  },
  {
   "cell_type": "code",
   "execution_count": null,
   "id": "8dc924f6",
   "metadata": {},
   "outputs": [],
   "source": [
    "print(y_train)\n",
    "print(y_train.shape)"
   ]
  },
  {
   "cell_type": "code",
   "execution_count": null,
   "id": "f939f235",
   "metadata": {},
   "outputs": [],
   "source": [
    "print(y_test)\n",
    "print(y_test.shape)"
   ]
  },
  {
   "cell_type": "code",
   "execution_count": null,
   "id": "b8348aa7",
   "metadata": {},
   "outputs": [],
   "source": [
    "from sklearn.preprocessing import LabelEncoder, StandardScaler\n",
    "\n",
    "#  Standardize features by removing the mean and scaling to unit variance\n",
    "scaler = StandardScaler()\n",
    "x_train = scaler.fit_transform(x_train)\n",
    "x_test = scaler.transform(x_test)\n"
   ]
  },
  {
   "cell_type": "code",
   "execution_count": null,
   "id": "6d6b044c",
   "metadata": {},
   "outputs": [],
   "source": [
    "\n",
    "from sklearn.ensemble import RandomForestClassifier# Initialize and train the Random Forest classifier\n",
    "clf = RandomForestClassifier(random_state=2)\n",
    "clf.fit(x_train, y_train)\n",
    "\n",
    "# Make predictions on the test set\n",
    "y_pred = clf.predict(x_test)\n",
    "\n",
    "# Calculate the accuracy of the model\n",
    "accuracy = accuracy_score(y_test, y_pred)\n",
    "print(\"Accuracy:\", accuracy)"
   ]
  },
  {
   "cell_type": "markdown",
   "id": "c2b43d20",
   "metadata": {},
   "source": [
    "# 10 Moods of LSTM\n"
   ]
  },
  {
   "cell_type": "code",
   "execution_count": null,
   "id": "c98a2bef",
   "metadata": {},
   "outputs": [],
   "source": [
    "pip install tensorflow"
   ]
  },
  {
   "cell_type": "code",
   "execution_count": null,
   "id": "1cf42cd2",
   "metadata": {},
   "outputs": [],
   "source": [
    "from sklearn.model_selection import train_test_split\n",
    "from sklearn.preprocessing import StandardScaler, LabelEncoder\n",
    "from keras.models import Sequential\n",
    "from keras.layers import LSTM, Dense"
   ]
  },
  {
   "cell_type": "code",
   "execution_count": null,
   "id": "94a66c75",
   "metadata": {},
   "outputs": [],
   "source": [
    "data=pd.read_csv('mood of child.csv')\n",
    "data.head()\n",
    "data.isnull().sum()\n",
    "data['Heart Rate'].fillna(data['Heart Rate'].mean(),inplace=True)\n",
    "data['Pulse Rate'].fillna(data['Pulse Rate'].mean(),inplace=True)\n",
    "data['Temperature'].fillna(data['Temperature'].mean(),inplace=True)\n",
    "data['Skin Senstivity'].fillna(data['Skin Senstivity'].mean(),inplace=True)\n",
    "data.isnull().sum()\n",
    "x=data.iloc[:,0:4]\n",
    "print(x.head())\n",
    "\n",
    "\n",
    "\n",
    "\n",
    "print(x)"
   ]
  },
  {
   "cell_type": "code",
   "execution_count": null,
   "id": "8f13273f",
   "metadata": {},
   "outputs": [],
   "source": [
    "\n",
    "# train test split \n",
    "y=data.iloc[:,-1]\n",
    "print(y)\n",
    "print(y.head())\n",
    "print(y.shape)\n"
   ]
  },
  {
   "cell_type": "code",
   "execution_count": null,
   "id": "9134c87a",
   "metadata": {},
   "outputs": [],
   "source": [
    "\n",
    "# train test split\n",
    "from sklearn.model_selection import train_test_split\n",
    "x_train,x_test,y_train,y_test=train_test_split(x,y,test_size=0.3,random_state=2)"
   ]
  },
  {
   "cell_type": "code",
   "execution_count": null,
   "id": "a359fd13",
   "metadata": {},
   "outputs": [],
   "source": [
    "print(x_train)\n",
    "print(x_train.shape)"
   ]
  },
  {
   "cell_type": "code",
   "execution_count": null,
   "id": "ff0aa2ad",
   "metadata": {},
   "outputs": [],
   "source": [
    "print(x_test)\n",
    "print(x_test.shape)"
   ]
  },
  {
   "cell_type": "code",
   "execution_count": null,
   "id": "754cae48",
   "metadata": {},
   "outputs": [],
   "source": [
    "print(y_test)\n",
    "print(y_test.shape)"
   ]
  },
  {
   "cell_type": "code",
   "execution_count": null,
   "id": "4ea076aa",
   "metadata": {},
   "outputs": [],
   "source": [
    "print(y_train)\n",
    "print(y_train.shape)"
   ]
  },
  {
   "cell_type": "code",
   "execution_count": null,
   "id": "d0de4971",
   "metadata": {},
   "outputs": [],
   "source": [
    "pip install MedPy"
   ]
  },
  {
   "cell_type": "code",
   "execution_count": null,
   "id": "883a4a35",
   "metadata": {},
   "outputs": [],
   "source": [
    "# Normalize numerical features\n",
    "scaler = StandardScaler()\n",
    "numerical_cols = ['Heart Rate','Pulse Rate','Temperature', 'Skin Senstivity']\n",
    "data[numerical_cols] = scaler.fit_transform(data[numerical_cols])"
   ]
  },
  {
   "cell_type": "code",
   "execution_count": null,
   "id": "1cb12df1",
   "metadata": {},
   "outputs": [],
   "source": [
    "# Encode categorical variable 'Result'\n",
    "label_encoder = LabelEncoder()\n",
    "data['Result'] = label_encoder.fit_transform(data['Result'])"
   ]
  },
  {
   "cell_type": "code",
   "execution_count": null,
   "id": "df633a99",
   "metadata": {},
   "outputs": [],
   "source": [
    "# Split the data into features and target variable\n",
    "x = data[numerical_cols].values\n",
    "y = data['Result'].values"
   ]
  },
  {
   "cell_type": "code",
   "execution_count": null,
   "id": "f1b72b88",
   "metadata": {},
   "outputs": [],
   "source": [
    "time_steps = 1\n",
    "x_reshaped = x.reshape((x.shape[0], time_steps, x.shape[1]))\n",
    "x_train, x_test, y_train, y_test = train_test_split(x_reshaped, y, test_size=0.3, random_state=2)"
   ]
  },
  {
   "cell_type": "code",
   "execution_count": null,
   "id": "7459a8a5",
   "metadata": {},
   "outputs": [],
   "source": [
    "#  Define the LSTM model\n",
    "model = Sequential()\n",
    "model.add(LSTM(units=50, input_shape=(x_train.shape[1], x_train.shape[2])))\n",
    "model.add(Dense(1, activation='sigmoid'))\n"
   ]
  },
  {
   "cell_type": "code",
   "execution_count": null,
   "id": "2c12a537",
   "metadata": {},
   "outputs": [],
   "source": [
    "#  Compile the model\n",
    "\n",
    "\n",
    "model.compile(optimizer='adam', loss='binary_crossentropy', metrics=['accuracy'])\n"
   ]
  },
  {
   "cell_type": "code",
   "execution_count": null,
   "id": "c860abe6",
   "metadata": {},
   "outputs": [],
   "source": [
    "# Train the model\n",
    "\n",
    "model.fit(x_train, y_train, epochs=50, batch_size=64, validation_data=(x_test, y_test))\n",
    "\n"
   ]
  },
  {
   "cell_type": "code",
   "execution_count": null,
   "id": "043c1f0e",
   "metadata": {},
   "outputs": [],
   "source": [
    "# Evaluate the model\n",
    "loss, accuracy = model.evaluate(x_test, y_test)\n",
    "print(f'Test Accuracy: {accuracy*100:.2f}%')"
   ]
  },
  {
   "cell_type": "markdown",
   "id": "1b73d374",
   "metadata": {},
   "source": [
    "# 10 moods of Decision Tree\n",
    "\n",
    "\n"
   ]
  },
  {
   "cell_type": "code",
   "execution_count": null,
   "id": "55deccbf",
   "metadata": {},
   "outputs": [],
   "source": [
    "data=pd.read_csv('mood of child.csv')\n",
    "data.head()\n",
    "data.isnull().sum()\n",
    "data['Heart Rate'].fillna(data['Heart Rate'].mean(),inplace=True)\n",
    "data['Pulse Rate'].fillna(data['Pulse Rate'].mean(),inplace=True)\n",
    "data['Temperature'].fillna(data['Temperature'].mean(),inplace=True)\n",
    "data['Skin Senstivity'].fillna(data['Skin Senstivity'].mean(),inplace=True)\n",
    "data.isnull().sum()\n",
    "x=data.iloc[:,0:4]\n",
    "print(x.head())\n",
    "\n",
    "\n",
    "\n",
    "\n",
    "print(x)"
   ]
  },
  {
   "cell_type": "code",
   "execution_count": null,
   "id": "dd99078f",
   "metadata": {},
   "outputs": [],
   "source": [
    "print(x_train)\n",
    "print(x_train.shape)\n",
    "\n",
    "# train test split \n",
    "y=data.iloc[:,-1]\n",
    "print(y)\n",
    "print(y.head())\n",
    "print(y.shape)\n"
   ]
  },
  {
   "cell_type": "code",
   "execution_count": null,
   "id": "b15d6000",
   "metadata": {},
   "outputs": [],
   "source": [
    "\n",
    "# train test split\n",
    "from sklearn.model_selection import train_test_split\n",
    "x_train,x_test,y_train,y_test=train_test_split(x,y,test_size=0.3,random_state=2)"
   ]
  },
  {
   "cell_type": "code",
   "execution_count": null,
   "id": "f2b8797a",
   "metadata": {},
   "outputs": [],
   "source": [
    "print(x_test)\n",
    "print(x_test.shape)"
   ]
  },
  {
   "cell_type": "code",
   "execution_count": null,
   "id": "7d9c5fd8",
   "metadata": {},
   "outputs": [],
   "source": [
    "print(x_train)\n",
    "print(x_train.shape)"
   ]
  },
  {
   "cell_type": "code",
   "execution_count": null,
   "id": "4a0be546",
   "metadata": {},
   "outputs": [],
   "source": [
    "print(y_train)\n",
    "print(y_train.shape)"
   ]
  },
  {
   "cell_type": "code",
   "execution_count": null,
   "id": "3d2decd0",
   "metadata": {},
   "outputs": [],
   "source": [
    "print(y_test)\n",
    "print(y_test.shape)\n"
   ]
  },
  {
   "cell_type": "code",
   "execution_count": null,
   "id": "5ca88620",
   "metadata": {},
   "outputs": [],
   "source": [
    "from sklearn.model_selection import train_test_split\n",
    "from sklearn.tree import DecisionTreeClassifier\n",
    "from sklearn.metrics import accuracy_score\n"
   ]
  },
  {
   "cell_type": "code",
   "execution_count": null,
   "id": "a4657984",
   "metadata": {},
   "outputs": [],
   "source": [
    "\n",
    "clf = DecisionTreeClassifier()\n",
    "\n",
    "# Train the classifier\n",
    "clf.fit(x_train, y_train)\n",
    "\n",
    "# Predict the labels for test set\n",
    "y_pred = clf.predict(x_test)\n",
    "\n",
    "# Calculate accuracy\n",
    "accuracy = accuracy_score(y_test, y_pred)\n",
    "print(\"Accuracy:\", accuracy)"
   ]
  },
  {
   "cell_type": "code",
   "execution_count": null,
   "id": "bbd3c0e0",
   "metadata": {},
   "outputs": [],
   "source": [
    "\n",
    "# Importing necessary libraries\n",
    "from sklearn.datasets import load_iris\n",
    "from sklearn.ensemble import GradientBoostingClassifier\n",
    "from sklearn.model_selection import train_test_split\n",
    "from sklearn.metrics import accuracy_score\n"
   ]
  },
  {
   "cell_type": "code",
   "execution_count": null,
   "id": "cf456055",
   "metadata": {},
   "outputs": [],
   "source": [
    "data=pd.read_csv('mood of child.csv')\n",
    "data.head()\n",
    "data.isnull().sum()\n",
    "data['Heart Rate'].fillna(data['Heart Rate'].mean(),inplace=True)\n",
    "data['Pulse Rate'].fillna(data['Pulse Rate'].mean(),inplace=True)\n",
    "data['Temperature'].fillna(data['Temperature'].mean(),inplace=True)\n",
    "data['Skin Senstivity'].fillna(data['Skin Senstivity'].mean(),inplace=True)\n",
    "data.isnull().sum()\n",
    "x=data.iloc[:,0:4]\n",
    "print(x.head())\n",
    "\n",
    "\n",
    "\n",
    "\n",
    "print(x)\n"
   ]
  },
  {
   "cell_type": "code",
   "execution_count": null,
   "id": "8224692b",
   "metadata": {},
   "outputs": [],
   "source": [
    "print(x_train)\n",
    "print(x_train.shape)\n",
    "\n",
    "# train test split \n",
    "y=data.iloc[:,-1]\n",
    "print(y)\n",
    "print(y.head())\n",
    "print(y.shape)\n"
   ]
  },
  {
   "cell_type": "code",
   "execution_count": null,
   "id": "b77e3668",
   "metadata": {},
   "outputs": [],
   "source": [
    "\n",
    "# train test split\n",
    "from sklearn.model_selection import train_test_split\n",
    "x_train,x_test,y_train,y_test=train_test_split(x,y,test_size=0.3,random_state=2)"
   ]
  },
  {
   "cell_type": "code",
   "execution_count": null,
   "id": "70f6fc40",
   "metadata": {},
   "outputs": [],
   "source": [
    "print(x_test)\n",
    "print(x_test.shape)"
   ]
  },
  {
   "cell_type": "code",
   "execution_count": null,
   "id": "07a038e4",
   "metadata": {},
   "outputs": [],
   "source": [
    "print(x_train)\n",
    "print(x_train.shape)"
   ]
  },
  {
   "cell_type": "code",
   "execution_count": null,
   "id": "1211ce5e",
   "metadata": {},
   "outputs": [],
   "source": [
    "print(y_train)\n",
    "print(y_train.shape)"
   ]
  },
  {
   "cell_type": "code",
   "execution_count": null,
   "id": "b8be3957",
   "metadata": {},
   "outputs": [],
   "source": [
    "print(y_test)\n",
    "print(y_test.shape)"
   ]
  },
  {
   "cell_type": "code",
   "execution_count": null,
   "id": "ec05bce1",
   "metadata": {},
   "outputs": [],
   "source": [
    "# Initialize Gradient Boosting Classifier\n",
    "gbdt = GradientBoostingClassifier(n_estimators=100, learning_rate=0.1, max_depth=3, random_state=42)\n",
    "\n",
    "# Train the model\n",
    "gbdt.fit(x_train, y_train)\n",
    "\n",
    "# Make predictions\n",
    "y_pred = gbdt.predict(x_test)\n",
    "\n",
    "# Calculate accuracy\n",
    "accuracy = accuracy_score(y_test, y_pred)\n",
    "print(\"Accuracy:\", accuracy)"
   ]
  },
  {
   "cell_type": "markdown",
   "id": "b9d7476d",
   "metadata": {},
   "source": [
    "# 10 moods of Scikit learn\n"
   ]
  },
  {
   "cell_type": "code",
   "execution_count": null,
   "id": "76737a2d",
   "metadata": {},
   "outputs": [],
   "source": [
    "data=pd.read_csv('mood of child.csv')\n",
    "data.head()\n",
    "data.isnull().sum()\n",
    "data['Heart Rate'].fillna(data['Heart Rate'].mean(),inplace=True)\n",
    "data['Pulse Rate'].fillna(data['Pulse Rate'].mean(),inplace=True)\n",
    "data['Temperature'].fillna(data['Temperature'].mean(),inplace=True)\n",
    "data['Skin Senstivity'].fillna(data['Skin Senstivity'].mean(),inplace=True)\n",
    "data.isnull().sum()\n",
    "x=data.iloc[:,0:4]\n",
    "print(x.head())\n",
    "\n",
    "\n",
    "\n",
    "\n",
    "print(x)"
   ]
  },
  {
   "cell_type": "code",
   "execution_count": null,
   "id": "45e6d57e",
   "metadata": {},
   "outputs": [],
   "source": [
    "print(x_train)\n",
    "print(x_train.shape)\n",
    "\n",
    "# train test split \n",
    "y=data.iloc[:,-1]\n",
    "print(y)\n",
    "print(y.head())\n",
    "print(y.shape)\n"
   ]
  },
  {
   "cell_type": "code",
   "execution_count": null,
   "id": "1770b861",
   "metadata": {},
   "outputs": [],
   "source": [
    "\n",
    "# train test split\n",
    "from sklearn.model_selection import train_test_split\n",
    "x_train,x_test,y_train,y_test=train_test_split(x,y,test_size=0.3,random_state=2)"
   ]
  },
  {
   "cell_type": "code",
   "execution_count": null,
   "id": "e0c04cee",
   "metadata": {},
   "outputs": [],
   "source": [
    "print(x_test)\n",
    "print(x_test.shape)"
   ]
  },
  {
   "cell_type": "code",
   "execution_count": null,
   "id": "b25ac244",
   "metadata": {},
   "outputs": [],
   "source": [
    "print(x_train)\n",
    "print(x_train.shape)"
   ]
  },
  {
   "cell_type": "code",
   "execution_count": null,
   "id": "e608d6e5",
   "metadata": {},
   "outputs": [],
   "source": [
    "print(y_test)\n",
    "print(y_test.shape)"
   ]
  },
  {
   "cell_type": "code",
   "execution_count": null,
   "id": "238a0a89",
   "metadata": {},
   "outputs": [],
   "source": [
    "print(y_train)\n",
    "print(y_train.shape)"
   ]
  },
  {
   "cell_type": "code",
   "execution_count": null,
   "id": "46006c99",
   "metadata": {},
   "outputs": [],
   "source": [
    "from keras.models import Sequential\n",
    "from keras.layers import Conv1D, MaxPooling1D, Flatten, Dense, Dropout\n",
    "from keras.utils import to_categorical"
   ]
  },
  {
   "cell_type": "code",
   "execution_count": null,
   "id": "e972bdc9",
   "metadata": {},
   "outputs": [],
   "source": [
    "from sklearn.preprocessing import LabelEncoder, StandardScaler\n",
    "\n",
    "#  Standardize features by removing the mean and scaling to unit variance\n",
    "scaler = StandardScaler()\n",
    "x_train = scaler.fit_transform(x_train)\n",
    "x_test = scaler.transform(x_test)\n"
   ]
  },
  {
   "cell_type": "code",
   "execution_count": null,
   "id": "72272ac4",
   "metadata": {},
   "outputs": [],
   "source": [
    "\n",
    "from sklearn.ensemble import RandomForestClassifier# Initialize and train the Random Forest classifier\n",
    "clf = RandomForestClassifier(random_state=2)\n",
    "clf.fit(x_train, y_train)\n",
    "\n",
    "# Make predictions on the test set\n",
    "y_pred = clf.predict(x_test)\n",
    "\n",
    "\n",
    "# Calculate the accuracy of the model\n",
    "accuracy = accuracy_score(y_test, y_pred)\n",
    "print(\"Accuracy:\", accuracy)"
   ]
  },
  {
   "cell_type": "markdown",
   "id": "0f58477c",
   "metadata": {},
   "source": [
    "# 8 moods of child "
   ]
  },
  {
   "cell_type": "code",
   "execution_count": null,
   "id": "8b94c296",
   "metadata": {},
   "outputs": [],
   "source": [
    "import pandas as pd\n",
    "import matplotlib.pyplot as plt \n",
    "import numpy as np\n",
    "from sklearn.model_selection import train_test_split\n",
    "from sklearn.preprocessing import StandardScaler\n",
    "from sklearn.neighbors import KNeighborsClassifier\n",
    "from sklearn.metrics import confusion_matrix\n",
    "from sklearn.metrics import accuracy_score\n",
    "from sklearn.metrics import f1_score\n",
    "# for decision tree\n",
    "import matplotlib.pyplot as mtp  \n",
    "%matplotlib inline\n",
    "# for linear regression\n",
    "from sklearn.linear_model import LinearRegression\n",
    "import seaborn as sns\n",
    "# for SVM\n",
    "from sklearn import svm, datasets\n",
    "from sklearn.pipeline import make_pipeline\n",
    "from  sklearn.preprocessing import StandardScaler\n",
    "import warnings\n",
    "warnings.filterwarnings('ignore')"
   ]
  },
  {
   "cell_type": "code",
   "execution_count": null,
   "id": "3a36762c",
   "metadata": {},
   "outputs": [],
   "source": [
    "data=pd.read_csv('8moods of child.csv')\n",
    "data.head()"
   ]
  },
  {
   "cell_type": "code",
   "execution_count": null,
   "id": "e00f23e7",
   "metadata": {},
   "outputs": [],
   "source": [
    "data.isnull().sum()"
   ]
  },
  {
   "cell_type": "code",
   "execution_count": null,
   "id": "8ef7b586",
   "metadata": {},
   "outputs": [],
   "source": [
    "data['Heart Rate'].fillna(data['Heart Rate'].mean(),inplace=True)\n",
    "data['Pulse Rate'].fillna(data['Pulse Rate'].mean(),inplace=True)\n",
    "data['Temperature'].fillna(data['Temperature'].mean(),inplace=True)\n",
    "data['Skin Senstivity'].fillna(data['Skin Senstivity'].mean(),inplace=True)\n",
    "data.isnull().sum()"
   ]
  },
  {
   "cell_type": "code",
   "execution_count": null,
   "id": "049c37d4",
   "metadata": {},
   "outputs": [],
   "source": [
    "x=data.iloc[:,0:4]\n",
    "print(x.head())\n",
    "\n",
    "print(x)"
   ]
  },
  {
   "cell_type": "code",
   "execution_count": null,
   "id": "7c28b2c0",
   "metadata": {},
   "outputs": [],
   "source": [
    "# train test split \n",
    "y=data.iloc[:,-1]\n",
    "print(y)\n",
    "print(y.head())\n",
    "print(y.shape)"
   ]
  },
  {
   "cell_type": "code",
   "execution_count": null,
   "id": "bdffb566",
   "metadata": {},
   "outputs": [],
   "source": [
    "# train test split\n",
    "from sklearn.model_selection import train_test_split\n",
    "x_train,x_test,y_train,y_test=train_test_split(x,y,test_size=0.3,random_state=2)"
   ]
  },
  {
   "cell_type": "code",
   "execution_count": null,
   "id": "9e531f34",
   "metadata": {},
   "outputs": [],
   "source": [
    "print(x_train)\n",
    "print(x_train.shape)"
   ]
  },
  {
   "cell_type": "code",
   "execution_count": null,
   "id": "5a3cad82",
   "metadata": {},
   "outputs": [],
   "source": [
    "print(x_test)\n",
    "print(x_test.shape)"
   ]
  },
  {
   "cell_type": "code",
   "execution_count": null,
   "id": "3e148f00",
   "metadata": {},
   "outputs": [],
   "source": [
    "print(y_test)\n",
    "print(y_test.shape)"
   ]
  },
  {
   "cell_type": "code",
   "execution_count": null,
   "id": "5cd4cb97",
   "metadata": {},
   "outputs": [],
   "source": [
    "print(y_train)\n",
    "print(y_train.shape)"
   ]
  },
  {
   "cell_type": "code",
   "execution_count": null,
   "id": "abe661c1",
   "metadata": {},
   "outputs": [],
   "source": [
    "from sklearn.preprocessing import StandardScaler\n",
    "scaler=StandardScaler()\n"
   ]
  },
  {
   "cell_type": "code",
   "execution_count": null,
   "id": "43abadc1",
   "metadata": {},
   "outputs": [],
   "source": [
    "x_train=scaler.fit_transform(x_train)\n",
    "x_train"
   ]
  },
  {
   "cell_type": "code",
   "execution_count": null,
   "id": "20529d38",
   "metadata": {},
   "outputs": [],
   "source": [
    "x_test=scaler.fit_transform(x_test)\n",
    "x_test"
   ]
  },
  {
   "cell_type": "code",
   "execution_count": null,
   "id": "a85767ca",
   "metadata": {},
   "outputs": [],
   "source": [
    "# values of  k \n",
    "# Ist method - sqrt of rows present in x_train \n",
    "np.sqrt(x_train.shape[0])\n",
    "k=45"
   ]
  },
  {
   "cell_type": "code",
   "execution_count": null,
   "id": "b1d7acab",
   "metadata": {},
   "outputs": [],
   "source": [
    "from sklearn.neighbors import KNeighborsClassifier\n",
    "from scipy import stats \n",
    "knn=KNeighborsClassifier(n_neighbors=k)"
   ]
  },
  {
   "cell_type": "code",
   "execution_count": null,
   "id": "6c476cb8",
   "metadata": {},
   "outputs": [],
   "source": [
    "# train the model\n",
    "knn.fit(x_train,y_train)\n"
   ]
  },
  {
   "cell_type": "code",
   "execution_count": null,
   "id": "3fc27949",
   "metadata": {},
   "outputs": [],
   "source": [
    "y_pred=knn.predict(x_test)\n",
    "print(y_pred)\n",
    "\n"
   ]
  },
  {
   "cell_type": "code",
   "execution_count": null,
   "id": "4e72c94d",
   "metadata": {},
   "outputs": [],
   "source": [
    "# compare y_pred and y_shape to check how accurate algorithm is \n",
    "from sklearn.metrics import accuracy_score\n",
    "accuracy_score(y_test,y_pred)"
   ]
  },
  {
   "cell_type": "code",
   "execution_count": null,
   "id": "f044aaae",
   "metadata": {},
   "outputs": [],
   "source": [
    "from sklearn.metrics import confusion_matrix \n",
    "confusion_matrix(y_test,y_pred)"
   ]
  },
  {
   "cell_type": "code",
   "execution_count": null,
   "id": "903e3be8",
   "metadata": {},
   "outputs": [],
   "source": [
    "# 2nd method\n",
    "accuracy=[]\n",
    "for i in range(1,50):\n",
    "    knn=KNeighborsClassifier(n_neighbors=i)\n",
    "    knn.fit(x_train,y_train)\n",
    "    pred_i = knn.predict(x_test)\n",
    "    accuracy.append(accuracy_score(y_test,knn.predict(x_test)))\n",
    "plt.figure(figsize=(10,6))\n",
    "plt.plot(range(1,50),accuracy,color='blue', linestyle='dashed', \n",
    "         marker='o',markerfacecolor='red', markersize=10)    \n",
    "plt.title('Accuracy vs. K Value')\n",
    "plt.xlabel('K')\n",
    "plt.ylabel('Accuracy')\n",
    "print(\"Accuarcy:-\",min(accuracy),\"at K =\",accuracy.index(min(accuracy)))"
   ]
  },
  {
   "cell_type": "markdown",
   "id": "bc69a5d0",
   "metadata": {},
   "source": [
    "# 8 Moods LSTM\n"
   ]
  },
  {
   "cell_type": "code",
   "execution_count": null,
   "id": "b65642bf",
   "metadata": {},
   "outputs": [],
   "source": [
    "pip install tensorflow"
   ]
  },
  {
   "cell_type": "code",
   "execution_count": null,
   "id": "88e4985d",
   "metadata": {},
   "outputs": [],
   "source": [
    "data=pd.read_csv('8moods of child.csv')\n",
    "data.head()\n",
    "data.isnull().sum()\n",
    "data['Heart Rate'].fillna(data['Heart Rate'].mean(),inplace=True)\n",
    "data['Pulse Rate'].fillna(data['Pulse Rate'].mean(),inplace=True)\n",
    "data['Temperature'].fillna(data['Temperature'].mean(),inplace=True)\n",
    "data['Skin Senstivity'].fillna(data['Skin Senstivity'].mean(),inplace=True)\n",
    "data.isnull().sum()\n",
    "x=data.iloc[:,0:4]\n",
    "print(x.head())\n",
    "\n",
    "\n",
    "\n",
    "\n",
    "print(x)"
   ]
  },
  {
   "cell_type": "code",
   "execution_count": null,
   "id": "c9d687d1",
   "metadata": {},
   "outputs": [],
   "source": [
    "from sklearn.model_selection import train_test_split\n",
    "from sklearn.preprocessing import StandardScaler, LabelEncoder\n",
    "from keras.models import Sequential\n",
    "from keras.layers import LSTM, Dense"
   ]
  },
  {
   "cell_type": "code",
   "execution_count": null,
   "id": "b212c5fa",
   "metadata": {},
   "outputs": [],
   "source": [
    "# train test split \n",
    "y=data.iloc[:,-1]\n",
    "print(y)\n",
    "print(y.head())\n",
    "print(y.shape)"
   ]
  },
  {
   "cell_type": "code",
   "execution_count": null,
   "id": "2813647c",
   "metadata": {},
   "outputs": [],
   "source": [
    "# train test split\n",
    "from sklearn.model_selection import train_test_split\n",
    "x_train,x_test,y_train,y_test=train_test_split(x,y,test_size=0.3,random_state=2)"
   ]
  },
  {
   "cell_type": "code",
   "execution_count": null,
   "id": "d7555867",
   "metadata": {},
   "outputs": [],
   "source": [
    "print(x_train)\n",
    "print(x_train.shape)"
   ]
  },
  {
   "cell_type": "code",
   "execution_count": null,
   "id": "fc739f78",
   "metadata": {},
   "outputs": [],
   "source": [
    "print(x_test)\n",
    "print(x_test.shape)"
   ]
  },
  {
   "cell_type": "code",
   "execution_count": null,
   "id": "9dc21ce2",
   "metadata": {},
   "outputs": [],
   "source": [
    "print(y_test)\n",
    "print(y_test.shape)"
   ]
  },
  {
   "cell_type": "code",
   "execution_count": null,
   "id": "7cd04c15",
   "metadata": {},
   "outputs": [],
   "source": [
    "print(y_train)\n",
    "print(y_train.shape)"
   ]
  },
  {
   "cell_type": "code",
   "execution_count": null,
   "id": "2d31b0d5",
   "metadata": {},
   "outputs": [],
   "source": [
    "pip install MedPy"
   ]
  },
  {
   "cell_type": "code",
   "execution_count": null,
   "id": "36975dd7",
   "metadata": {},
   "outputs": [],
   "source": [
    "# Normalize numerical features\n",
    "scaler = StandardScaler()\n",
    "numerical_cols = ['Heart Rate','Pulse Rate','Temperature', 'Skin Senstivity']\n",
    "data[numerical_cols] = scaler.fit_transform(data[numerical_cols])"
   ]
  },
  {
   "cell_type": "code",
   "execution_count": null,
   "id": "938b98fd",
   "metadata": {},
   "outputs": [],
   "source": [
    "# Encode categorical variable 'Result'\n",
    "label_encoder = LabelEncoder()\n",
    "data['Result'] = label_encoder.fit_transform(data['Result'])"
   ]
  },
  {
   "cell_type": "code",
   "execution_count": null,
   "id": "6fb76a17",
   "metadata": {},
   "outputs": [],
   "source": [
    "# Split the data into features and target variable\n",
    "x = data[numerical_cols].values\n",
    "y = data['Result'].values"
   ]
  },
  {
   "cell_type": "code",
   "execution_count": null,
   "id": "f0ed8afd",
   "metadata": {},
   "outputs": [],
   "source": [
    "time_steps = 1\n",
    "x_reshaped = x.reshape((x.shape[0], time_steps, x.shape[1]))\n",
    "x_train, x_test, y_train, y_test = train_test_split(x_reshaped, y, test_size=0.3, random_state=2)"
   ]
  },
  {
   "cell_type": "code",
   "execution_count": null,
   "id": "3cca15b6",
   "metadata": {},
   "outputs": [],
   "source": [
    "#  Define the LSTM model\n",
    "model = Sequential()\n",
    "model.add(LSTM(units=50, input_shape=(x_train.shape[1], x_train.shape[2])))\n",
    "model.add(Dense(1, activation='sigmoid'))\n"
   ]
  },
  {
   "cell_type": "code",
   "execution_count": null,
   "id": "186e925e",
   "metadata": {},
   "outputs": [],
   "source": [
    "#  Compile the model\n",
    "\n",
    "\n",
    "model.compile(optimizer='adam', loss='binary_crossentropy', metrics=['accuracy'])\n"
   ]
  },
  {
   "cell_type": "code",
   "execution_count": null,
   "id": "3a9d92ca",
   "metadata": {},
   "outputs": [],
   "source": [
    "# Train the model\n",
    "\n",
    "model.fit(x_train, y_train, epochs=50, batch_size=64, validation_data=(x_test, y_test))\n"
   ]
  },
  {
   "cell_type": "code",
   "execution_count": null,
   "id": "5bad9778",
   "metadata": {},
   "outputs": [],
   "source": [
    "# Evaluate the model\n",
    "loss, accuracy = model.evaluate(x_test, y_test)\n",
    "print(f'Test Accuracy: {accuracy*100:.2f}%')"
   ]
  },
  {
   "cell_type": "markdown",
   "id": "8ec5a877",
   "metadata": {},
   "source": [
    "# 8  Moods Decision tree\n"
   ]
  },
  {
   "cell_type": "code",
   "execution_count": null,
   "id": "289eddec",
   "metadata": {},
   "outputs": [],
   "source": [
    "data=pd.read_csv('8moods of child.csv')\n",
    "data.head()\n",
    "data.isnull().sum()\n",
    "data['Heart Rate'].fillna(data['Heart Rate'].mean(),inplace=True)\n",
    "data['Pulse Rate'].fillna(data['Pulse Rate'].mean(),inplace=True)\n",
    "data['Temperature'].fillna(data['Temperature'].mean(),inplace=True)\n",
    "data['Skin Senstivity'].fillna(data['Skin Senstivity'].mean(),inplace=True)\n",
    "data.isnull().sum()\n",
    "x=data.iloc[:,0:4]\n",
    "print(x.head())\n",
    "\n",
    "\n",
    "\n",
    "\n",
    "print(x)"
   ]
  },
  {
   "cell_type": "code",
   "execution_count": null,
   "id": "b423b970",
   "metadata": {},
   "outputs": [],
   "source": [
    "# train test split \n",
    "y=data.iloc[:,-1]\n",
    "print(y)\n",
    "print(y.head())\n",
    "print(y.shape)"
   ]
  },
  {
   "cell_type": "code",
   "execution_count": null,
   "id": "7c96cc40",
   "metadata": {},
   "outputs": [],
   "source": [
    "# train test split\n",
    "from sklearn.model_selection import train_test_split\n",
    "x_train,x_test,y_train,y_test=train_test_split(x,y,test_size=0.3,random_state=2)"
   ]
  },
  {
   "cell_type": "code",
   "execution_count": null,
   "id": "0a200e8b",
   "metadata": {},
   "outputs": [],
   "source": [
    "print(x_train)\n",
    "print(x_train.shape)"
   ]
  },
  {
   "cell_type": "code",
   "execution_count": null,
   "id": "4d99f388",
   "metadata": {},
   "outputs": [],
   "source": [
    "print(x_test)\n",
    "print(x_test.shape)"
   ]
  },
  {
   "cell_type": "code",
   "execution_count": null,
   "id": "f04172ea",
   "metadata": {},
   "outputs": [],
   "source": [
    "print(x_train)\n",
    "print(x_train.shape)"
   ]
  },
  {
   "cell_type": "code",
   "execution_count": null,
   "id": "d3d8629c",
   "metadata": {},
   "outputs": [],
   "source": [
    "print(y_test)\n",
    "print(y_test.shape)"
   ]
  },
  {
   "cell_type": "code",
   "execution_count": null,
   "id": "bc1bab0f",
   "metadata": {},
   "outputs": [],
   "source": [
    "print(y_train.shape)\n",
    "print(y_train)"
   ]
  },
  {
   "cell_type": "code",
   "execution_count": null,
   "id": "b2f1c0aa",
   "metadata": {},
   "outputs": [],
   "source": [
    "from sklearn.model_selection import train_test_split\n",
    "from sklearn.tree import DecisionTreeClassifier\n",
    "from sklearn.metrics import accuracy_score\n"
   ]
  },
  {
   "cell_type": "code",
   "execution_count": null,
   "id": "3a902b60",
   "metadata": {},
   "outputs": [],
   "source": [
    "\n",
    "clf = DecisionTreeClassifier()\n",
    "\n",
    "# Train the classifier\n",
    "clf.fit(x_train, y_train)\n",
    "\n",
    "# Predict the labels for test set\n",
    "y_pred = clf.predict(x_test)\n",
    "\n",
    "# Calculate accuracy\n",
    "accuracy = accuracy_score(y_test, y_pred)\n",
    "print(\"Accuracy:\", accuracy)"
   ]
  },
  {
   "cell_type": "code",
   "execution_count": null,
   "id": "41e710bb",
   "metadata": {},
   "outputs": [],
   "source": [
    "\n",
    "# Importing necessary libraries\n",
    "from sklearn.datasets import load_iris\n",
    "from sklearn.ensemble import GradientBoostingClassifier\n",
    "from sklearn.model_selection import train_test_split\n",
    "from sklearn.metrics import accuracy_score\n"
   ]
  },
  {
   "cell_type": "code",
   "execution_count": null,
   "id": "c3375a62",
   "metadata": {},
   "outputs": [],
   "source": [
    "\n",
    "# Initialize Gradient Boosting Classifier\n",
    "gbdt = GradientBoostingClassifier(n_estimators=100, learning_rate=0.1, max_depth=3, random_state=42)\n",
    "\n",
    "# Train the model\n",
    "gbdt.fit(x_train, y_train)\n",
    "\n",
    "# Make predictions\n",
    "y_pred = gbdt.predict(x_test)\n",
    "\n",
    "# Calculate accuracy\n",
    "accuracy = accuracy_score(y_test, y_pred)\n",
    "print(\"Accuracy:\", accuracy)"
   ]
  },
  {
   "cell_type": "markdown",
   "id": "13faaec6",
   "metadata": {},
   "source": [
    "# 8 Moods of Scikit learn \n"
   ]
  },
  {
   "cell_type": "code",
   "execution_count": null,
   "id": "a832fb41",
   "metadata": {},
   "outputs": [],
   "source": [
    "data=pd.read_csv('8moods of child.csv')\n",
    "data.head()\n",
    "data.isnull().sum()\n",
    "data['Heart Rate'].fillna(data['Heart Rate'].mean(),inplace=True)\n",
    "data['Pulse Rate'].fillna(data['Pulse Rate'].mean(),inplace=True)\n",
    "data['Temperature'].fillna(data['Temperature'].mean(),inplace=True)\n",
    "data['Skin Senstivity'].fillna(data['Skin Senstivity'].mean(),inplace=True)\n",
    "data.isnull().sum()\n",
    "x=data.iloc[:,0:4]\n",
    "print(x.head())\n",
    "\n",
    "\n",
    "\n",
    "\n",
    "print(x)"
   ]
  },
  {
   "cell_type": "code",
   "execution_count": null,
   "id": "b2575eeb",
   "metadata": {},
   "outputs": [],
   "source": [
    "# train test split \n",
    "y=data.iloc[:,-1]\n",
    "print(y)\n",
    "print(y.head())\n",
    "print(y.shape)"
   ]
  },
  {
   "cell_type": "code",
   "execution_count": null,
   "id": "f012f45d",
   "metadata": {},
   "outputs": [],
   "source": [
    "# train test split\n",
    "from sklearn.model_selection import train_test_split\n",
    "x_train,x_test,y_train,y_test=train_test_split(x,y,test_size=0.3,random_state=2)"
   ]
  },
  {
   "cell_type": "code",
   "execution_count": null,
   "id": "16e1b073",
   "metadata": {},
   "outputs": [],
   "source": [
    "print(x_train)\n",
    "print(x_train.shape)"
   ]
  },
  {
   "cell_type": "code",
   "execution_count": null,
   "id": "e151f2b3",
   "metadata": {},
   "outputs": [],
   "source": [
    "print(x_test)\n",
    "print(x_test.shape)"
   ]
  },
  {
   "cell_type": "code",
   "execution_count": null,
   "id": "ef6d194e",
   "metadata": {},
   "outputs": [],
   "source": [
    "print(y_test)\n",
    "print(y_test.shape)"
   ]
  },
  {
   "cell_type": "code",
   "execution_count": null,
   "id": "b38b17f4",
   "metadata": {},
   "outputs": [],
   "source": [
    "print(y_train)\n",
    "print(y_train.shape)"
   ]
  },
  {
   "cell_type": "code",
   "execution_count": null,
   "id": "0781fabe",
   "metadata": {},
   "outputs": [],
   "source": [
    "from keras.models import Sequential\n",
    "from keras.layers import Conv1D, MaxPooling1D, Flatten, Dense, Dropout\n",
    "from keras.utils import to_categorical\n",
    "from sklearn.preprocessing import LabelEncoder, StandardScaler\n",
    "\n",
    "#  Standardize features by removing the mean and scaling to unit variance\n",
    "scaler = StandardScaler()\n",
    "x_train = scaler.fit_transform(x_train)\n",
    "x_test = scaler.transform(x_test)\n"
   ]
  },
  {
   "cell_type": "code",
   "execution_count": null,
   "id": "a2c8f2c7",
   "metadata": {},
   "outputs": [],
   "source": [
    "\n",
    "from sklearn.ensemble import RandomForestClassifier# Initialize and train the Random Forest classifier\n",
    "clf = RandomForestClassifier(random_state=2)\n",
    "clf.fit(x_train, y_train)\n",
    "\n",
    "# Make predictions on the test set\n",
    "y_pred = clf.predict(x_test)\n",
    "\n",
    "# Calculate the accuracy of the model\n",
    "accuracy = accuracy_score(y_test, y_pred)\n",
    "print(\"Accuracy:\", accuracy)"
   ]
  },
  {
   "cell_type": "markdown",
   "id": "aee84b2c",
   "metadata": {},
   "source": [
    "# MLP 8 moods of child "
   ]
  },
  {
   "cell_type": "code",
   "execution_count": null,
   "id": "44bf21ae",
   "metadata": {},
   "outputs": [],
   "source": [
    "\n",
    "from sklearn.model_selection import train_test_split\n",
    "from sklearn.preprocessing import LabelEncoder, StandardScaler\n",
    "from sklearn.neural_network import MLPClassifier\n",
    "from sklearn.metrics import accuracy_score"
   ]
  },
  {
   "cell_type": "code",
   "execution_count": null,
   "id": "5686848b",
   "metadata": {},
   "outputs": [],
   "source": [
    "data=pd.read_csv('8moods of child.csv')\n",
    "data.head()\n",
    "data.isnull().sum()\n",
    "data['Heart Rate'].fillna(data['Heart Rate'].mean(),inplace=True)\n",
    "data['Pulse Rate'].fillna(data['Pulse Rate'].mean(),inplace=True)\n",
    "data['Temperature'].fillna(data['Temperature'].mean(),inplace=True)\n",
    "data['Skin Senstivity'].fillna(data['Skin Senstivity'].mean(),inplace=True)\n",
    "data.isnull().sum()\n",
    "x=data.iloc[:,0:4]\n",
    "print(x.head())\n",
    "\n",
    "\n",
    "print(x)"
   ]
  },
  {
   "cell_type": "code",
   "execution_count": null,
   "id": "6f3f4ace",
   "metadata": {},
   "outputs": [],
   "source": [
    "# train test split \n",
    "y=data.iloc[:,-1]\n",
    "print(y)\n",
    "print(y.head())\n",
    "print(y.shape)"
   ]
  },
  {
   "cell_type": "code",
   "execution_count": null,
   "id": "f7f5dc72",
   "metadata": {},
   "outputs": [],
   "source": [
    "# train test split\n",
    "from sklearn.model_selection import train_test_split\n",
    "x_train,x_test,y_train,y_test=train_test_split(x,y,test_size=0.3,random_state=2)"
   ]
  },
  {
   "cell_type": "code",
   "execution_count": null,
   "id": "4b38569f",
   "metadata": {},
   "outputs": [],
   "source": [
    "print(x_train)\n",
    "print(x_train.shape)"
   ]
  },
  {
   "cell_type": "code",
   "execution_count": null,
   "id": "b9ec2bc8",
   "metadata": {},
   "outputs": [],
   "source": [
    "print(x_test)\n",
    "print(x_test.shape)"
   ]
  },
  {
   "cell_type": "code",
   "execution_count": 111,
   "id": "3c5ba36e",
   "metadata": {},
   "outputs": [
    {
     "name": "stdout",
     "output_type": "stream",
     "text": [
      "1706        Sad\n",
      "401     Neutral\n",
      "1748      Happy\n",
      "1674      Anger\n",
      "914        Fear\n",
      "         ...   \n",
      "1930    Neutral\n",
      "1766      Anger\n",
      "547        Fear\n",
      "2365        Sad\n",
      "2112        Sad\n",
      "Name: Result, Length: 900, dtype: object\n",
      "(900,)\n"
     ]
    }
   ],
   "source": [
    "print(y_test)\n",
    "print(y_test.shape)"
   ]
  },
  {
   "cell_type": "markdown",
   "id": "7806a4a3",
   "metadata": {},
   "source": [
    "print(y_train)\n",
    "print(y_train.shape)"
   ]
  },
  {
   "cell_type": "code",
   "execution_count": 112,
   "id": "eb9612ed",
   "metadata": {},
   "outputs": [
    {
     "ename": "NameError",
     "evalue": "name 'MLPClassifier' is not defined",
     "output_type": "error",
     "traceback": [
      "\u001b[1;31m---------------------------------------------------------------------------\u001b[0m",
      "\u001b[1;31mNameError\u001b[0m                                 Traceback (most recent call last)",
      "Cell \u001b[1;32mIn[112], line 2\u001b[0m\n\u001b[0;32m      1\u001b[0m \u001b[38;5;66;03m# Build and train MLP model\u001b[39;00m\n\u001b[1;32m----> 2\u001b[0m mlp_model \u001b[38;5;241m=\u001b[39m MLPClassifier(hidden_layer_sizes\u001b[38;5;241m=\u001b[39m(\u001b[38;5;241m100\u001b[39m,), max_iter\u001b[38;5;241m=\u001b[39m\u001b[38;5;241m1000\u001b[39m, random_state\u001b[38;5;241m=\u001b[39m\u001b[38;5;241m2\u001b[39m)\n\u001b[0;32m      3\u001b[0m mlp_model\u001b[38;5;241m.\u001b[39mfit(x_train, y_train)\n\u001b[0;32m      5\u001b[0m \u001b[38;5;66;03m# Evaluate model performance\u001b[39;00m\n",
      "\u001b[1;31mNameError\u001b[0m: name 'MLPClassifier' is not defined"
     ]
    }
   ],
   "source": [
    "# Build and train MLP model\n",
    "mlp_model = MLPClassifier(hidden_layer_sizes=(100,), max_iter=1000, random_state=2)\n",
    "mlp_model.fit(x_train, y_train)\n",
    "\n",
    "# Evaluate model performance\n",
    "y_pred = mlp_model.predict(x_test)\n",
    "accuracy = accuracy_score(y_test, y_pred)\n",
    "print(\"Accuracy of MLP model:\", accuracy)"
   ]
  },
  {
   "cell_type": "markdown",
   "id": "e1ec28f4",
   "metadata": {},
   "source": [
    "# MLP using 10 moods of child \n"
   ]
  },
  {
   "cell_type": "code",
   "execution_count": 113,
   "id": "645dd302",
   "metadata": {},
   "outputs": [],
   "source": [
    "from sklearn.model_selection import train_test_split\n",
    "from sklearn.preprocessing import LabelEncoder, StandardScaler\n",
    "from sklearn.neural_network import MLPClassifier\n",
    "from sklearn.metrics import accuracy_score"
   ]
  },
  {
   "cell_type": "code",
   "execution_count": 114,
   "id": "c5c5264e",
   "metadata": {},
   "outputs": [
    {
     "name": "stdout",
     "output_type": "stream",
     "text": [
      "   Heart Rate  Pulse Rate  Temperature  Skin Senstivity\n",
      "0        70.0        86.0         98.0              3.2\n",
      "1        60.0        85.0         96.9              0.9\n",
      "2        80.0        84.0         98.7              1.8\n",
      "3        67.0        74.0         98.9              3.0\n",
      "4        64.0        79.0         96.8              2.3\n",
      "      Heart Rate  Pulse Rate  Temperature  Skin Senstivity\n",
      "0           70.0        86.0         98.0              3.2\n",
      "1           60.0        85.0         96.9              0.9\n",
      "2           80.0        84.0         98.7              1.8\n",
      "3           67.0        74.0         98.9              3.0\n",
      "4           64.0        79.0         96.8              2.3\n",
      "...          ...         ...          ...              ...\n",
      "2994        73.0        87.0         98.6              1.9\n",
      "2995        82.0        70.0         98.2              2.5\n",
      "2996        71.0        71.0         97.5              3.0\n",
      "2997        68.0        71.0         99.3              4.8\n",
      "2998        60.0        86.0         97.9              4.7\n",
      "\n",
      "[2999 rows x 4 columns]\n"
     ]
    }
   ],
   "source": [
    "data=pd.read_csv('mood of child.csv')\n",
    "data.head()\n",
    "data.isnull().sum()\n",
    "data['Heart Rate'].fillna(data['Heart Rate'].mean(),inplace=True)\n",
    "data['Pulse Rate'].fillna(data['Pulse Rate'].mean(),inplace=True)\n",
    "data['Temperature'].fillna(data['Temperature'].mean(),inplace=True)\n",
    "data['Skin Senstivity'].fillna(data['Skin Senstivity'].mean(),inplace=True)\n",
    "data.isnull().sum()\n",
    "x=data.iloc[:,0:4]\n",
    "print(x.head())\n",
    "\n",
    "\n",
    "print(x)"
   ]
  },
  {
   "cell_type": "code",
   "execution_count": 115,
   "id": "f110d4b9",
   "metadata": {},
   "outputs": [
    {
     "name": "stdout",
     "output_type": "stream",
     "text": [
      "0             Fear\n",
      "1              Sad\n",
      "2            Shame\n",
      "3            Shame\n",
      "4             Fear\n",
      "           ...    \n",
      "2994         Guilt\n",
      "2995       Excited\n",
      "2996          Fear\n",
      "2997    Depression\n",
      "2998    Depression\n",
      "Name: Result, Length: 2999, dtype: object\n",
      "0     Fear\n",
      "1      Sad\n",
      "2    Shame\n",
      "3    Shame\n",
      "4     Fear\n",
      "Name: Result, dtype: object\n",
      "(2999,)\n"
     ]
    }
   ],
   "source": [
    "# train test split \n",
    "y=data.iloc[:,-1]\n",
    "print(y)\n",
    "print(y.head())\n",
    "print(y.shape)"
   ]
  },
  {
   "cell_type": "code",
   "execution_count": 116,
   "id": "199a75d0",
   "metadata": {},
   "outputs": [],
   "source": [
    "# train test split\n",
    "from sklearn.model_selection import train_test_split\n",
    "x_train,x_test,y_train,y_test=train_test_split(x,y,test_size=0.3,random_state=2)"
   ]
  },
  {
   "cell_type": "code",
   "execution_count": 117,
   "id": "e5ae3fc7",
   "metadata": {},
   "outputs": [
    {
     "name": "stdout",
     "output_type": "stream",
     "text": [
      "      Heart Rate  Pulse Rate  Temperature  Skin Senstivity\n",
      "1139        69.0        99.0         98.5          4.10000\n",
      "606         81.0        86.0         99.3          4.30000\n",
      "2549        61.0        76.0         97.9          0.70000\n",
      "1161        83.0        95.0         99.1          5.00000\n",
      "1003        65.0        67.0         98.3          0.60000\n",
      "...          ...         ...          ...              ...\n",
      "2514        63.0        89.0         98.7          2.26613\n",
      "2347        66.0        84.0         97.7          2.26613\n",
      "1608        86.0        79.0         98.1          3.90000\n",
      "2541        65.0        79.0         97.6          1.90000\n",
      "2575        83.0       106.0         98.7          3.00000\n",
      "\n",
      "[2099 rows x 4 columns]\n",
      "(2099, 4)\n"
     ]
    }
   ],
   "source": [
    "print(x_train)\n",
    "print(x_train.shape)"
   ]
  },
  {
   "cell_type": "code",
   "execution_count": 118,
   "id": "5940253c",
   "metadata": {},
   "outputs": [
    {
     "name": "stdout",
     "output_type": "stream",
     "text": [
      "      Heart Rate  Pulse Rate  Temperature  Skin Senstivity\n",
      "1706        82.0        87.0         98.7              2.3\n",
      "401         75.0        60.0         98.5              0.6\n",
      "1748        72.0        99.0         98.7              3.3\n",
      "1674        76.0        61.0         96.4              1.2\n",
      "914         77.0        74.0         98.3              1.2\n",
      "...          ...         ...          ...              ...\n",
      "1930        84.0        80.0         99.7              3.7\n",
      "1766        86.0        93.0         99.4              3.3\n",
      "547         89.0        76.0         98.8              3.4\n",
      "2365        71.0        61.0         99.4              2.3\n",
      "2112        71.0        73.0         96.8              1.7\n",
      "\n",
      "[900 rows x 4 columns]\n",
      "(900, 4)\n"
     ]
    }
   ],
   "source": [
    "print(x_test)\n",
    "print(x_test.shape)"
   ]
  },
  {
   "cell_type": "code",
   "execution_count": 119,
   "id": "c7d5dc32",
   "metadata": {},
   "outputs": [
    {
     "name": "stdout",
     "output_type": "stream",
     "text": [
      "1706    Excited\n",
      "401     Neutral\n",
      "1748      Shame\n",
      "1674        Sad\n",
      "914       Happy\n",
      "         ...   \n",
      "1930      Anger\n",
      "1766    Excited\n",
      "547     Excited\n",
      "2365      Happy\n",
      "2112        Sad\n",
      "Name: Result, Length: 900, dtype: object\n",
      "(900,)\n"
     ]
    }
   ],
   "source": [
    "print(y_test)\n",
    "print(y_test.shape)"
   ]
  },
  {
   "cell_type": "code",
   "execution_count": 120,
   "id": "b65b6a5f",
   "metadata": {},
   "outputs": [
    {
     "name": "stdout",
     "output_type": "stream",
     "text": [
      "1139    Depression\n",
      "606        Excited\n",
      "2549       Neutral\n",
      "1161         Anger\n",
      "1003         Happy\n",
      "           ...    \n",
      "2514         Happy\n",
      "2347           Sad\n",
      "1608         Anger\n",
      "2541         Guilt\n",
      "2575       Excited\n",
      "Name: Result, Length: 2099, dtype: object\n",
      "(2099,)\n"
     ]
    }
   ],
   "source": [
    "print(y_train)\n",
    "print(y_train.shape)"
   ]
  },
  {
   "cell_type": "code",
   "execution_count": 121,
   "id": "c2e1c565",
   "metadata": {},
   "outputs": [
    {
     "name": "stdout",
     "output_type": "stream",
     "text": [
      "Accuracy of MLP model: 0.38\n"
     ]
    }
   ],
   "source": [
    "# Build and train MLP model\n",
    "mlp_model = MLPClassifier(hidden_layer_sizes=(100,), max_iter=1000, random_state=2)\n",
    "mlp_model.fit(x_train, y_train)\n",
    "\n",
    "# Evaluate model performance\n",
    "y_pred = mlp_model.predict(x_test)\n",
    "accuracy = accuracy_score(y_test, y_pred)\n",
    "print(\"Accuracy of MLP model:\", accuracy)"
   ]
  },
  {
   "cell_type": "markdown",
   "id": "474c8bb9",
   "metadata": {},
   "source": [
    "# MLP using 6 moods of child \n",
    "Multilayer Perceptron"
   ]
  },
  {
   "cell_type": "code",
   "execution_count": 122,
   "id": "f61e1a20",
   "metadata": {},
   "outputs": [
    {
     "name": "stdout",
     "output_type": "stream",
     "text": [
      "   Heart Rate  Pulse Rate  Temperature  Skin Senstivity\n",
      "0        69.0        64.0    96.500000              1.0\n",
      "1        77.0        63.0    97.600000              1.4\n",
      "2        70.0        83.0    98.289145              0.9\n",
      "3        80.0        78.0    97.700000              1.3\n",
      "4       100.0        89.0    98.900000              2.5\n",
      "      Heart Rate  Pulse Rate  Temperature  Skin Senstivity\n",
      "0           69.0        64.0    96.500000              1.0\n",
      "1           77.0        63.0    97.600000              1.4\n",
      "2           70.0        83.0    98.289145              0.9\n",
      "3           80.0        78.0    97.700000              1.3\n",
      "4          100.0        89.0    98.900000              2.5\n",
      "...          ...         ...          ...              ...\n",
      "2994        93.0        85.0    99.400000              1.1\n",
      "2995        99.0        60.0    99.200000              0.9\n",
      "2996        78.0        75.0    98.300000              2.0\n",
      "2997        82.0        85.0    98.800000              0.9\n",
      "2998        88.0        78.0    99.000000              3.5\n",
      "\n",
      "[2999 rows x 4 columns]\n"
     ]
    }
   ],
   "source": [
    "from sklearn.model_selection import train_test_split\n",
    "from sklearn.preprocessing import LabelEncoder, StandardScaler\n",
    "from sklearn.neural_network import MLPClassifier\n",
    "from sklearn.metrics import accuracy_score\n",
    "data=pd.read_csv('6 moodsKNN.csv')\n",
    "data.head()\n",
    "data.isnull().sum()\n",
    "data['Heart Rate'].fillna(data['Heart Rate'].mean(),inplace=True)\n",
    "data['Pulse Rate'].fillna(data['Pulse Rate'].mean(),inplace=True)\n",
    "data['Temperature'].fillna(data['Temperature'].mean(),inplace=True)\n",
    "data['Skin Senstivity'].fillna(data['Skin Senstivity'].mean(),inplace=True)\n",
    "data.isnull().sum()\n",
    "x=data.iloc[:,0:4]\n",
    "print(x.head())\n",
    "\n",
    "\n",
    "print(x)"
   ]
  },
  {
   "cell_type": "code",
   "execution_count": 123,
   "id": "e3282b75",
   "metadata": {},
   "outputs": [
    {
     "name": "stdout",
     "output_type": "stream",
     "text": [
      "0           Sad\n",
      "1           Sad\n",
      "2       Neutral\n",
      "3           Sad\n",
      "4         Anger\n",
      "         ...   \n",
      "2994      Happy\n",
      "2995      Happy\n",
      "2996     Stress\n",
      "2997      Happy\n",
      "2998      Anger\n",
      "Name: Result, Length: 2999, dtype: object\n",
      "0        Sad\n",
      "1        Sad\n",
      "2    Neutral\n",
      "3        Sad\n",
      "4      Anger\n",
      "Name: Result, dtype: object\n",
      "(2999,)\n"
     ]
    }
   ],
   "source": [
    "# train test split \n",
    "y=data.iloc[:,-1]\n",
    "print(y)\n",
    "print(y.head())\n",
    "print(y.shape)"
   ]
  },
  {
   "cell_type": "code",
   "execution_count": 124,
   "id": "102f9fc1",
   "metadata": {},
   "outputs": [],
   "source": [
    "# train test split\n",
    "from sklearn.model_selection import train_test_split\n",
    "x_train,x_test,y_train,y_test=train_test_split(x,y,test_size=0.3,random_state=2)"
   ]
  },
  {
   "cell_type": "code",
   "execution_count": 125,
   "id": "629a0570",
   "metadata": {},
   "outputs": [
    {
     "name": "stdout",
     "output_type": "stream",
     "text": [
      "      Heart Rate  Pulse Rate  Temperature  Skin Senstivity\n",
      "1139        83.0        71.0         99.4              0.4\n",
      "606         93.0        96.0         98.0              3.7\n",
      "2549        91.0        76.0         99.1              1.0\n",
      "1161        90.0        95.0         99.1              3.5\n",
      "1003        75.0        98.0         97.3              2.0\n",
      "...          ...         ...          ...              ...\n",
      "2514        94.0        94.0         98.1              4.0\n",
      "2347        61.0        61.0         98.6              0.9\n",
      "1608        98.0        70.0         97.9              0.7\n",
      "2541        77.0        98.0         97.8              2.2\n",
      "2575        70.0        82.0         97.9              1.0\n",
      "\n",
      "[2099 rows x 4 columns]\n",
      "(2099, 4)\n"
     ]
    }
   ],
   "source": [
    "print(x_train)\n",
    "print(x_train.shape)"
   ]
  },
  {
   "cell_type": "code",
   "execution_count": 126,
   "id": "003ec238",
   "metadata": {},
   "outputs": [
    {
     "name": "stdout",
     "output_type": "stream",
     "text": [
      "      Heart Rate  Pulse Rate  Temperature  Skin Senstivity\n",
      "1706        63.0        67.0         97.0              1.8\n",
      "401         75.0        78.0         97.8              0.3\n",
      "1748        91.0        84.0         98.2              0.8\n",
      "1674        86.0        99.0         99.3              3.2\n",
      "914         75.0        89.0         97.5              2.6\n",
      "...          ...         ...          ...              ...\n",
      "1930        63.0        66.0         98.6              0.6\n",
      "1766        92.0        99.0         98.7              3.1\n",
      "547         96.0        97.0         98.0              2.0\n",
      "2365        68.0        70.0         97.0              1.3\n",
      "2112        74.0        85.0         98.3              2.4\n",
      "\n",
      "[900 rows x 4 columns]\n",
      "(900, 4)\n"
     ]
    }
   ],
   "source": [
    "print(x_test)\n",
    "print(x_test.shape)"
   ]
  },
  {
   "cell_type": "code",
   "execution_count": 127,
   "id": "0d0085bc",
   "metadata": {},
   "outputs": [
    {
     "name": "stdout",
     "output_type": "stream",
     "text": [
      "1139      Happy\n",
      "606       Anger\n",
      "2549      Happy\n",
      "1161    Neutral\n",
      "1003       Fear\n",
      "         ...   \n",
      "2514      Anger\n",
      "2347    Neutral\n",
      "1608      Happy\n",
      "2541     Stress\n",
      "2575    Neutral\n",
      "Name: Result, Length: 2099, dtype: object\n",
      "(2099,)\n"
     ]
    }
   ],
   "source": [
    "print(y_train)\n",
    "print(y_train.shape)"
   ]
  },
  {
   "cell_type": "code",
   "execution_count": 128,
   "id": "97c7088f",
   "metadata": {},
   "outputs": [
    {
     "name": "stdout",
     "output_type": "stream",
     "text": [
      "1706        Sad\n",
      "401     Neutral\n",
      "1748      Happy\n",
      "1674      Anger\n",
      "914        Fear\n",
      "         ...   \n",
      "1930    Neutral\n",
      "1766      Anger\n",
      "547        Fear\n",
      "2365        Sad\n",
      "2112        Sad\n",
      "Name: Result, Length: 900, dtype: object\n",
      "(900,)\n"
     ]
    }
   ],
   "source": [
    "print(y_test)\n",
    "print(y_test.shape)"
   ]
  },
  {
   "cell_type": "code",
   "execution_count": 129,
   "id": "4d1632e6",
   "metadata": {},
   "outputs": [
    {
     "name": "stdout",
     "output_type": "stream",
     "text": [
      "Accuracy of MLP model: 0.6088888888888889\n"
     ]
    }
   ],
   "source": [
    "# Build and train MLP model\n",
    "mlp_model = MLPClassifier(hidden_layer_sizes=(100,), max_iter=1000, random_state=2)\n",
    "mlp_model.fit(x_train, y_train)\n",
    "\n",
    "# Evaluate model performance\n",
    "y_pred = mlp_model.predict(x_test)\n",
    "accuracy = accuracy_score(y_test, y_pred)\n",
    "print(\"Accuracy of MLP model:\", accuracy)"
   ]
  },
  {
   "cell_type": "markdown",
   "id": "43c9b68c",
   "metadata": {},
   "source": [
    "### Complexity of Emotion Definitions: The definitions or distinctions between the 6 moods used in the dataset might be more subtle or ambiguous compared to the 8 moods. This ambiguity can make it harder for the model to learn meaningful patterns in the data and differentiate between the classes, resulting in lower accuracy.To increase the model's capacity by adding more layers or neurons to improve its performance for the 6-mood classification task, you can adjust the architecture of the MLP model. Here's how you can modify the code provided earlier to increase the model complexity:\n",
    "\n",
    "Increase the Number of Neurons in Hidden Layers:\n",
    "\n",
    "Add more neurons to each hidden layer to increase the model's capacity.\n",
    "Add More Hidden Layers:\n",
    "\n",
    "Introduce additional hidden layers to allow the model to learn more complex representations."
   ]
  },
  {
   "cell_type": "code",
   "execution_count": 130,
   "id": "6ec9aff9",
   "metadata": {},
   "outputs": [
    {
     "name": "stdout",
     "output_type": "stream",
     "text": [
      "Accuracy of MLP model with increased complexity: 0.6488888888888888\n"
     ]
    }
   ],
   "source": [
    "\n",
    "# Build and train MLP model with increased complexity\n",
    "mlp_model = MLPClassifier(hidden_layer_sizes=(100, 50, 50), max_iter=1000, random_state=2)\n",
    "mlp_model.fit(x_train, y_train)\n",
    "\n",
    "# Evaluate model performance\n",
    "y_pred = mlp_model.predict(x_test)\n",
    "accuracy = accuracy_score(y_test, y_pred)\n",
    "print(\"Accuracy of MLP model with increased complexity:\", accuracy)"
   ]
  },
  {
   "cell_type": "markdown",
   "id": "3c53c249",
   "metadata": {},
   "source": [
    "# Maximum Margin Classification (MMC) using 6 moods \n",
    "\n",
    "### MMC\" typically stands for \"Maximum Margin Classification,\" which is often associated with Support Vector Machines (SVM) rather than a specific algorithm called MMC.As there's no standard \"Maximum Margin Classification\" algorithm, I'll provide an example using Support Vector Machine (SVM) as it is a well-known algorithm for maximum margin classification."
   ]
  },
  {
   "cell_type": "code",
   "execution_count": 131,
   "id": "f46e9090",
   "metadata": {},
   "outputs": [],
   "source": [
    "import pandas as pd\n",
    "from sklearn.model_selection import train_test_split\n",
    "from sklearn.metrics import accuracy_score\n",
    "from sklearn.preprocessing import LabelEncoder, StandardScaler\n",
    "# import the HRV algorithm library\n"
   ]
  },
  {
   "cell_type": "code",
   "execution_count": 132,
   "id": "b942d109",
   "metadata": {},
   "outputs": [
    {
     "name": "stdout",
     "output_type": "stream",
     "text": [
      "   Heart Rate  Pulse Rate  Temperature  Skin Senstivity\n",
      "0        69.0        64.0    96.500000              1.0\n",
      "1        77.0        63.0    97.600000              1.4\n",
      "2        70.0        83.0    98.289145              0.9\n",
      "3        80.0        78.0    97.700000              1.3\n",
      "4       100.0        89.0    98.900000              2.5\n",
      "      Heart Rate  Pulse Rate  Temperature  Skin Senstivity\n",
      "0           69.0        64.0    96.500000              1.0\n",
      "1           77.0        63.0    97.600000              1.4\n",
      "2           70.0        83.0    98.289145              0.9\n",
      "3           80.0        78.0    97.700000              1.3\n",
      "4          100.0        89.0    98.900000              2.5\n",
      "...          ...         ...          ...              ...\n",
      "2994        93.0        85.0    99.400000              1.1\n",
      "2995        99.0        60.0    99.200000              0.9\n",
      "2996        78.0        75.0    98.300000              2.0\n",
      "2997        82.0        85.0    98.800000              0.9\n",
      "2998        88.0        78.0    99.000000              3.5\n",
      "\n",
      "[2999 rows x 4 columns]\n"
     ]
    }
   ],
   "source": [
    "from sklearn.model_selection import train_test_split\n",
    "from sklearn.preprocessing import LabelEncoder, StandardScaler\n",
    "from sklearn.neural_network import MLPClassifier\n",
    "from sklearn.metrics import accuracy_score\n",
    "data=pd.read_csv('6 moodsKNN.csv')\n",
    "data.head()\n",
    "data.isnull().sum()\n",
    "data['Heart Rate'].fillna(data['Heart Rate'].mean(),inplace=True)\n",
    "data['Pulse Rate'].fillna(data['Pulse Rate'].mean(),inplace=True)\n",
    "data['Temperature'].fillna(data['Temperature'].mean(),inplace=True)\n",
    "data['Skin Senstivity'].fillna(data['Skin Senstivity'].mean(),inplace=True)\n",
    "data.isnull().sum()\n",
    "x=data.iloc[:,0:4]\n",
    "print(x.head())\n",
    "\n",
    "\n",
    "print(x)"
   ]
  },
  {
   "cell_type": "code",
   "execution_count": 133,
   "id": "92e71528",
   "metadata": {},
   "outputs": [
    {
     "name": "stdout",
     "output_type": "stream",
     "text": [
      "0           Sad\n",
      "1           Sad\n",
      "2       Neutral\n",
      "3           Sad\n",
      "4         Anger\n",
      "         ...   \n",
      "2994      Happy\n",
      "2995      Happy\n",
      "2996     Stress\n",
      "2997      Happy\n",
      "2998      Anger\n",
      "Name: Result, Length: 2999, dtype: object\n",
      "0        Sad\n",
      "1        Sad\n",
      "2    Neutral\n",
      "3        Sad\n",
      "4      Anger\n",
      "Name: Result, dtype: object\n",
      "(2999,)\n"
     ]
    }
   ],
   "source": [
    "# train test split \n",
    "y=data.iloc[:,-1]\n",
    "print(y)\n",
    "print(y.head())\n",
    "print(y.shape)"
   ]
  },
  {
   "cell_type": "code",
   "execution_count": 134,
   "id": "c3895450",
   "metadata": {},
   "outputs": [],
   "source": [
    "# train test split\n",
    "from sklearn.model_selection import train_test_split\n",
    "x_train,x_test,y_train,y_test=train_test_split(x,y,test_size=0.3,random_state=2)"
   ]
  },
  {
   "cell_type": "code",
   "execution_count": 135,
   "id": "36a746cc",
   "metadata": {},
   "outputs": [
    {
     "name": "stdout",
     "output_type": "stream",
     "text": [
      "      Heart Rate  Pulse Rate  Temperature  Skin Senstivity\n",
      "1139        83.0        71.0         99.4              0.4\n",
      "606         93.0        96.0         98.0              3.7\n",
      "2549        91.0        76.0         99.1              1.0\n",
      "1161        90.0        95.0         99.1              3.5\n",
      "1003        75.0        98.0         97.3              2.0\n",
      "...          ...         ...          ...              ...\n",
      "2514        94.0        94.0         98.1              4.0\n",
      "2347        61.0        61.0         98.6              0.9\n",
      "1608        98.0        70.0         97.9              0.7\n",
      "2541        77.0        98.0         97.8              2.2\n",
      "2575        70.0        82.0         97.9              1.0\n",
      "\n",
      "[2099 rows x 4 columns]\n",
      "(2099, 4)\n"
     ]
    }
   ],
   "source": [
    "print(x_train)\n",
    "print(x_train.shape)"
   ]
  },
  {
   "cell_type": "code",
   "execution_count": 136,
   "id": "f874781b",
   "metadata": {},
   "outputs": [
    {
     "name": "stdout",
     "output_type": "stream",
     "text": [
      "      Heart Rate  Pulse Rate  Temperature  Skin Senstivity\n",
      "1706        63.0        67.0         97.0              1.8\n",
      "401         75.0        78.0         97.8              0.3\n",
      "1748        91.0        84.0         98.2              0.8\n",
      "1674        86.0        99.0         99.3              3.2\n",
      "914         75.0        89.0         97.5              2.6\n",
      "...          ...         ...          ...              ...\n",
      "1930        63.0        66.0         98.6              0.6\n",
      "1766        92.0        99.0         98.7              3.1\n",
      "547         96.0        97.0         98.0              2.0\n",
      "2365        68.0        70.0         97.0              1.3\n",
      "2112        74.0        85.0         98.3              2.4\n",
      "\n",
      "[900 rows x 4 columns]\n",
      "(900, 4)\n"
     ]
    }
   ],
   "source": [
    "print(x_test)\n",
    "print(x_test.shape)"
   ]
  },
  {
   "cell_type": "code",
   "execution_count": 137,
   "id": "826b15da",
   "metadata": {},
   "outputs": [
    {
     "name": "stdout",
     "output_type": "stream",
     "text": [
      "1139      Happy\n",
      "606       Anger\n",
      "2549      Happy\n",
      "1161    Neutral\n",
      "1003       Fear\n",
      "         ...   \n",
      "2514      Anger\n",
      "2347    Neutral\n",
      "1608      Happy\n",
      "2541     Stress\n",
      "2575    Neutral\n",
      "Name: Result, Length: 2099, dtype: object\n",
      "(2099,)\n"
     ]
    }
   ],
   "source": [
    "print(y_train)\n",
    "print(y_train.shape)"
   ]
  },
  {
   "cell_type": "code",
   "execution_count": 151,
   "id": "086f9c27",
   "metadata": {},
   "outputs": [
    {
     "name": "stdout",
     "output_type": "stream",
     "text": [
      "1706        Sad\n",
      "401     Neutral\n",
      "1748      Happy\n",
      "1674      Anger\n",
      "914        Fear\n",
      "         ...   \n",
      "1930    Neutral\n",
      "1766      Anger\n",
      "547        Fear\n",
      "2365        Sad\n",
      "2112        Sad\n",
      "Name: Result, Length: 900, dtype: object\n",
      "(900,)\n"
     ]
    }
   ],
   "source": [
    "print(y_test)\n",
    "print(y_test.shape)"
   ]
  },
  {
   "cell_type": "code",
   "execution_count": 152,
   "id": "b934e075",
   "metadata": {},
   "outputs": [
    {
     "name": "stdout",
     "output_type": "stream",
     "text": [
      "Accuracy: 0.7544444444444445\n"
     ]
    }
   ],
   "source": []
  },
  {
   "cell_type": "code",
   "execution_count": null,
   "id": "9707d4cd",
   "metadata": {},
   "outputs": [],
   "source": []
  },
  {
   "cell_type": "code",
   "execution_count": 139,
   "id": "9973e4bd",
   "metadata": {},
   "outputs": [
    {
     "ename": "ModuleNotFoundError",
     "evalue": "No module named 'hrv_library'",
     "output_type": "error",
     "traceback": [
      "\u001b[1;31m---------------------------------------------------------------------------\u001b[0m",
      "\u001b[1;31mModuleNotFoundError\u001b[0m                       Traceback (most recent call last)",
      "Cell \u001b[1;32mIn[139], line 2\u001b[0m\n\u001b[0;32m      1\u001b[0m \u001b[38;5;66;03m# Build and train HRV model (replace this with actual HRV algorithm implementation)\u001b[39;00m\n\u001b[1;32m----> 2\u001b[0m \u001b[38;5;28;01mfrom\u001b[39;00m \u001b[38;5;21;01mhrv_library\u001b[39;00m \u001b[38;5;28;01mimport\u001b[39;00m HRVModel\n\u001b[0;32m      3\u001b[0m hrv_model \u001b[38;5;241m=\u001b[39m HRVModel()\n\u001b[0;32m      4\u001b[0m hrv_model\u001b[38;5;241m.\u001b[39mfit(x_train, y_train)\n",
      "\u001b[1;31mModuleNotFoundError\u001b[0m: No module named 'hrv_library'"
     ]
    }
   ],
   "source": [
    "\n",
    "# Build and train HRV model (replace this with actual HRV algorithm implementation)\n",
    "from hrv_library import HRVModel\n",
    "hrv_model = HRVModel()\n",
    "hrv_model.fit(x_train, y_train)\n",
    "\n",
    "# Evaluate model performance (replace this with actual evaluation)\n",
    "y_pred = hrv_model.predict(x_test)\n",
    "accuracy = accuracy_score(y_test, y_pred)\n",
    "print(\"Accuracy of HRV model:\", accuracy)"
   ]
  },
  {
   "cell_type": "code",
   "execution_count": null,
   "id": "58a3cb7d",
   "metadata": {},
   "outputs": [],
   "source": [
    "pip install nes-py"
   ]
  },
  {
   "cell_type": "code",
   "execution_count": null,
   "id": "880af398",
   "metadata": {},
   "outputs": [],
   "source": [
    "pip install nes-py --no-cache-dir\n"
   ]
  },
  {
   "cell_type": "code",
   "execution_count": null,
   "id": "ad4ad6fe",
   "metadata": {},
   "outputs": [],
   "source": []
  },
  {
   "cell_type": "code",
   "execution_count": 140,
   "id": "64c33714",
   "metadata": {},
   "outputs": [
    {
     "name": "stdout",
     "output_type": "stream",
     "text": [
      "Requirement already satisfied: pip in c:\\users\\hp\\anaconda3\\lib\\site-packages (24.0)\n",
      "Requirement already satisfied: setuptools in c:\\users\\hp\\anaconda3\\lib\\site-packages (69.5.1)\n",
      "Requirement already satisfied: wheel in c:\\users\\hp\\anaconda3\\lib\\site-packages (0.43.0)\n",
      "Note: you may need to restart the kernel to use updated packages.\n"
     ]
    }
   ],
   "source": [
    "\n",
    "pip install --upgrade pip setuptools wheel\n"
   ]
  },
  {
   "cell_type": "code",
   "execution_count": 141,
   "id": "5beb2c1e",
   "metadata": {},
   "outputs": [
    {
     "name": "stdout",
     "output_type": "stream",
     "text": [
      "Requirement already satisfied: h5py in c:\\users\\hp\\anaconda3\\lib\\site-packages (3.9.0)\n",
      "Requirement already satisfied: numpy>=1.17.3 in c:\\users\\hp\\anaconda3\\lib\\site-packages (from h5py) (1.24.3)\n",
      "Note: you may need to restart the kernel to use updated packages.\n"
     ]
    }
   ],
   "source": [
    "pip install h5py\n"
   ]
  },
  {
   "cell_type": "code",
   "execution_count": 142,
   "id": "3e4c0428",
   "metadata": {},
   "outputs": [
    {
     "name": "stdout",
     "output_type": "stream",
     "text": [
      "Requirement already satisfied: typing-extensions in c:\\users\\hp\\anaconda3\\lib\\site-packages (4.7.1)\n",
      "Note: you may need to restart the kernel to use updated packages.\n"
     ]
    }
   ],
   "source": [
    "pip install typing-extensions\n"
   ]
  },
  {
   "cell_type": "code",
   "execution_count": 143,
   "id": "94374a35",
   "metadata": {},
   "outputs": [
    {
     "name": "stdout",
     "output_type": "stream",
     "text": [
      "Requirement already satisfied: wheel in c:\\users\\hp\\anaconda3\\lib\\site-packages (0.43.0)\n",
      "Note: you may need to restart the kernel to use updated packages.\n"
     ]
    }
   ],
   "source": [
    "pip install wheel"
   ]
  },
  {
   "cell_type": "code",
   "execution_count": 144,
   "id": "8ed9e326",
   "metadata": {},
   "outputs": [
    {
     "name": "stdout",
     "output_type": "stream",
     "text": [
      "Requirement already satisfied: Cmake in c:\\users\\hp\\anaconda3\\lib\\site-packages (3.29.3)\n",
      "Note: you may need to restart the kernel to use updated packages.\n"
     ]
    }
   ],
   "source": [
    "pip install Cmake"
   ]
  },
  {
   "cell_type": "code",
   "execution_count": 145,
   "id": "326dfa24",
   "metadata": {},
   "outputs": [
    {
     "name": "stdout",
     "output_type": "stream",
     "text": [
      "Requirement already satisfied: setuptools in c:\\users\\hp\\anaconda3\\lib\\site-packages (69.5.1)\n",
      "Requirement already satisfied: wheel in c:\\users\\hp\\anaconda3\\lib\\site-packages (0.43.0)\n",
      "Note: you may need to restart the kernel to use updated packages.\n"
     ]
    }
   ],
   "source": [
    "pip install --upgrade setuptools wheel"
   ]
  },
  {
   "cell_type": "code",
   "execution_count": null,
   "id": "138ff830",
   "metadata": {},
   "outputs": [],
   "source": []
  },
  {
   "cell_type": "code",
   "execution_count": null,
   "id": "0505ce39",
   "metadata": {},
   "outputs": [],
   "source": [
    "\n"
   ]
  },
  {
   "cell_type": "code",
   "execution_count": 146,
   "id": "248323eb",
   "metadata": {},
   "outputs": [
    {
     "name": "stdout",
     "output_type": "stream",
     "text": [
      "Collecting hrv\n",
      "  Using cached hrv-0.2.10-py2.py3-none-any.whl.metadata (2.4 kB)\n",
      "Requirement already satisfied: matplotlib>=2.2.2 in c:\\users\\hp\\anaconda3\\lib\\site-packages (from hrv) (3.7.2)\n",
      "Requirement already satisfied: numpy>=1.14.4 in c:\\users\\hp\\anaconda3\\lib\\site-packages (from hrv) (1.24.3)\n",
      "Requirement already satisfied: scipy>=1.1.0 in c:\\users\\hp\\anaconda3\\lib\\site-packages (from hrv) (1.11.1)\n",
      "Collecting spectrum>=0.7.3 (from hrv)\n",
      "  Using cached spectrum-0.8.1.tar.gz (230 kB)\n",
      "  Preparing metadata (setup.py): started\n",
      "  Preparing metadata (setup.py): finished with status 'done'\n",
      "Requirement already satisfied: contourpy>=1.0.1 in c:\\users\\hp\\anaconda3\\lib\\site-packages (from matplotlib>=2.2.2->hrv) (1.0.5)\n",
      "Requirement already satisfied: cycler>=0.10 in c:\\users\\hp\\anaconda3\\lib\\site-packages (from matplotlib>=2.2.2->hrv) (0.11.0)\n",
      "Requirement already satisfied: fonttools>=4.22.0 in c:\\users\\hp\\anaconda3\\lib\\site-packages (from matplotlib>=2.2.2->hrv) (4.25.0)\n",
      "Requirement already satisfied: kiwisolver>=1.0.1 in c:\\users\\hp\\anaconda3\\lib\\site-packages (from matplotlib>=2.2.2->hrv) (1.4.4)\n",
      "Requirement already satisfied: packaging>=20.0 in c:\\users\\hp\\anaconda3\\lib\\site-packages (from matplotlib>=2.2.2->hrv) (23.1)\n",
      "Requirement already satisfied: pillow>=6.2.0 in c:\\users\\hp\\anaconda3\\lib\\site-packages (from matplotlib>=2.2.2->hrv) (9.4.0)\n",
      "Requirement already satisfied: pyparsing<3.1,>=2.3.1 in c:\\users\\hp\\anaconda3\\lib\\site-packages (from matplotlib>=2.2.2->hrv) (3.0.9)\n",
      "Requirement already satisfied: python-dateutil>=2.7 in c:\\users\\hp\\anaconda3\\lib\\site-packages (from matplotlib>=2.2.2->hrv) (2.8.2)\n",
      "Collecting easydev (from spectrum>=0.7.3->hrv)\n",
      "  Using cached easydev-0.13.2-py3-none-any.whl.metadata (3.5 kB)\n",
      "Requirement already satisfied: six>=1.5 in c:\\users\\hp\\anaconda3\\lib\\site-packages (from python-dateutil>=2.7->matplotlib>=2.2.2->hrv) (1.16.0)\n",
      "Requirement already satisfied: colorama<0.5.0,>=0.4.6 in c:\\users\\hp\\anaconda3\\lib\\site-packages (from easydev->spectrum>=0.7.3->hrv) (0.4.6)\n",
      "Collecting colorlog<7.0.0,>=6.8.2 (from easydev->spectrum>=0.7.3->hrv)\n",
      "  Using cached colorlog-6.8.2-py3-none-any.whl.metadata (10 kB)\n",
      "Collecting line-profiler<5.0.0,>=4.1.2 (from easydev->spectrum>=0.7.3->hrv)\n",
      "  Using cached line_profiler-4.1.3-cp311-cp311-win_amd64.whl.metadata (35 kB)\n",
      "Collecting pexpect<5.0.0,>=4.9.0 (from easydev->spectrum>=0.7.3->hrv)\n",
      "  Using cached pexpect-4.9.0-py2.py3-none-any.whl.metadata (2.5 kB)\n",
      "Collecting platformdirs<5.0.0,>=4.2.0 (from easydev->spectrum>=0.7.3->hrv)\n",
      "  Using cached platformdirs-4.2.2-py3-none-any.whl.metadata (11 kB)\n",
      "Requirement already satisfied: ptyprocess>=0.5 in c:\\users\\hp\\anaconda3\\lib\\site-packages (from pexpect<5.0.0,>=4.9.0->easydev->spectrum>=0.7.3->hrv) (0.7.0)\n",
      "Using cached hrv-0.2.10-py2.py3-none-any.whl (20 kB)\n",
      "Using cached easydev-0.13.2-py3-none-any.whl (56 kB)\n",
      "Using cached colorlog-6.8.2-py3-none-any.whl (11 kB)\n",
      "Using cached line_profiler-4.1.3-cp311-cp311-win_amd64.whl (126 kB)\n",
      "Using cached pexpect-4.9.0-py2.py3-none-any.whl (63 kB)\n",
      "Using cached platformdirs-4.2.2-py3-none-any.whl (18 kB)\n",
      "Building wheels for collected packages: spectrum\n",
      "  Building wheel for spectrum (setup.py): started\n",
      "  Building wheel for spectrum (setup.py): finished with status 'error'\n",
      "  Running setup.py clean for spectrum\n",
      "Failed to build spectrum\n",
      "Note: you may need to restart the kernel to use updated packages.\n"
     ]
    },
    {
     "name": "stderr",
     "output_type": "stream",
     "text": [
      "  error: subprocess-exited-with-error\n",
      "  \n",
      "  python setup.py bdist_wheel did not run successfully.\n",
      "  exit code: 1\n",
      "  \n",
      "  [45 lines of output]\n",
      "  running bdist_wheel\n",
      "  running build\n",
      "  running build_py\n",
      "  creating build\n",
      "  creating build\\lib.win-amd64-cpython-311\n",
      "  creating build\\lib.win-amd64-cpython-311\\cpp\n",
      "  copying src\\cpp\\__init__.py -> build\\lib.win-amd64-cpython-311\\cpp\n",
      "  creating build\\lib.win-amd64-cpython-311\\spectrum\n",
      "  copying src\\spectrum\\arma.py -> build\\lib.win-amd64-cpython-311\\spectrum\n",
      "  copying src\\spectrum\\burg.py -> build\\lib.win-amd64-cpython-311\\spectrum\n",
      "  copying src\\spectrum\\cholesky.py -> build\\lib.win-amd64-cpython-311\\spectrum\n",
      "  copying src\\spectrum\\correlation.py -> build\\lib.win-amd64-cpython-311\\spectrum\n",
      "  copying src\\spectrum\\correlog.py -> build\\lib.win-amd64-cpython-311\\spectrum\n",
      "  copying src\\spectrum\\covar.py -> build\\lib.win-amd64-cpython-311\\spectrum\n",
      "  copying src\\spectrum\\criteria.py -> build\\lib.win-amd64-cpython-311\\spectrum\n",
      "  copying src\\spectrum\\datasets.py -> build\\lib.win-amd64-cpython-311\\spectrum\n",
      "  copying src\\spectrum\\eigen.py -> build\\lib.win-amd64-cpython-311\\spectrum\n",
      "  copying src\\spectrum\\eigenfre.py -> build\\lib.win-amd64-cpython-311\\spectrum\n",
      "  copying src\\spectrum\\errors.py -> build\\lib.win-amd64-cpython-311\\spectrum\n",
      "  copying src\\spectrum\\io.py -> build\\lib.win-amd64-cpython-311\\spectrum\n",
      "  copying src\\spectrum\\levinson.py -> build\\lib.win-amd64-cpython-311\\spectrum\n",
      "  copying src\\spectrum\\linalg.py -> build\\lib.win-amd64-cpython-311\\spectrum\n",
      "  copying src\\spectrum\\linear_prediction.py -> build\\lib.win-amd64-cpython-311\\spectrum\n",
      "  copying src\\spectrum\\lpc.py -> build\\lib.win-amd64-cpython-311\\spectrum\n",
      "  copying src\\spectrum\\minvar.py -> build\\lib.win-amd64-cpython-311\\spectrum\n",
      "  copying src\\spectrum\\modcovar.py -> build\\lib.win-amd64-cpython-311\\spectrum\n",
      "  copying src\\spectrum\\mtm.py -> build\\lib.win-amd64-cpython-311\\spectrum\n",
      "  copying src\\spectrum\\periodogram.py -> build\\lib.win-amd64-cpython-311\\spectrum\n",
      "  copying src\\spectrum\\psd.py -> build\\lib.win-amd64-cpython-311\\spectrum\n",
      "  copying src\\spectrum\\spectrogram.py -> build\\lib.win-amd64-cpython-311\\spectrum\n",
      "  copying src\\spectrum\\toeplitz.py -> build\\lib.win-amd64-cpython-311\\spectrum\n",
      "  copying src\\spectrum\\tools.py -> build\\lib.win-amd64-cpython-311\\spectrum\n",
      "  copying src\\spectrum\\transfer.py -> build\\lib.win-amd64-cpython-311\\spectrum\n",
      "  copying src\\spectrum\\waveform.py -> build\\lib.win-amd64-cpython-311\\spectrum\n",
      "  copying src\\spectrum\\window.py -> build\\lib.win-amd64-cpython-311\\spectrum\n",
      "  copying src\\spectrum\\yulewalker.py -> build\\lib.win-amd64-cpython-311\\spectrum\n",
      "  copying src\\spectrum\\__init__.py -> build\\lib.win-amd64-cpython-311\\spectrum\n",
      "  creating build\\lib.win-amd64-cpython-311\\spectrum\\data\n",
      "  copying src\\spectrum\\data\\__init__.py -> build\\lib.win-amd64-cpython-311\\spectrum\\data\n",
      "  copying src\\spectrum\\data\\DOLPHINS.wav -> build\\lib.win-amd64-cpython-311\\spectrum\\data\n",
      "  copying src\\spectrum\\data\\sunspot.dat -> build\\lib.win-amd64-cpython-311\\spectrum\\data\n",
      "  copying src\\spectrum\\data\\sunspot_monthly.dat -> build\\lib.win-amd64-cpython-311\\spectrum\\data\n",
      "  running build_ext\n",
      "  building 'spectrum.mydpss' extension\n",
      "  error: Microsoft Visual C++ 14.0 or greater is required. Get it with \"Microsoft C++ Build Tools\": https://visualstudio.microsoft.com/visual-cpp-build-tools/\n",
      "  [end of output]\n",
      "  \n",
      "  note: This error originates from a subprocess, and is likely not a problem with pip.\n",
      "  ERROR: Failed building wheel for spectrum\n",
      "ERROR: Could not build wheels for spectrum, which is required to install pyproject.toml-based projects\n"
     ]
    }
   ],
   "source": [
    "pip install hrv"
   ]
  },
  {
   "cell_type": "code",
   "execution_count": null,
   "id": "0e62475a",
   "metadata": {},
   "outputs": [],
   "source": []
  },
  {
   "cell_type": "code",
   "execution_count": 147,
   "id": "bdbeecd6",
   "metadata": {},
   "outputs": [
    {
     "name": "stdout",
     "output_type": "stream",
     "text": [
      "Note: you may need to restart the kernel to use updated packages.\n"
     ]
    },
    {
     "name": "stderr",
     "output_type": "stream",
     "text": [
      "ERROR: Could not find a version that satisfies the requirement hrvanalysis (from versions: none)\n",
      "ERROR: No matching distribution found for hrvanalysis\n"
     ]
    }
   ],
   "source": [
    "pip install hrvanalysis\n"
   ]
  },
  {
   "cell_type": "code",
   "execution_count": 148,
   "id": "b00231c2",
   "metadata": {},
   "outputs": [
    {
     "name": "stdout",
     "output_type": "stream",
     "text": [
      "Note: you may need to restart the kernel to use updated packages.\n"
     ]
    },
    {
     "name": "stderr",
     "output_type": "stream",
     "text": [
      "ERROR: Could not find a version that satisfies the requirement hrv_library (from versions: none)\n",
      "ERROR: No matching distribution found for hrv_library\n"
     ]
    }
   ],
   "source": [
    "pip install hrv_library"
   ]
  },
  {
   "cell_type": "code",
   "execution_count": 149,
   "id": "4bba83e5",
   "metadata": {},
   "outputs": [
    {
     "ename": "ModuleNotFoundError",
     "evalue": "No module named 'hrv'",
     "output_type": "error",
     "traceback": [
      "\u001b[1;31m---------------------------------------------------------------------------\u001b[0m",
      "\u001b[1;31mModuleNotFoundError\u001b[0m                       Traceback (most recent call last)",
      "Cell \u001b[1;32mIn[149], line 1\u001b[0m\n\u001b[1;32m----> 1\u001b[0m \u001b[38;5;28;01mimport\u001b[39;00m \u001b[38;5;21;01mhrv\u001b[39;00m\n",
      "\u001b[1;31mModuleNotFoundError\u001b[0m: No module named 'hrv'"
     ]
    }
   ],
   "source": [
    "import hrv"
   ]
  },
  {
   "cell_type": "markdown",
   "id": "315c8418",
   "metadata": {},
   "source": [
    "# Maximum Margin Classification (MMC) using 8 moods "
   ]
  },
  {
   "cell_type": "code",
   "execution_count": 153,
   "id": "1d83d67b",
   "metadata": {},
   "outputs": [],
   "source": [
    "import pandas as pd\n",
    "from sklearn.model_selection import train_test_split\n",
    "from sklearn.metrics import accuracy_score\n",
    "from sklearn.preprocessing import LabelEncoder, StandardScaler\n",
    "# import the HRV algorithm library\n"
   ]
  },
  {
   "cell_type": "code",
   "execution_count": 164,
   "id": "7fcae94e",
   "metadata": {},
   "outputs": [
    {
     "name": "stdout",
     "output_type": "stream",
     "text": [
      "   Heart Rate  Pulse Rate  Temperature  Skin Senstivity\n",
      "0        80.0        61.0         96.9              1.6\n",
      "1        92.0        63.0         97.8              0.2\n",
      "2        88.0        84.0         99.4              3.3\n",
      "3        76.0        72.0         98.6              3.4\n",
      "4        95.0        83.0         99.3              1.2\n",
      "      Heart Rate  Pulse Rate  Temperature  Skin Senstivity\n",
      "0           80.0        61.0         96.9              1.6\n",
      "1           92.0        63.0         97.8              0.2\n",
      "2           88.0        84.0         99.4              3.3\n",
      "3           76.0        72.0         98.6              3.4\n",
      "4           95.0        83.0         99.3              1.2\n",
      "...          ...         ...          ...              ...\n",
      "2994        67.0        78.0         98.4              0.3\n",
      "2995        91.0        68.0         99.4              0.7\n",
      "2996        81.0        63.0         99.3              0.9\n",
      "2997        84.0        67.0         98.1              1.1\n",
      "2998        91.0        90.0         98.3              3.1\n",
      "\n",
      "[2999 rows x 4 columns]\n"
     ]
    }
   ],
   "source": [
    "from sklearn.model_selection import train_test_split\n",
    "from sklearn.preprocessing import LabelEncoder, StandardScaler\n",
    "from sklearn.neural_network import MLPClassifier\n",
    "from sklearn.metrics import accuracy_score\n",
    "data=pd.read_csv('8moods of child.csv')\n",
    "data.head()\n",
    "data.isnull().sum()\n",
    "data['Heart Rate'].fillna(data['Heart Rate'].mean(),inplace=True)\n",
    "data['Pulse Rate'].fillna(data['Pulse Rate'].mean(),inplace=True)\n",
    "data['Temperature'].fillna(data['Temperature'].mean(),inplace=True)\n",
    "data['Skin Senstivity'].fillna(data['Skin Senstivity'].mean(),inplace=True)\n",
    "data.isnull().sum()\n",
    "x=data.iloc[:,0:4]\n",
    "print(x.head())\n",
    "\n",
    "\n",
    "print(x)"
   ]
  },
  {
   "cell_type": "code",
   "execution_count": 165,
   "id": "b13bc598",
   "metadata": {},
   "outputs": [
    {
     "name": "stdout",
     "output_type": "stream",
     "text": [
      "0           Sad\n",
      "1         Happy\n",
      "2         Anger\n",
      "3          Fear\n",
      "4         Happy\n",
      "         ...   \n",
      "2994    Neutral\n",
      "2995      Happy\n",
      "2996      Happy\n",
      "2997      Happy\n",
      "2998       Fear\n",
      "Name: Result, Length: 2999, dtype: object\n",
      "0      Sad\n",
      "1    Happy\n",
      "2    Anger\n",
      "3     Fear\n",
      "4    Happy\n",
      "Name: Result, dtype: object\n",
      "(2999,)\n"
     ]
    }
   ],
   "source": [
    "# train test split \n",
    "y=data.iloc[:,-1]\n",
    "print(y)\n",
    "print(y.head())\n",
    "print(y.shape)"
   ]
  },
  {
   "cell_type": "code",
   "execution_count": 166,
   "id": "3c79dde7",
   "metadata": {},
   "outputs": [],
   "source": [
    "# train test split\n",
    "from sklearn.model_selection import train_test_split\n",
    "x_train,x_test,y_train,y_test=train_test_split(x,y,test_size=0.3,random_state=2)"
   ]
  },
  {
   "cell_type": "code",
   "execution_count": 167,
   "id": "c4e6b19d",
   "metadata": {},
   "outputs": [
    {
     "name": "stdout",
     "output_type": "stream",
     "text": [
      "      Heart Rate  Pulse Rate  Temperature  Skin Senstivity\n",
      "1139        95.0        78.0         98.5              1.4\n",
      "606         91.0        80.0         99.6              2.9\n",
      "2549        73.0        80.0         97.4              1.4\n",
      "1161        71.0        75.0         97.0              2.4\n",
      "1003        64.0       110.0         98.7              3.3\n",
      "...          ...         ...          ...              ...\n",
      "2514        85.0        76.0         99.4              4.0\n",
      "2347        74.0        62.0         97.2              2.2\n",
      "1608        90.0        97.0         98.7              3.6\n",
      "2541        86.0        82.0         99.2              4.3\n",
      "2575        93.0        70.0         97.0              3.6\n",
      "\n",
      "[2099 rows x 4 columns]\n",
      "(2099, 4)\n"
     ]
    }
   ],
   "source": [
    "print(x_train)\n",
    "print(x_train.shape)"
   ]
  },
  {
   "cell_type": "code",
   "execution_count": 168,
   "id": "51b55010",
   "metadata": {},
   "outputs": [
    {
     "name": "stdout",
     "output_type": "stream",
     "text": [
      "      Heart Rate  Pulse Rate  Temperature  Skin Senstivity\n",
      "1706        65.0        95.0         98.2              2.3\n",
      "401         88.0        83.0         99.3              4.2\n",
      "1748        63.0       110.0         99.3              2.3\n",
      "1674        70.0        76.0         98.1              3.5\n",
      "914         73.0        75.0         98.1              0.5\n",
      "...          ...         ...          ...              ...\n",
      "1930        71.0        74.0         98.5              0.9\n",
      "1766        77.0        73.0         98.6              0.7\n",
      "547         75.0       106.0         98.1              4.0\n",
      "2365        67.0        77.0         97.8              0.5\n",
      "2112        78.0        84.0         98.5              2.0\n",
      "\n",
      "[900 rows x 4 columns]\n",
      "(900, 4)\n"
     ]
    }
   ],
   "source": [
    "print(x_test)\n",
    "print(x_test.shape)"
   ]
  },
  {
   "cell_type": "code",
   "execution_count": 169,
   "id": "695b14d5",
   "metadata": {},
   "outputs": [
    {
     "name": "stdout",
     "output_type": "stream",
     "text": [
      "1706     Stress\n",
      "401       Anger\n",
      "1748     Stress\n",
      "1674       Fear\n",
      "914     Neutral\n",
      "         ...   \n",
      "1930    Neutral\n",
      "1766    Neutral\n",
      "547      Stress\n",
      "2365    Neutral\n",
      "2112       Fear\n",
      "Name: Result, Length: 900, dtype: object\n",
      "(900,)\n"
     ]
    }
   ],
   "source": [
    "print(y_test)\n",
    "print(y_test.shape)"
   ]
  },
  {
   "cell_type": "code",
   "execution_count": 170,
   "id": "531e7225",
   "metadata": {},
   "outputs": [
    {
     "name": "stdout",
     "output_type": "stream",
     "text": [
      "1139      Happy\n",
      "606       Anger\n",
      "2549        Sad\n",
      "1161       Fear\n",
      "1003     Stress\n",
      "         ...   \n",
      "2514     Guilty\n",
      "2347        Sad\n",
      "1608    Neutral\n",
      "2541    Neutral\n",
      "2575       Fear\n",
      "Name: Result, Length: 2099, dtype: object\n",
      "(2099,)\n"
     ]
    }
   ],
   "source": [
    "print(y_train)\n",
    "print(y_train.shape)"
   ]
  },
  {
   "cell_type": "code",
   "execution_count": 171,
   "id": "81f36eb5",
   "metadata": {},
   "outputs": [
    {
     "name": "stdout",
     "output_type": "stream",
     "text": [
      "Accuracy: 0.7422222222222222\n"
     ]
    }
   ],
   "source": [
    "# Importing necessary libraries\n",
    "from sklearn.svm import SVC\n",
    "from sklearn.model_selection import train_test_split\n",
    "from sklearn.metrics import accuracy_score\n",
    "from sklearn.preprocessing import StandardScaler\n",
    "\n",
    "# Assuming x_train, x_test, y_train, y_test are already defined\n",
    "\n",
    "# Step 1: Preprocess the dataset (Handle missing values, normalize data, etc.)\n",
    "# Here, we'll handle missing values and normalize the data using StandardScaler\n",
    "scaler = StandardScaler()\n",
    "x_train_scaled = scaler.fit_transform(x_train)\n",
    "x_test_scaled = scaler.transform(x_test)\n",
    "\n",
    "# Step 2: Initialize SVM classifier\n",
    "svm_classifier = SVC(kernel='linear', C=1.0)  # Linear SVM with regularization parameter C=1.0\n",
    "\n",
    "# Step 3: Train the SVM classifier\n",
    "svm_classifier.fit(x_train_scaled, y_train)\n",
    "\n",
    "# Step 4: Predict the labels for test data\n",
    "y_pred = svm_classifier.predict(x_test_scaled)\n",
    "\n",
    "# Step 5: Evaluate the model\n",
    "accuracy = accuracy_score(y_test, y_pred)\n",
    "print(\"Accuracy:\", accuracy)\n"
   ]
  },
  {
   "cell_type": "markdown",
   "id": "71c871d2",
   "metadata": {},
   "source": [
    "# Maximum Margin Classification (MMC) using 10 moods "
   ]
  },
  {
   "cell_type": "code",
   "execution_count": 172,
   "id": "43ddce76",
   "metadata": {},
   "outputs": [],
   "source": [
    "import pandas as pd\n",
    "from sklearn.model_selection import train_test_split\n",
    "from sklearn.metrics import accuracy_score\n",
    "from sklearn.preprocessing import LabelEncoder, StandardScaler\n",
    "# import the HRV algorithm library\n"
   ]
  },
  {
   "cell_type": "code",
   "execution_count": 174,
   "id": "a9047d5a",
   "metadata": {},
   "outputs": [
    {
     "name": "stdout",
     "output_type": "stream",
     "text": [
      "   Heart Rate  Pulse Rate  Temperature  Skin Senstivity\n",
      "0        70.0        86.0         98.0              3.2\n",
      "1        60.0        85.0         96.9              0.9\n",
      "2        80.0        84.0         98.7              1.8\n",
      "3        67.0        74.0         98.9              3.0\n",
      "4        64.0        79.0         96.8              2.3\n",
      "      Heart Rate  Pulse Rate  Temperature  Skin Senstivity\n",
      "0           70.0        86.0         98.0              3.2\n",
      "1           60.0        85.0         96.9              0.9\n",
      "2           80.0        84.0         98.7              1.8\n",
      "3           67.0        74.0         98.9              3.0\n",
      "4           64.0        79.0         96.8              2.3\n",
      "...          ...         ...          ...              ...\n",
      "2994        73.0        87.0         98.6              1.9\n",
      "2995        82.0        70.0         98.2              2.5\n",
      "2996        71.0        71.0         97.5              3.0\n",
      "2997        68.0        71.0         99.3              4.8\n",
      "2998        60.0        86.0         97.9              4.7\n",
      "\n",
      "[2999 rows x 4 columns]\n"
     ]
    }
   ],
   "source": [
    "from sklearn.model_selection import train_test_split\n",
    "from sklearn.preprocessing import LabelEncoder, StandardScaler\n",
    "from sklearn.neural_network import MLPClassifier\n",
    "from sklearn.metrics import accuracy_score\n",
    "data=pd.read_csv('mood of child.csv')\n",
    "data.head()\n",
    "data.isnull().sum()\n",
    "data['Heart Rate'].fillna(data['Heart Rate'].mean(),inplace=True)\n",
    "data['Pulse Rate'].fillna(data['Pulse Rate'].mean(),inplace=True)\n",
    "data['Temperature'].fillna(data['Temperature'].mean(),inplace=True)\n",
    "data['Skin Senstivity'].fillna(data['Skin Senstivity'].mean(),inplace=True)\n",
    "data.isnull().sum()\n",
    "x=data.iloc[:,0:4]\n",
    "print(x.head())\n",
    "\n",
    "\n",
    "print(x)"
   ]
  },
  {
   "cell_type": "code",
   "execution_count": 175,
   "id": "e5a82458",
   "metadata": {},
   "outputs": [
    {
     "name": "stdout",
     "output_type": "stream",
     "text": [
      "0             Fear\n",
      "1              Sad\n",
      "2            Shame\n",
      "3            Shame\n",
      "4             Fear\n",
      "           ...    \n",
      "2994         Guilt\n",
      "2995       Excited\n",
      "2996          Fear\n",
      "2997    Depression\n",
      "2998    Depression\n",
      "Name: Result, Length: 2999, dtype: object\n",
      "0     Fear\n",
      "1      Sad\n",
      "2    Shame\n",
      "3    Shame\n",
      "4     Fear\n",
      "Name: Result, dtype: object\n",
      "(2999,)\n"
     ]
    }
   ],
   "source": [
    "# train test split \n",
    "y=data.iloc[:,-1]\n",
    "print(y)\n",
    "print(y.head())\n",
    "print(y.shape)"
   ]
  },
  {
   "cell_type": "code",
   "execution_count": 176,
   "id": "40dcadcf",
   "metadata": {},
   "outputs": [],
   "source": [
    "# train test split\n",
    "from sklearn.model_selection import train_test_split\n",
    "x_train,x_test,y_train,y_test=train_test_split(x,y,test_size=0.3,random_state=2)"
   ]
  },
  {
   "cell_type": "code",
   "execution_count": 177,
   "id": "e5b960b3",
   "metadata": {},
   "outputs": [
    {
     "name": "stdout",
     "output_type": "stream",
     "text": [
      "      Heart Rate  Pulse Rate  Temperature  Skin Senstivity\n",
      "1139        69.0        99.0         98.5          4.10000\n",
      "606         81.0        86.0         99.3          4.30000\n",
      "2549        61.0        76.0         97.9          0.70000\n",
      "1161        83.0        95.0         99.1          5.00000\n",
      "1003        65.0        67.0         98.3          0.60000\n",
      "...          ...         ...          ...              ...\n",
      "2514        63.0        89.0         98.7          2.26613\n",
      "2347        66.0        84.0         97.7          2.26613\n",
      "1608        86.0        79.0         98.1          3.90000\n",
      "2541        65.0        79.0         97.6          1.90000\n",
      "2575        83.0       106.0         98.7          3.00000\n",
      "\n",
      "[2099 rows x 4 columns]\n",
      "(2099, 4)\n"
     ]
    }
   ],
   "source": [
    "print(x_train)\n",
    "print(x_train.shape)"
   ]
  },
  {
   "cell_type": "code",
   "execution_count": 178,
   "id": "5008b0a8",
   "metadata": {},
   "outputs": [
    {
     "name": "stdout",
     "output_type": "stream",
     "text": [
      "      Heart Rate  Pulse Rate  Temperature  Skin Senstivity\n",
      "1706        82.0        87.0         98.7              2.3\n",
      "401         75.0        60.0         98.5              0.6\n",
      "1748        72.0        99.0         98.7              3.3\n",
      "1674        76.0        61.0         96.4              1.2\n",
      "914         77.0        74.0         98.3              1.2\n",
      "...          ...         ...          ...              ...\n",
      "1930        84.0        80.0         99.7              3.7\n",
      "1766        86.0        93.0         99.4              3.3\n",
      "547         89.0        76.0         98.8              3.4\n",
      "2365        71.0        61.0         99.4              2.3\n",
      "2112        71.0        73.0         96.8              1.7\n",
      "\n",
      "[900 rows x 4 columns]\n",
      "(900, 4)\n"
     ]
    }
   ],
   "source": [
    "print(x_test)\n",
    "print(x_test.shape)"
   ]
  },
  {
   "cell_type": "code",
   "execution_count": 179,
   "id": "dd16c134",
   "metadata": {},
   "outputs": [
    {
     "name": "stdout",
     "output_type": "stream",
     "text": [
      "1706    Excited\n",
      "401     Neutral\n",
      "1748      Shame\n",
      "1674        Sad\n",
      "914       Happy\n",
      "         ...   \n",
      "1930      Anger\n",
      "1766    Excited\n",
      "547     Excited\n",
      "2365      Happy\n",
      "2112        Sad\n",
      "Name: Result, Length: 900, dtype: object\n",
      "(900,)\n"
     ]
    }
   ],
   "source": [
    "print(y_test)\n",
    "print(y_test.shape)"
   ]
  },
  {
   "cell_type": "code",
   "execution_count": 180,
   "id": "94beb4f1",
   "metadata": {},
   "outputs": [
    {
     "name": "stdout",
     "output_type": "stream",
     "text": [
      "1139    Depression\n",
      "606        Excited\n",
      "2549       Neutral\n",
      "1161         Anger\n",
      "1003         Happy\n",
      "           ...    \n",
      "2514         Happy\n",
      "2347           Sad\n",
      "1608         Anger\n",
      "2541         Guilt\n",
      "2575       Excited\n",
      "Name: Result, Length: 2099, dtype: object\n",
      "(2099,)\n"
     ]
    }
   ],
   "source": [
    "print(y_train)\n",
    "print(y_train.shape)"
   ]
  },
  {
   "cell_type": "code",
   "execution_count": 181,
   "id": "e10da24e",
   "metadata": {},
   "outputs": [
    {
     "name": "stdout",
     "output_type": "stream",
     "text": [
      "Accuracy: 0.4688888888888889\n"
     ]
    }
   ],
   "source": [
    "# Importing necessary libraries\n",
    "from sklearn.svm import SVC\n",
    "from sklearn.model_selection import train_test_split\n",
    "from sklearn.metrics import accuracy_score\n",
    "from sklearn.preprocessing import StandardScaler\n",
    "\n",
    "# Assuming x_train, x_test, y_train, y_test are already defined\n",
    "\n",
    "# Step 1: Preprocess the dataset (Handle missing values, normalize data, etc.)\n",
    "# Here, we'll handle missing values and normalize the data using StandardScaler\n",
    "scaler = StandardScaler()\n",
    "x_train_scaled = scaler.fit_transform(x_train)\n",
    "x_test_scaled = scaler.transform(x_test)\n",
    "\n",
    "# Step 2: Initialize SVM classifier\n",
    "svm_classifier = SVC(kernel='linear', C=1.0)  # Linear SVM with regularization parameter C=1.0\n",
    "\n",
    "# Step 3: Train the SVM classifier\n",
    "svm_classifier.fit(x_train_scaled, y_train)\n",
    "\n",
    "# Step 4: Predict the labels for test data\n",
    "y_pred = svm_classifier.predict(x_test_scaled)\n",
    "\n",
    "# Step 5: Evaluate the model\n",
    "accuracy = accuracy_score(y_test, y_pred)\n",
    "print(\"Accuracy:\", accuracy)\n"
   ]
  },
  {
   "cell_type": "code",
   "execution_count": null,
   "id": "ab5eb917",
   "metadata": {},
   "outputs": [],
   "source": []
  }
 ],
 "metadata": {
  "kernelspec": {
   "display_name": "Python 3 (ipykernel)",
   "language": "python",
   "name": "python3"
  },
  "language_info": {
   "codemirror_mode": {
    "name": "ipython",
    "version": 3
   },
   "file_extension": ".py",
   "mimetype": "text/x-python",
   "name": "python",
   "nbconvert_exporter": "python",
   "pygments_lexer": "ipython3",
   "version": "3.11.5"
  }
 },
 "nbformat": 4,
 "nbformat_minor": 5
}
